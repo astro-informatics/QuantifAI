{
 "cells": [
  {
   "cell_type": "code",
   "execution_count": 1,
   "metadata": {
    "collapsed": false
   },
   "outputs": [
    {
     "name": "stdout",
     "output_type": "stream",
     "text": [
      "True\n",
      "1\n",
      "0\n",
      "NVIDIA A100-PCIE-40GB\n"
     ]
    }
   ],
   "source": [
    "import os\n",
    "import numpy as np\n",
    "from functools import partial\n",
    "import math\n",
    "import time as time\n",
    "\n",
    "import torch\n",
    "\n",
    "M1 = False\n",
    "\n",
    "if M1:\n",
    "    device = torch.device(\"mps\" if torch.backends.mps.is_available() else \"cpu\")\n",
    "else:\n",
    "    os.environ[\"CUDA_VISIBLE_DEVICES\"] = \"2\"\n",
    "    device = torch.device(\"cuda\" if torch.cuda.is_available() else \"cpu\")\n",
    "    if torch.cuda.is_available():\n",
    "        print(torch.cuda.is_available())\n",
    "        print(torch.cuda.device_count())\n",
    "        print(torch.cuda.current_device())\n",
    "        print(torch.cuda.get_device_name(torch.cuda.current_device()))\n",
    "\n",
    "\n",
    "import quantifai as qai\n",
    "from quantifai.utils import to_numpy, to_tensor\n",
    "from convex_reg import utils as utils_cvx_reg"
   ]
  },
  {
   "cell_type": "code",
   "execution_count": 2,
   "metadata": {},
   "outputs": [],
   "source": [
    "img_name = \"W28\"  # 'M31'\n",
    "# Input noise level\n",
    "input_snr = 30.0"
   ]
  },
  {
   "cell_type": "markdown",
   "metadata": {},
   "source": [
    "# Benchmark CRR-NN-based model's optimisation"
   ]
  },
  {
   "cell_type": "code",
   "execution_count": 5,
   "metadata": {},
   "outputs": [],
   "source": [
    "# Optimisation options for the MAP estimation\n",
    "options = {\"tol\": 1e-5, \"iter\": 15000, \"update_iter\": 4999, \"record_iters\": False}\n",
    "# Save param\n",
    "repo_dir = \"./../..\"\n",
    "\n",
    "# Define my torch types (CRR requires torch.float32)\n",
    "myType = torch.float32\n",
    "myComplexType = torch.complex64\n",
    "\n",
    "# CRR load parameters\n",
    "sigma_training = 5\n",
    "t_model = 5\n",
    "CRR_dir_name = \"./../../trained_models/\"\n",
    "# CRR parameters\n",
    "lmbd = 5e4\n",
    "mu = 20"
   ]
  },
  {
   "cell_type": "markdown",
   "metadata": {},
   "source": [
    "# Build observations and operators"
   ]
  },
  {
   "cell_type": "code",
   "execution_count": 6,
   "metadata": {},
   "outputs": [],
   "source": [
    "# Load image and mask\n",
    "img, mat_mask = qai.helpers.load_imgs(img_name, repo_dir)\n",
    "\n",
    "# Aliases\n",
    "x = img\n",
    "ground_truth = img\n",
    "\n",
    "torch_img = torch.tensor(np.copy(img), dtype=myType, device=device).reshape(\n",
    "    (1, 1) + img.shape\n",
    ")\n",
    "\n",
    "phi = qai.operators.MaskedFourier_torch(\n",
    "    shape=img.shape, ratio=0.5, mask=mat_mask, norm=\"ortho\", device=device\n",
    ")\n",
    "\n",
    "y = phi.dir_op(torch_img).detach().cpu().squeeze().numpy()\n",
    "\n",
    "# Define X Cai noise level\n",
    "eff_sigma = qai.helpers.compute_complex_sigma_noise(y, input_snr)\n",
    "sigma = eff_sigma * np.sqrt(2)\n",
    "\n",
    "# Generate noise\n",
    "rng = np.random.default_rng(seed=0)\n",
    "n_re = rng.normal(0, eff_sigma, y[y != 0].shape)\n",
    "n_im = rng.normal(0, eff_sigma, y[y != 0].shape)\n",
    "# Add noise\n",
    "y[y != 0] += n_re + 1.0j * n_im\n",
    "\n",
    "# Observation\n",
    "torch_y = torch.tensor(np.copy(y), device=device, dtype=myComplexType).reshape(\n",
    "    (1,) + img.shape\n",
    ")\n",
    "x_init = torch.abs(phi.adj_op(torch_y))"
   ]
  },
  {
   "cell_type": "markdown",
   "metadata": {},
   "source": [
    "# Define likelihood and prior"
   ]
  },
  {
   "cell_type": "code",
   "execution_count": 7,
   "metadata": {},
   "outputs": [
    {
     "name": "stdout",
     "output_type": "stream",
     "text": [
      "--- loading checkpoint from epoch 10 ---\n",
      "---------------------\n",
      "Building a CRR-NN model with \n",
      " - [1, 8, 32] channels \n",
      " - linear_spline activation functions\n",
      "  (LinearSpline(mode=conv, num_activations=32, init=zero, size=21, grid=0.010, monotonic_constraint=True.))\n",
      "---------------------\n",
      "Numbers of parameters before prunning: 13610\n",
      "---------------------\n",
      " PRUNNING \n",
      " Found 22 filters with non-vanishing potential functions\n",
      "---------------------\n",
      "Numbers of parameters after prunning: 4183\n",
      "Lipschitz bound 0.780\n"
     ]
    }
   ],
   "source": [
    "# %%\n",
    "# Define the likelihood\n",
    "likelihood = qai.operators.L2Norm_torch(\n",
    "    sigma=sigma,\n",
    "    data=torch_y,\n",
    "    Phi=phi,\n",
    ")\n",
    "# Lipschitz constant computed automatically by g, stored in g.beta\n",
    "\n",
    "# Define real prox\n",
    "prox_op = qai.operators.RealProx_torch()\n",
    "\n",
    "\n",
    "# %%\n",
    "# Load CRR model\n",
    "torch.set_grad_enabled(False)\n",
    "torch.set_num_threads(4)\n",
    "\n",
    "exp_name = f\"Sigma_{sigma_training}_t_{t_model}/\"\n",
    "if device.type == \"cpu\":\n",
    "    CRR_model = utils_cvx_reg.load_model(\n",
    "        CRR_dir_name + exp_name, \"cpu\", device_type=\"cpu\"\n",
    "    )\n",
    "elif device.type == \"cuda\":\n",
    "    CRR_model = utils_cvx_reg.load_model(\n",
    "        CRR_dir_name + exp_name, \"cuda\", device_type=\"gpu\"\n",
    "    )\n",
    "\n",
    "\n",
    "print(f\"Numbers of parameters before prunning: {CRR_model.num_params}\")\n",
    "CRR_model.prune()\n",
    "print(f\"Numbers of parameters after prunning: {CRR_model.num_params}\")\n",
    "\n",
    "\n",
    "# [not required] intialize the eigen vector of dimension (size, size) associated to the largest eigen value\n",
    "CRR_model.initializeEigen(size=100)\n",
    "# compute bound via a power iteration which couples the activations and the convolutions\n",
    "L_CRR = CRR_model.precise_lipschitz_bound(n_iter=100)\n",
    "# the bound is stored in the model\n",
    "# L_CRR = model.L.data.item()\n",
    "print(f\"Lipschitz bound {L_CRR:.3f}\")"
   ]
  },
  {
   "cell_type": "markdown",
   "metadata": {},
   "source": [
    "# Run optimisation algorithm anc compute the MAP reconstruction"
   ]
  },
  {
   "cell_type": "code",
   "execution_count": 8,
   "metadata": {},
   "outputs": [
    {
     "name": "stdout",
     "output_type": "stream",
     "text": [
      "[GD] 0 out of 15000 iterations, tol = 0.102651\n",
      "[GD] converged in 544 iterations\n"
     ]
    }
   ],
   "source": [
    "# Compute stepsize\n",
    "alpha = 0.98 / (likelihood.beta + mu * lmbd * L_CRR)\n",
    "\n",
    "x_hat = qai.optim.FISTA_CRR_torch(\n",
    "    x_init=x_init,\n",
    "    options=options,\n",
    "    likelihood=likelihood,\n",
    "    prox_op=prox_op,\n",
    "    CRR_model=CRR_model,\n",
    "    alpha=alpha,\n",
    "    lmbd=lmbd,\n",
    "    mu=mu,\n",
    ")"
   ]
  },
  {
   "cell_type": "code",
   "execution_count": 9,
   "metadata": {},
   "outputs": [
    {
     "name": "stdout",
     "output_type": "stream",
     "text": [
      "[GD] 0 out of 15000 iterations, tol = 0.102651\n",
      "[GD] converged in 544 iterations\n",
      "[GD] 0 out of 15000 iterations, tol = 0.102651\n",
      "[GD] converged in 544 iterations\n",
      "[GD] 0 out of 15000 iterations, tol = 0.102651\n",
      "[GD] converged in 544 iterations\n",
      "[GD] 0 out of 15000 iterations, tol = 0.102651\n",
      "[GD] converged in 544 iterations\n",
      "[GD] 0 out of 15000 iterations, tol = 0.102651\n",
      "[GD] converged in 544 iterations\n",
      "[GD] 0 out of 15000 iterations, tol = 0.102651\n",
      "[GD] converged in 544 iterations\n",
      "[GD] 0 out of 15000 iterations, tol = 0.102651\n",
      "[GD] converged in 544 iterations\n",
      "[GD] 0 out of 15000 iterations, tol = 0.102651\n",
      "[GD] converged in 544 iterations\n",
      "634 ms ± 574 µs per loop (mean ± std. dev. of 7 runs, 1 loop each)\n"
     ]
    }
   ],
   "source": [
    "%%timeit\n",
    "\n",
    "x_hat = qai.optim.FISTA_CRR_torch(\n",
    "    x_init=x_init,\n",
    "    options=options,\n",
    "    likelihood=likelihood,\n",
    "    prox_op=prox_op,\n",
    "    CRR_model=CRR_model,\n",
    "    alpha=alpha,\n",
    "    lmbd=lmbd,\n",
    "    mu=mu,\n",
    ")\n",
    "\n"
   ]
  },
  {
   "cell_type": "code",
   "execution_count": 10,
   "metadata": {},
   "outputs": [],
   "source": [
    "# %%\n",
    "np_x_init = to_numpy(x_init)\n",
    "np_x = np.copy(x)\n",
    "np_x_hat = to_numpy(x_hat)"
   ]
  },
  {
   "cell_type": "code",
   "execution_count": 11,
   "metadata": {},
   "outputs": [
    {
     "name": "stdout",
     "output_type": "stream",
     "text": [
      "Dirty image SNR:  3.39\n",
      "Dirty image SNR:  26.85\n"
     ]
    }
   ],
   "source": [
    "print(\"Dirty image SNR: \", qai.utils.eval_snr(np_x, np_x_init))\n",
    "print(\"Dirty image SNR: \", qai.utils.eval_snr(np_x, np_x_hat))"
   ]
  },
  {
   "cell_type": "markdown",
   "metadata": {},
   "source": [
    "# Benchmark wavelet-based model optimisation\n"
   ]
  },
  {
   "cell_type": "code",
   "execution_count": 25,
   "metadata": {},
   "outputs": [],
   "source": [
    "# Optimisation options for the MAP estimation\n",
    "options = {\"tol\": 1e-5, \"iter\": 15000, \"update_iter\": 4999, \"record_iters\": False}\n",
    "# Save param\n",
    "repo_dir = \"./../..\"\n",
    "\n",
    "\n",
    "# Define my torch types (CRR requires torch.float32, wavelets require torch.float64)\n",
    "myType = torch.float64\n",
    "myComplexType = torch.complex128\n",
    "\n",
    "# Wavelet parameters\n",
    "reg_params = [1e2]  # [5e2] # [5e2, 5e1, 1e3, 5e3, 1e4, 5e4]\n",
    "wavs_list = [\"db1\", \"db2\", \"db3\", \"db4\", \"db5\", \"db6\", \"db7\", \"db8\", \"self\"] # [\"db8\"]\n",
    "levels = 4"
   ]
  },
  {
   "cell_type": "code",
   "execution_count": 26,
   "metadata": {},
   "outputs": [],
   "source": [
    "# %%\n",
    "# Load image and mask\n",
    "img, mat_mask = qai.helpers.load_imgs(img_name, repo_dir)\n",
    "\n",
    "# Aliases\n",
    "x = img\n",
    "ground_truth = img\n",
    "\n",
    "torch_img = torch.tensor(np.copy(img), dtype=myType, device=device).reshape(\n",
    "    (1, 1) + img.shape\n",
    ")\n",
    "\n",
    "phi = qai.operators.MaskedFourier_torch(\n",
    "    shape=img.shape, ratio=0.5, mask=mat_mask, norm=\"ortho\", device=device\n",
    ")\n",
    "\n",
    "y = phi.dir_op(torch_img).detach().cpu().squeeze().numpy()\n",
    "\n",
    "# Define X Cai noise level\n",
    "eff_sigma = qai.helpers.compute_complex_sigma_noise(y, input_snr)\n",
    "sigma = eff_sigma * np.sqrt(2)\n",
    "\n",
    "# Generate noise\n",
    "rng = np.random.default_rng(seed=0)\n",
    "n_re = rng.normal(0, eff_sigma, y[y != 0].shape)\n",
    "n_im = rng.normal(0, eff_sigma, y[y != 0].shape)\n",
    "# Add noise\n",
    "y[y != 0] += n_re + 1.0j * n_im\n",
    "\n",
    "# Observation\n",
    "torch_y = torch.tensor(np.copy(y), device=device, dtype=myComplexType).reshape(\n",
    "    (1,) + img.shape\n",
    ")\n",
    "x_init = torch.abs(phi.adj_op(torch_y))"
   ]
  },
  {
   "cell_type": "code",
   "execution_count": 27,
   "metadata": {},
   "outputs": [
    {
     "name": "stdout",
     "output_type": "stream",
     "text": [
      "Threshold:  0.0005199805582999931\n"
     ]
    }
   ],
   "source": [
    "# %%\n",
    "# Define the likelihood\n",
    "likelihood = qai.operators.L2Norm_torch(\n",
    "    sigma=sigma,\n",
    "    data=torch_y,\n",
    "    Phi=phi,\n",
    ")\n",
    "# Lipschitz constant computed automatically by g, stored in g.beta\n",
    "\n",
    "# Define real prox\n",
    "cvx_set_prox_op = qai.operators.RealProx_torch()\n",
    "\n",
    "# %%\n",
    "\n",
    "\n",
    "# Prior parameters\n",
    "reg_param = 1e2\n",
    "\n",
    "# Define the wavelet dict\n",
    "# Define the l1 norm with dict psi\n",
    "psi = qai.operators.DictionaryWv_torch(wavs_list, levels, shape=x_init.shape)\n",
    "reg_prox_op = qai.operators.L1Norm_torch(1.0, psi, op_to_coeffs=True)\n",
    "reg_prox_op.gamma = reg_param\n",
    "\n",
    "# Compute stepsize\n",
    "alpha = 0.98 / likelihood.beta\n",
    "\n",
    "# Effective threshold\n",
    "print(\"Threshold: \", reg_prox_op.gamma * alpha)"
   ]
  },
  {
   "cell_type": "code",
   "execution_count": 28,
   "metadata": {},
   "outputs": [
    {
     "name": "stdout",
     "output_type": "stream",
     "text": [
      "Running FISTA algorithm\n",
      "[Forward Backward] 0 out of 15000 iterations, tol = 5.24e-01\n",
      "[Forward Backward] converged in 230 iterations\n"
     ]
    }
   ],
   "source": [
    "# Run the optimisation\n",
    "x_hat_FISTA, diagnostics = qai.optim.FISTA_torch(\n",
    "    torch.clone(x_init),\n",
    "    options=options,\n",
    "    likelihood=likelihood,\n",
    "    cvx_set_prox_op=cvx_set_prox_op,\n",
    "    reg_prox_op=reg_prox_op,\n",
    "    alpha=alpha,\n",
    "    tau=alpha,\n",
    "    viewer=None,\n",
    ")"
   ]
  },
  {
   "cell_type": "code",
   "execution_count": 29,
   "metadata": {},
   "outputs": [
    {
     "name": "stdout",
     "output_type": "stream",
     "text": [
      "Running FISTA algorithm\n",
      "[Forward Backward] 0 out of 15000 iterations, tol = 5.24e-01\n",
      "[Forward Backward] converged in 230 iterations\n",
      "Running FISTA algorithm\n",
      "[Forward Backward] 0 out of 15000 iterations, tol = 5.24e-01\n",
      "[Forward Backward] converged in 230 iterations\n",
      "Running FISTA algorithm\n",
      "[Forward Backward] 0 out of 15000 iterations, tol = 5.24e-01\n",
      "[Forward Backward] converged in 230 iterations\n",
      "Running FISTA algorithm\n",
      "[Forward Backward] 0 out of 15000 iterations, tol = 5.24e-01\n",
      "[Forward Backward] converged in 230 iterations\n",
      "Running FISTA algorithm\n",
      "[Forward Backward] 0 out of 15000 iterations, tol = 5.24e-01\n",
      "[Forward Backward] converged in 230 iterations\n",
      "Running FISTA algorithm\n",
      "[Forward Backward] 0 out of 15000 iterations, tol = 5.24e-01\n",
      "[Forward Backward] converged in 230 iterations\n",
      "Running FISTA algorithm\n",
      "[Forward Backward] 0 out of 15000 iterations, tol = 5.24e-01\n",
      "[Forward Backward] converged in 230 iterations\n",
      "Running FISTA algorithm\n",
      "[Forward Backward] 0 out of 15000 iterations, tol = 5.24e-01\n",
      "[Forward Backward] converged in 230 iterations\n",
      "7.31 s ± 17.9 ms per loop (mean ± std. dev. of 7 runs, 1 loop each)\n"
     ]
    }
   ],
   "source": [
    "%%timeit\n",
    "\n",
    "# Run the optimisation\n",
    "x_hat_FISTA, diagnostics = qai.optim.FISTA_torch(\n",
    "    torch.clone(x_init),\n",
    "    options=options,\n",
    "    likelihood=likelihood,\n",
    "    cvx_set_prox_op=cvx_set_prox_op,\n",
    "    reg_prox_op=reg_prox_op,\n",
    "    alpha=alpha,\n",
    "    tau=alpha,\n",
    "    viewer=None,\n",
    ")"
   ]
  },
  {
   "cell_type": "code",
   "execution_count": 30,
   "metadata": {},
   "outputs": [],
   "source": [
    "# %%\n",
    "np_x_init = to_numpy(x_init)\n",
    "np_x = np.copy(x)\n",
    "np_x_hat = to_numpy(x_hat)"
   ]
  },
  {
   "cell_type": "code",
   "execution_count": 31,
   "metadata": {},
   "outputs": [
    {
     "name": "stdout",
     "output_type": "stream",
     "text": [
      "Dirty image SNR:  3.39\n",
      "Estimation image SNR:  26.85\n",
      "FISTA image SNR:  29.27\n"
     ]
    }
   ],
   "source": [
    "print(\"Dirty image SNR: \", qai.utils.eval_snr(np_x, np_x_init))\n",
    "print(\"Estimation image SNR: \", qai.utils.eval_snr(np_x, np_x_hat))\n",
    "\n",
    "print(\"FISTA image SNR: \", qai.utils.eval_snr(np_x, to_numpy(x_hat_FISTA)))"
   ]
  },
  {
   "cell_type": "code",
   "execution_count": null,
   "metadata": {},
   "outputs": [],
   "source": []
  },
  {
   "cell_type": "code",
   "execution_count": null,
   "metadata": {},
   "outputs": [],
   "source": []
  }
 ],
 "metadata": {
  "kernelspec": {
   "display_name": "convex_uq",
   "language": "python",
   "name": "python3"
  },
  "language_info": {
   "codemirror_mode": {
    "name": "ipython",
    "version": 3
   },
   "file_extension": ".py",
   "mimetype": "text/x-python",
   "name": "python",
   "nbconvert_exporter": "python",
   "pygments_lexer": "ipython3",
   "version": "3.9.16"
  },
  "vscode": {
   "interpreter": {
    "hash": "2bb75ebd6ceb1eff2ce987e124c91bc6f99e62fd1930d98a82dc138614104eef"
   }
  }
 },
 "nbformat": 4,
 "nbformat_minor": 0
}
