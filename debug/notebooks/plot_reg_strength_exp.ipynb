{
  "cells": [
    {
      "cell_type": "code",
      "execution_count": 2,
      "metadata": {
        "collapsed": false
      },
      "outputs": [],
      "source": [
        "import matplotlib.pyplot as plt\n",
        "import numpy as np\n",
        "import scipy.misc as misc \n",
        "import scipy.io as sio\n",
        "\n",
        "from skimage.metrics import peak_signal_noise_ratio as psnr\n",
        "from skimage.metrics import structural_similarity as ssim\n",
        "\n",
        "from matplotlib import pyplot as plt\n",
        "from mpl_toolkits.axes_grid1 import make_axes_locatable\n",
        "plt.style.use('dark_background')\n",
        "plt.rcParams[\"font.family\"] = \"serif\"\n",
        "\n",
        "def eval_snr(x, x_est):\n",
        "    if np.array_equal(x, x_est):\n",
        "        return 0\n",
        "    num = np.sqrt(np.sum(np.abs(x) ** 2))\n",
        "    den = np.sqrt(np.sum(np.abs(x - x_est) ** 2))\n",
        "    return round(20*np.log10(num/den), 2)\n"
      ]
    },
    {
      "cell_type": "code",
      "execution_count": 3,
      "metadata": {},
      "outputs": [
        {
          "name": "stdout",
          "output_type": "stream",
          "text": [
            "dict_keys(['__header__', '__version__', '__globals__', 'LCI_10_h_bound', 'LCI_10_l_bound', 'LCI_20_h_bound', 'LCI_20_l_bound', 'LCI_30_h_bound', 'LCI_30_l_bound', 'delta', 'dirty_im', 'f_x_map', 'g_x_map', 'gridSize', 'im', 'im_name', 'nlevel', 'sol_ana', 'stepSize', 'tau_alpha'])\n"
          ]
        }
      ],
      "source": [
        "matlab_output = './../matlab_output/modified_Cai_results.mat'\n",
        "# matlab_output = './../matlab_output/Cai_results.mat'\n",
        "\n",
        "cai_resutls = sio.loadmat(matlab_output)\n",
        "cai_resutls.keys()"
      ]
    },
    {
      "cell_type": "code",
      "execution_count": 3,
      "metadata": {},
      "outputs": [
        {
          "data": {
            "text/plain": [
              "array([[67981.57752119]])"
            ]
          },
          "execution_count": 3,
          "metadata": {},
          "output_type": "execute_result"
        }
      ],
      "source": [
        "\n",
        "cai_resutls['tau_alpha']"
      ]
    },
    {
      "cell_type": "code",
      "execution_count": 4,
      "metadata": {},
      "outputs": [
        {
          "name": "stdout",
          "output_type": "stream",
          "text": [
            "\n",
            "f(x_map):  417200.0308836563 \n",
            "g(x_map):  1774143.3659090172 \n",
            "tau_alpha*np.sqrt(N):  2445.5775211890286 \n",
            "N:  65536\n"
          ]
        }
      ],
      "source": [
        "savefig_dir = './../figs/'\n",
        "save_name = '{:s}_256_wavelet_modified_matlab'.format(str(cai_resutls['im_name'][0]))\n",
        "# save_name = '{:s}_256_wavelet_matlab'.format(str(cai_resutls['im_name'][0]))\n",
        "\n",
        "\n",
        "# Load variables\n",
        "x_init = np.abs(cai_resutls['dirty_im'])\n",
        "x = np.abs(cai_resutls['im'])\n",
        "x_hat_np = cai_resutls['sol_ana']\n",
        "N = cai_resutls['im'].size\n",
        "\n",
        "print(\n",
        "    '\\nf(x_map): ', cai_resutls['f_x_map'][0,0],\n",
        "    '\\ng(x_map): ', cai_resutls['g_x_map'][0,0],\n",
        "    '\\ntau_alpha*np.sqrt(N): ', cai_resutls['tau_alpha'][0,0]-N,\n",
        "    '\\nN: ', N,\n",
        ")"
      ]
    },
    {
      "cell_type": "code",
      "execution_count": 5,
      "metadata": {},
      "outputs": [
        {
          "name": "stdout",
          "output_type": "stream",
          "text": [
            "Dirty\n",
            "(PSNR: 27.45,\n",
            " SNR: 5.01, SSIM: 0.58)\n",
            "Reconstruction\n",
            "(PSNR: 36.73,\n",
            " SNR: 14.29, SSIM: 0.96)\n",
            "Residual (x - x^hat)\n",
            "(PSNR: 23.08,\n",
            " SNR: 0.64, SSIM: 0.82)\n"
          ]
        }
      ],
      "source": [
        "images = [x, x_init, x_hat_np, x-np.abs(x_hat_np)]\n",
        "labels = [\"Truth\", \"Dirty\", \"Reconstruction\", \"Residual (x - x^hat)\"]\n",
        "ground_truth = x\n",
        "\n",
        "# Plot results\n",
        "\n",
        "fig, axs = plt.subplots(1,4, figsize=(24,6), dpi=200)\n",
        "for i in range(4):\n",
        "    im = axs[i].imshow(images[i], cmap='cubehelix', vmax=np.nanmax(images[i]), vmin=np.nanmin(images[i]))\n",
        "    divider = make_axes_locatable(axs[i])\n",
        "    cax = divider.append_axes('right', size='5%', pad=0.05)\n",
        "    fig.colorbar(im, cax=cax, orientation='vertical')\n",
        "    if i > 0:   \n",
        "        stats_str = '\\n(PSNR: {},\\n SNR: {}, SSIM: {})'.format(\n",
        "            round(psnr(ground_truth, images[i],data_range=ground_truth.max()-ground_truth.min()), 2),\n",
        "            round(eval_snr(x, images[i]), 2),\n",
        "            round(ssim(ground_truth, images[i]), 2),\n",
        "            )\n",
        "        labels[i] += stats_str\n",
        "        print(labels[i])\n",
        "    axs[i].set_title(labels[i], fontsize=16)\n",
        "    axs[i].axis('off')\n",
        "plt.savefig('{:s}{:s}_MAP.pdf'.format(savefig_dir, save_name))\n",
        "plt.close()\n"
      ]
    },
    {
      "cell_type": "code",
      "execution_count": 6,
      "metadata": {},
      "outputs": [
        {
          "name": "stdout",
          "output_type": "stream",
          "text": [
            "superpix_size:  10\n",
            "superpix_size:  20\n",
            "superpix_size:  30\n"
          ]
        }
      ],
      "source": [
        "\n",
        "\n",
        "for it in range(cai_resutls['gridSize'].shape[1]):\n",
        "    superpix_size = cai_resutls['gridSize'][0,it]\n",
        "    print('superpix_size: ', superpix_size)\n",
        "\n",
        "    error_p = cai_resutls['LCI_{:d}_h_bound'.format(superpix_size)]\n",
        "    error_m = cai_resutls['LCI_{:d}_l_bound'.format(superpix_size)]\n",
        "    error_length = error_p - error_m\n",
        "\n",
        "    vmin = np.min((x, x_init, x_hat_np))\n",
        "    vmax = np.max((x, x_init, x_hat_np))\n",
        "    # err_vmax= 0.6\n",
        "    cmap='cubehelix'\n",
        "\n",
        "    plt.figure(figsize=(28,12))\n",
        "    plt.subplot(241)\n",
        "    plt.imshow(x, cmap=cmap, vmin=vmin, vmax=vmax);plt.colorbar()\n",
        "    plt.title('Ground truth')\n",
        "    plt.subplot(242)\n",
        "    plt.imshow(x_init, cmap=cmap, vmin=vmin, vmax=vmax);plt.colorbar()\n",
        "    plt.title('Dirty')\n",
        "    plt.subplot(243)\n",
        "    plt.imshow(x_hat_np, cmap=cmap, vmin=vmin, vmax=vmax);plt.colorbar()\n",
        "    plt.title('MAP estimator')\n",
        "    plt.subplot(244)\n",
        "    plt.imshow(x - x_hat_np, cmap=cmap);plt.colorbar()\n",
        "    plt.title('Ground truth - MAP estimator')\n",
        "    plt.subplot(245)\n",
        "    plt.imshow(error_length, cmap=cmap, vmin=0, vmax=0.3);plt.colorbar()\n",
        "    plt.title('LCI (max={:.5f})\\n (mean={:.5f})'.format(\n",
        "        np.max(error_length), np.mean(error_length))\n",
        "    )\n",
        "    plt.subplot(246)\n",
        "    plt.imshow(error_length - np.mean(error_length), cmap=cmap);plt.colorbar()\n",
        "    plt.title('LCI - <LCI>')\n",
        "    plt.savefig(\n",
        "        '{:s}{:s}_pixSize_{:d}.pdf'.format(savefig_dir, save_name, superpix_size)\n",
        "    )\n",
        "    plt.close()\n",
        "\n",
        "    \n",
        "    it+=1"
      ]
    },
    {
      "attachments": {},
      "cell_type": "markdown",
      "metadata": {},
      "source": [
        "## Compare function evaluations\n"
      ]
    },
    {
      "cell_type": "code",
      "execution_count": 23,
      "metadata": {},
      "outputs": [],
      "source": [
        "numpy_results = np.load('/Users/tliaudat/Documents/postdoc/github/large-scale-UQ/debug/output/M31_256_wavelet-db8_4_reg_10.0_results.npy', allow_pickle=True)[()]\n",
        "\n",
        "numpy_cai_results = np.load('/Users/tliaudat/Documents/postdoc/github/large-scale-UQ/debug/output/M31_256_wavelet-db8_4_reg_10.0_Cai_sol_results.npy', allow_pickle=True)[()]\n",
        "\n",
        "CRR_results = np.load('/Users/tliaudat/Documents/postdoc/github/large-scale-UQ/debug/output/M31_256_CRR_mu20_lmbd100_results.npy', allow_pickle=True)[()]\n"
      ]
    },
    {
      "cell_type": "code",
      "execution_count": 24,
      "metadata": {},
      "outputs": [
        {
          "name": "stdout",
          "output_type": "stream",
          "text": [
            "cai_resutls[f_x_map]: 417200.0\n",
            "cai_resutls[g_x_map]: 1774143.4\n",
            "cai_resutls[tau_alpha]: 67981.6\n",
            "\n",
            "numpy_cai_results[hpd_results][f_xmap]: 426906.7\n",
            "numpy_cai_results[hpd_results][g_xmap]: 9242.1\n",
            "numpy_cai_results[hpd_results][h_alpha_N]: 67981.6\n",
            "\n",
            "numpy_results[hpd_results][f_xmap]: 56577.5\n",
            "numpy_results[hpd_results][g_xmap]: 16377.7\n",
            "numpy_results[hpd_results][h_alpha_N]: 67981.6\n",
            "\n",
            "CRR_results[hpd_results][f_xmap]: 0.0\n",
            "CRR_results[hpd_results][g_xmap]: 74.9\n",
            "CRR_results[hpd_results][h_alpha_N]: 67981.6\n",
            "\n"
          ]
        }
      ],
      "source": [
        "print('cai_resutls[f_x_map]: {:.1f}'.format(cai_resutls['f_x_map'][0,0]))\n",
        "print('cai_resutls[g_x_map]: {:.1f}'.format(cai_resutls['g_x_map'][0,0]))\n",
        "print('cai_resutls[tau_alpha]: {:.1f}\\n'.format(cai_resutls['tau_alpha'][0,0]))\n",
        "\n",
        "print('numpy_cai_results[hpd_results][f_xmap]: {:.1f}'.format(numpy_cai_results['hpd_results']['f_xmap']))\n",
        "print('numpy_cai_results[hpd_results][g_xmap]: {:.1f}'.format(numpy_cai_results['hpd_results']['g_xmap']))\n",
        "print('numpy_cai_results[hpd_results][h_alpha_N]: {:.1f}\\n'.format(numpy_cai_results['hpd_results']['h_alpha_N']))\n",
        "\n",
        "print('numpy_results[hpd_results][f_xmap]: {:.1f}'.format(numpy_results['hpd_results']['f_xmap']))\n",
        "print('numpy_results[hpd_results][g_xmap]: {:.1f}'.format(numpy_results['hpd_results']['g_xmap']))\n",
        "print('numpy_results[hpd_results][h_alpha_N]: {:.1f}\\n'.format(numpy_results['hpd_results']['h_alpha_N']))\n",
        "\n",
        "print('CRR_results[hpd_results][f_xmap]: {:.1f}'.format(CRR_results['hpd_results']['f_xmap']))\n",
        "print('CRR_results[hpd_results][g_xmap]: {:.1f}'.format(CRR_results['hpd_results']['g_xmap']))\n",
        "print('CRR_results[hpd_results][h_alpha_N]: {:.1f}\\n'.format(CRR_results['hpd_results']['h_alpha_N']))\n",
        "\n"
      ]
    },
    {
      "cell_type": "code",
      "execution_count": 28,
      "metadata": {},
      "outputs": [
        {
          "data": {
            "text/plain": [
              "dict_keys(['x_map', 'opt_params', 'hpd_results', 'error_p_arr', 'error_m_arr', 'computing_time', 'superpix_sizes', 'LCI_params'])"
            ]
          },
          "execution_count": 28,
          "metadata": {},
          "output_type": "execute_result"
        }
      ],
      "source": [
        "\n",
        "CRR_results.keys()"
      ]
    },
    {
      "cell_type": "code",
      "execution_count": 33,
      "metadata": {},
      "outputs": [],
      "source": [
        "cp_x_map = np.copy(numpy_results['x_map'])\n",
        "save_dic = {\n",
        "    'cp_x_map': cp_x_map,\n",
        "}\n",
        "save_path = '/Users/tliaudat/Documents/postdoc/github/large-scale-UQ/debug/matlab_output/'\n",
        "sio.savemat(save_path+'np_xmap.mat', save_dic)"
      ]
    },
    {
      "cell_type": "code",
      "execution_count": null,
      "metadata": {},
      "outputs": [],
      "source": []
    },
    {
      "cell_type": "code",
      "execution_count": null,
      "metadata": {},
      "outputs": [],
      "source": []
    }
  ],
  "metadata": {
    "kernelspec": {
      "display_name": "convex_uq",
      "language": "python",
      "name": "python3"
    },
    "language_info": {
      "codemirror_mode": {
        "name": "ipython",
        "version": 3
      },
      "file_extension": ".py",
      "mimetype": "text/x-python",
      "name": "python",
      "nbconvert_exporter": "python",
      "pygments_lexer": "ipython3",
      "version": "3.9.15"
    },
    "vscode": {
      "interpreter": {
        "hash": "2bb75ebd6ceb1eff2ce987e124c91bc6f99e62fd1930d98a82dc138614104eef"
      }
    }
  },
  "nbformat": 4,
  "nbformat_minor": 0
}
