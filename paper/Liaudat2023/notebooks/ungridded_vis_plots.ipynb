{
 "cells": [
  {
   "cell_type": "code",
   "execution_count": null,
   "metadata": {},
   "outputs": [],
   "source": [
    "import numpy as np\n",
    "import matplotlib.pyplot as plt\n"
   ]
  },
  {
   "cell_type": "code",
   "execution_count": null,
   "metadata": {},
   "outputs": [],
   "source": [
    "repo_path = \"./../../../\"\n",
    "\n",
    "visibilities_paths = [\n",
    "    repo_path + \"data/meerkat_ungridded_vis/meerkat_simulation_1h_uv_only.npy\",\n",
    "    repo_path + \"data/meerkat_ungridded_vis/meerkat_simulation_2h_uv_only.npy\",\n",
    "    repo_path + \"data/meerkat_ungridded_vis/meerkat_simulation_4h_uv_only.npy\",\n",
    "    repo_path + \"data/meerkat_ungridded_vis/meerkat_simulation_8h_uv_only.npy\",\n",
    "]\n",
    "\n",
    "vis_time_list = [\n",
    "    \"1h\",\n",
    "    \"2h\",\n",
    "    \"4h\",\n",
    "    \"8h\",\n",
    "]\n",
    "\n",
    "save_dir = repo_path + \"data/meerkat_ungridded_vis/\"\n",
    "\n"
   ]
  },
  {
   "cell_type": "code",
   "execution_count": null,
   "metadata": {},
   "outputs": [],
   "source": []
  },
  {
   "cell_type": "code",
   "execution_count": null,
   "metadata": {},
   "outputs": [],
   "source": [
    "def multiple_formatter(denominator=2, number=np.pi, latex='\\pi'):\n",
    "    def gcd(a, b):\n",
    "        while b:\n",
    "            a, b = b, a%b\n",
    "        return a\n",
    "    def _multiple_formatter(x, pos):\n",
    "        den = denominator\n",
    "        num = int(np.rint(den*x/number))\n",
    "        com = gcd(num,den)\n",
    "        (num,den) = (int(num/com),int(den/com))\n",
    "        if den==1:\n",
    "            if num==0:\n",
    "                return r'$0$'\n",
    "            if num==1:\n",
    "                return r'$%s$'%latex\n",
    "            elif num==-1:\n",
    "                return r'$-%s$'%latex\n",
    "            else:\n",
    "                return r'$%s%s$'%(num,latex)\n",
    "        else:\n",
    "            if num==1:\n",
    "                return r'$\\frac{%s}{%s}$'%(latex,den)\n",
    "            elif num==-1:\n",
    "                return r'$\\frac{-%s}{%s}$'%(latex,den)\n",
    "            else:\n",
    "                return r'$\\frac{%s%s}{%s}$'%(num,latex,den)\n",
    "    return _multiple_formatter\n",
    "\n",
    "class Multiple:\n",
    "    def __init__(self, denominator=2, number=np.pi, latex='\\pi'):\n",
    "        self.denominator = denominator\n",
    "        self.number = number\n",
    "        self.latex = latex\n",
    "\n",
    "    def locator(self):\n",
    "        return plt.MultipleLocator(self.number / self.denominator)\n",
    "\n",
    "    def formatter(self):\n",
    "        return plt.FuncFormatter(multiple_formatter(self.denominator, self.number, self.latex))\n"
   ]
  },
  {
   "cell_type": "code",
   "execution_count": null,
   "metadata": {},
   "outputs": [],
   "source": [
    "\n",
    "\n",
    "# Plot UV coverage\n",
    "for it in range(len(visibilities_paths)):\n",
    "\n",
    "    uv_data = np.load(visibilities_paths[it], allow_pickle=True)[()]\n",
    "\n",
    "    vis_time = vis_time_list[it]\n",
    "        \n",
    "    uu_data = uv_data['uu']\n",
    "    vv_data = uv_data['vv']\n",
    "\n",
    "    print(\"Obs time: \", vis_time, \", shape: \", uu_data.shape)\n",
    "    print(\"Obs time: \", vis_time, \", shape: \", uu_data.shape)\n",
    "    \n",
    "    plt.figure(figsize=(10,8), dpi=200)\n",
    "    s = (np.arange(len(uu_data)) + 1) / (len(uu_data))\n",
    "    ax = plt.gca()\n",
    "    plt.scatter(uu_data, vv_data, s=s, alpha=0.75)\n",
    "    ax.xaxis.set_major_locator(plt.MultipleLocator(np.pi / 2))\n",
    "    ax.xaxis.set_major_formatter(plt.FuncFormatter(multiple_formatter()))\n",
    "    ax.yaxis.set_major_locator(plt.MultipleLocator(np.pi / 2))\n",
    "    ax.yaxis.set_major_formatter(plt.FuncFormatter(multiple_formatter()))\n",
    "\n",
    "    plt.xticks(fontsize=32)\n",
    "    plt.yticks(fontsize=32)\n",
    "\n",
    "    plt.xlabel(r\"u\", fontsize=36)\n",
    "    plt.ylabel(r\"v\", fontsize=36)\n",
    "    plt.tight_layout()\n",
    "    # plt.savefig(save_dir + \"meerkat_\" + vis_time + \"_uv_coverage.jpg\")\n",
    "    plt.show()\n",
    "    # plt.close()"
   ]
  },
  {
   "cell_type": "code",
   "execution_count": null,
   "metadata": {},
   "outputs": [],
   "source": []
  }
 ],
 "metadata": {
  "kernelspec": {
   "display_name": "convex_uq",
   "language": "python",
   "name": "python3"
  },
  "language_info": {
   "codemirror_mode": {
    "name": "ipython",
    "version": 3
   },
   "file_extension": ".py",
   "mimetype": "text/x-python",
   "name": "python",
   "nbconvert_exporter": "python",
   "pygments_lexer": "ipython3",
   "version": "3.9.16"
  }
 },
 "nbformat": 4,
 "nbformat_minor": 2
}
