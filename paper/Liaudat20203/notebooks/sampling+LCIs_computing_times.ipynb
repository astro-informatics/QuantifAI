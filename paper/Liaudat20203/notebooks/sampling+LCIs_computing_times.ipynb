{
  "cells": [
    {
      "cell_type": "code",
      "execution_count": 1,
      "metadata": {
        "collapsed": false
      },
      "outputs": [],
      "source": [
        "import matplotlib.pyplot as plt\n",
        "import numpy as np\n",
        "\n",
        "import time\n"
      ]
    },
    {
      "cell_type": "code",
      "execution_count": 2,
      "metadata": {},
      "outputs": [],
      "source": [
        "\n",
        "\n",
        "repo_dir = './../../..'\n",
        "\n",
        "new_wav_reg_strength = True\n",
        "\n",
        "CRR_save_dir = '/disk/xray0/tl3/outputs/large-scale-UQ/def_UQ_results/v2/CRR/paper_figs/'\n",
        "CRR_load_var_dir = '/disk/xray99/tl3/proj-convex-UQ/outputs/new_UQ_results/CRR/vars/'\n",
        "\n",
        "if new_wav_reg_strength:\n",
        "    # # New wavelet reg strength\n",
        "    # wav_save_dir = '/disk/xray0/tl3/outputs/large-scale-UQ/def_UQ_results/v2/wavelets_new_reg_strength/paper_figs/'\n",
        "    # wav_load_var_dir = '/disk/xray99/tl3/proj-convex-UQ/outputs/new_UQ_results/wavelets_new_reg_strength/vars/'\n",
        "    # New wavelet reg strength with FISTA\n",
        "    wav_save_dir = '/disk/xray99/tl3/outputs/large-scale-UQ/def_UQ_results/v2/wavelets_FISTA_new_reg_strength/paper_figs/'\n",
        "    wav_load_var_dir = '/disk/xray99/tl3/proj-convex-UQ/outputs/new_UQ_results/wavelets_FISTA_new_reg_strength/vars/'\n",
        "else:\n",
        "    # Original wavelet reg strength\n",
        "    wav_save_dir = '/disk/xray0/tl3/outputs/large-scale-UQ/def_UQ_results/v2/wavelets/paper_figs/'\n",
        "    wav_load_var_dir = '/disk/xray99/tl3/proj-convex-UQ/outputs/new_UQ_results/wavelets/vars/'\n",
        "\n",
        "\n",
        "\n",
        "cmap = 'cubehelix'\n",
        "cbar_font_size = 18\n",
        "box_font_size = 18\n",
        "\n",
        "CRR_map_vars_path_arr = [\n",
        "    CRR_load_var_dir+'CYN_CRR_UQ_MAP_lmbd_5.0e+04_MAP_vars.npy',\n",
        "    CRR_load_var_dir+'M31_CRR_UQ_MAP_lmbd_5.0e+04_MAP_vars.npy',\n",
        "    CRR_load_var_dir+'3c288_CRR_UQ_MAP_lmbd_5.0e+04_MAP_vars.npy',\n",
        "    CRR_load_var_dir+'W28_CRR_UQ_MAP_lmbd_5.0e+04_MAP_vars.npy',\n",
        "]\n",
        "CRR_samp_vars_path_arr = [\n",
        "    CRR_load_var_dir+'CYN_SKROCK_CRR_lmbd_5.0e+04_mu_2.0e+01_nsamples_5.0e+04_thinning_1.0e+01_vars.npy',\n",
        "    CRR_load_var_dir+'M31_SKROCK_CRR_lmbd_5.0e+04_mu_2.0e+01_nsamples_5.0e+04_thinning_1.0e+01_vars.npy',\n",
        "    CRR_load_var_dir+'3c288_SKROCK_CRR_lmbd_5.0e+04_mu_2.0e+01_nsamples_5.0e+04_thinning_1.0e+01_vars.npy',\n",
        "    CRR_load_var_dir+'W28_SKROCK_CRR_lmbd_5.0e+04_mu_2.0e+01_nsamples_5.0e+04_thinning_1.0e+01_vars.npy',    \n",
        "]\n",
        "\n",
        "if new_wav_reg_strength:\n",
        "    # New wavelet reg strength\n",
        "    wav_map_vars_path_arr = [\n",
        "        wav_load_var_dir+'CYN_wavelets_UQ_MAP_reg_param_1.0e+02_MAP_vars.npy',\n",
        "        wav_load_var_dir+'M31_wavelets_UQ_MAP_reg_param_1.0e+02_MAP_vars.npy',\n",
        "        wav_load_var_dir+'3c288_wavelets_UQ_MAP_reg_param_1.0e+02_MAP_vars.npy',\n",
        "        wav_load_var_dir+'W28_wavelets_UQ_MAP_reg_param_1.0e+02_MAP_vars.npy',\n",
        "    ]\n",
        "    wav_samp_vars_path_arr = [\n",
        "        wav_load_var_dir+'CYN_SKROCK_wavelets_reg_param_1.0e+02_nsamples_5.0e+04_thinning_1.0e+01_vars.npy',\n",
        "        wav_load_var_dir+'M31_SKROCK_wavelets_reg_param_1.0e+02_nsamples_5.0e+04_thinning_1.0e+01_vars.npy',\n",
        "        wav_load_var_dir+'3c288_SKROCK_wavelets_reg_param_1.0e+02_nsamples_5.0e+04_thinning_1.0e+01_vars.npy',\n",
        "        wav_load_var_dir+'W28_SKROCK_wavelets_reg_param_1.0e+02_nsamples_5.0e+04_thinning_1.0e+01_vars.npy',    \n",
        "    ]\n",
        "else:\n",
        "    # Original wavelet reg strength\n",
        "    wav_map_vars_path_arr = [\n",
        "        wav_load_var_dir+'CYN_wavelets_UQ_MAP_reg_param_5.0e+02_MAP_vars.npy',\n",
        "        wav_load_var_dir+'M31_wavelets_UQ_MAP_reg_param_5.0e+02_MAP_vars.npy',\n",
        "        wav_load_var_dir+'3c288_wavelets_UQ_MAP_reg_param_5.0e+02_MAP_vars.npy',\n",
        "        wav_load_var_dir+'W28_wavelets_UQ_MAP_reg_param_5.0e+02_MAP_vars.npy',\n",
        "    ]\n",
        "    wav_samp_vars_path_arr = [\n",
        "        wav_load_var_dir+'CYN_SKROCK_wavelets_reg_param_5.0e+02_nsamples_5.0e+04_thinning_1.0e+01_vars.npy',\n",
        "        wav_load_var_dir+'M31_SKROCK_wavelets_reg_param_5.0e+02_nsamples_5.0e+04_thinning_1.0e+01_vars.npy',\n",
        "        wav_load_var_dir+'3c288_SKROCK_wavelets_reg_param_5.0e+02_nsamples_5.0e+04_thinning_1.0e+01_vars.npy',\n",
        "        wav_load_var_dir+'W28_SKROCK_wavelets_reg_param_5.0e+02_nsamples_5.0e+04_thinning_1.0e+01_vars.npy',    \n",
        "    ]\n",
        "\n",
        "\n",
        "img_name_arr = [\n",
        "    'CYN',\n",
        "    'M31',\n",
        "    '3c288',\n",
        "    'W28',\n",
        "]\n",
        "\n"
      ]
    },
    {
      "cell_type": "code",
      "execution_count": 3,
      "metadata": {},
      "outputs": [
        {
          "name": "stdout",
          "output_type": "stream",
          "text": [
            "Using device: cuda\n"
          ]
        }
      ],
      "source": [
        "\n",
        "CRR_map_vars_path = CRR_map_vars_path_arr[3]\n",
        "CRR_samp_vars_path = CRR_samp_vars_path_arr[3]\n",
        "\n",
        "# Load variables\n",
        "CRR_map_vars = np.load(CRR_map_vars_path, allow_pickle=True)[()]\n",
        "CRR_samp_vars = np.load(CRR_samp_vars_path, allow_pickle=True)[()]\n",
        "\n",
        "\n",
        "wav_map_vars_path = wav_map_vars_path_arr[3]\n",
        "wav_samp_vars_path = wav_samp_vars_path_arr[3]\n",
        "\n",
        "# Load variables\n",
        "wav_map_vars = np.load(wav_map_vars_path, allow_pickle=True)[()]\n",
        "wav_samp_vars = np.load(wav_samp_vars_path, allow_pickle=True)[()]\n",
        "\n"
      ]
    },
    {
      "cell_type": "code",
      "execution_count": 4,
      "metadata": {},
      "outputs": [
        {
          "data": {
            "text/plain": [
              "dict_keys(['x_ground_truth', 'x_map', 'x_init', 'opt_params', 'hpd_results', 'error_p_arr', 'error_m_arr', 'mean_img_arr', 'gt_mean_img_arr', 'computing_time', 'superpix_sizes', 'LCI_params'])"
            ]
          },
          "execution_count": 4,
          "metadata": {},
          "output_type": "execute_result"
        }
      ],
      "source": [
        "CRR_map_vars.keys()"
      ]
    },
    {
      "cell_type": "code",
      "execution_count": 5,
      "metadata": {},
      "outputs": [
        {
          "data": {
            "text/plain": [
              "108.20010995864868"
            ]
          },
          "execution_count": 5,
          "metadata": {},
          "output_type": "execute_result"
        }
      ],
      "source": [
        "# Size 8x8 and wall-clock time \n",
        "CRR_map_vars['computing_time'][2][1]"
      ]
    },
    {
      "cell_type": "code",
      "execution_count": 6,
      "metadata": {},
      "outputs": [
        {
          "data": {
            "text/plain": [
              "149.66479754447937"
            ]
          },
          "execution_count": 6,
          "metadata": {},
          "output_type": "execute_result"
        }
      ],
      "source": [
        "# Size 8x8 and wall-clock time \n",
        "wav_map_vars['computing_time'][2][1]"
      ]
    },
    {
      "cell_type": "code",
      "execution_count": 7,
      "metadata": {},
      "outputs": [
        {
          "data": {
            "text/plain": [
              "dict_keys(['X_ground_truth', 'X_dirty', 'X_MAP', 'X_MMSE', 'post_meanvar', 'absfouriercoeff', 'logpi_thinning_trace', 'X', 'quantiles', 'st_dev_down', 'means_list', 'params', 'elapsed_time'])"
            ]
          },
          "execution_count": 7,
          "metadata": {},
          "output_type": "execute_result"
        }
      ],
      "source": [
        "CRR_samp_vars.keys()"
      ]
    },
    {
      "cell_type": "code",
      "execution_count": 8,
      "metadata": {},
      "outputs": [
        {
          "data": {
            "text/plain": [
              "6435.470473527908"
            ]
          },
          "execution_count": 8,
          "metadata": {},
          "output_type": "execute_result"
        }
      ],
      "source": [
        "CRR_samp_vars['elapsed_time']"
      ]
    },
    {
      "cell_type": "code",
      "execution_count": 9,
      "metadata": {},
      "outputs": [
        {
          "data": {
            "text/plain": [
              "36000.66018843651"
            ]
          },
          "execution_count": 9,
          "metadata": {},
          "output_type": "execute_result"
        }
      ],
      "source": [
        "wav_samp_vars['elapsed_time']"
      ]
    },
    {
      "cell_type": "code",
      "execution_count": 10,
      "metadata": {},
      "outputs": [
        {
          "data": {
            "text/plain": [
              "7.110000000000001"
            ]
          },
          "execution_count": 10,
          "metadata": {},
          "output_type": "execute_result"
        }
      ],
      "source": [
        "\n",
        "# Average SNR gain\n",
        "\n",
        "wav_snr = np.array([23.04, 25.52, 14.15, 17.53])\n",
        "crr_snr = np.array([26.85, 27.48, 24.10, 30.25])\n",
        "\n",
        "\n",
        "np.mean(crr_snr - wav_snr)\n"
      ]
    },
    {
      "cell_type": "code",
      "execution_count": null,
      "metadata": {},
      "outputs": [],
      "source": []
    }
  ],
  "metadata": {
    "kernelspec": {
      "display_name": "convex_uq",
      "language": "python",
      "name": "python3"
    },
    "language_info": {
      "codemirror_mode": {
        "name": "ipython",
        "version": 3
      },
      "file_extension": ".py",
      "mimetype": "text/x-python",
      "name": "python",
      "nbconvert_exporter": "python",
      "pygments_lexer": "ipython3",
      "version": "3.9.16"
    },
    "vscode": {
      "interpreter": {
        "hash": "2bb75ebd6ceb1eff2ce987e124c91bc6f99e62fd1930d98a82dc138614104eef"
      }
    }
  },
  "nbformat": 4,
  "nbformat_minor": 0
}
