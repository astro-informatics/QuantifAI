{
  "cells": [
    {
      "cell_type": "code",
      "execution_count": 2,
      "metadata": {
        "collapsed": false
      },
      "outputs": [],
      "source": [
        "import matplotlib.pyplot as plt\n",
        "import numpy as np\n",
        "\n",
        "import time\n"
      ]
    },
    {
      "cell_type": "code",
      "execution_count": 3,
      "metadata": {},
      "outputs": [],
      "source": [
        "\n",
        "\n",
        "repo_dir = '/disk/xray0/tl3/repos/large-scale-UQ'\n",
        "\n",
        "# CRR_save_dir = '/disk/xray0/tl3/outputs/large-scale-UQ/def_UQ_results/CRR/paper_figs_new_UQ/'\n",
        "# wav_save_dir = '/disk/xray0/tl3/outputs/large-scale-UQ/def_UQ_results/wavelets/paper_figs_new_UQ/'\n",
        "# load_var_dir = '/disk/xray0/tl3/outputs/large-scale-UQ/def_UQ_results/CRR/vars/'\n",
        "# wav_load_var_dir = '/disk/xray0/tl3/outputs/large-scale-UQ/def_UQ_results/wavelets/vars/'\n",
        "\n",
        "CRR_save_dir = '/disk/xray0/tl3/outputs/large-scale-UQ/def_UQ_results/v2/CRR/paper_figs/'\n",
        "wav_save_dir = '/disk/xray0/tl3/outputs/large-scale-UQ/def_UQ_results/v2/wavelets/paper_figs/'\n",
        "load_var_dir = '/disk/xray99/tl3/proj-convex-UQ/outputs/new_UQ_results/CRR/vars/'\n",
        "wav_load_var_dir = '/disk/xray99/tl3/proj-convex-UQ/outputs/new_UQ_results/wavelets/vars/'\n",
        "\n",
        "cmap = 'cubehelix'\n",
        "cbar_font_size = 18\n",
        "box_font_size = 18\n",
        "\n",
        "map_vars_path_arr = [\n",
        "    load_var_dir+'CYN_CRR_UQ_MAP_lmbd_5.0e+04_MAP_vars.npy',\n",
        "    load_var_dir+'M31_CRR_UQ_MAP_lmbd_5.0e+04_MAP_vars.npy',\n",
        "    load_var_dir+'3c288_CRR_UQ_MAP_lmbd_5.0e+04_MAP_vars.npy',\n",
        "    load_var_dir+'W28_CRR_UQ_MAP_lmbd_5.0e+04_MAP_vars.npy',\n",
        "]\n",
        "samp_vars_path_arr = [\n",
        "    load_var_dir+'CYN_SKROCK_CRR_lmbd_5.0e+04_mu_2.0e+01_nsamples_5.0e+04_thinning_1.0e+01_vars.npy',\n",
        "    load_var_dir+'M31_SKROCK_CRR_lmbd_5.0e+04_mu_2.0e+01_nsamples_5.0e+04_thinning_1.0e+01_vars.npy',\n",
        "    load_var_dir+'3c288_SKROCK_CRR_lmbd_5.0e+04_mu_2.0e+01_nsamples_5.0e+04_thinning_1.0e+01_vars.npy',\n",
        "    load_var_dir+'W28_SKROCK_CRR_lmbd_5.0e+04_mu_2.0e+01_nsamples_5.0e+04_thinning_1.0e+01_vars.npy',    \n",
        "]\n",
        "wav_map_vars_path_arr = [\n",
        "    wav_load_var_dir+'CYN_wavelets_UQ_MAP_reg_param_5.0e+02_MAP_vars.npy',\n",
        "    wav_load_var_dir+'M31_wavelets_UQ_MAP_reg_param_5.0e+02_MAP_vars.npy',\n",
        "    wav_load_var_dir+'3c288_wavelets_UQ_MAP_reg_param_5.0e+02_MAP_vars.npy',\n",
        "    wav_load_var_dir+'W28_wavelets_UQ_MAP_reg_param_5.0e+02_MAP_vars.npy',\n",
        "]\n",
        "wav_samp_vars_path_arr = [\n",
        "    wav_load_var_dir+'CYN_SKROCK_wavelets_reg_param_5.0e+02_nsamples_5.0e+04_thinning_1.0e+01_vars.npy',\n",
        "    wav_load_var_dir+'M31_SKROCK_wavelets_reg_param_5.0e+02_nsamples_5.0e+04_thinning_1.0e+01_vars.npy',\n",
        "    wav_load_var_dir+'3c288_SKROCK_wavelets_reg_param_5.0e+02_nsamples_5.0e+04_thinning_1.0e+01_vars.npy',\n",
        "    wav_load_var_dir+'W28_SKROCK_wavelets_reg_param_5.0e+02_nsamples_5.0e+04_thinning_1.0e+01_vars.npy',    \n",
        "]\n",
        "\n",
        "img_name_arr = [\n",
        "    'CYN',\n",
        "    'M31',\n",
        "    '3c288',\n",
        "    'W28',\n",
        "]\n",
        "\n"
      ]
    },
    {
      "cell_type": "code",
      "execution_count": 4,
      "metadata": {},
      "outputs": [
        {
          "name": "stdout",
          "output_type": "stream",
          "text": [
            "Using device: cuda\n"
          ]
        }
      ],
      "source": [
        "\n",
        "map_vars_path = map_vars_path_arr[3]\n",
        "samp_vars_path = samp_vars_path_arr[3]\n",
        "\n",
        "# Load variables\n",
        "map_vars = np.load(map_vars_path, allow_pickle=True)[()]\n",
        "samp_vars = np.load(samp_vars_path, allow_pickle=True)[()]\n",
        "\n",
        "\n",
        "wav_map_vars_path = wav_map_vars_path_arr[3]\n",
        "wav_samp_vars_path = wav_samp_vars_path_arr[3]\n",
        "\n",
        "# Load variables\n",
        "wav_map_vars = np.load(wav_map_vars_path, allow_pickle=True)[()]\n",
        "wav_samp_vars = np.load(wav_samp_vars_path, allow_pickle=True)[()]\n",
        "\n"
      ]
    },
    {
      "cell_type": "code",
      "execution_count": 9,
      "metadata": {},
      "outputs": [
        {
          "data": {
            "text/plain": [
              "dict_keys(['gt', 'map', 'thresholded_img', 'map_thresh_error_at_level', 'gt_map_error_at_level', 'SNR_at_level', 'SNR_at_lvl_map_vs_GT', 'computing_time_arr', 'n_iters_uq', 'config_dict'])"
            ]
          },
          "execution_count": 9,
          "metadata": {},
          "output_type": "execute_result"
        }
      ],
      "source": [
        "new_pix_UQ_path = '/disk/xray99/tl3/proj-convex-UQ/outputs/new_UQ_results/CRR/vars/W28-CRR-new_pixel_UQ_vars.npy'\n",
        "\n",
        "new_pix_UQ_data = np.load(new_pix_UQ_path, allow_pickle=True)[()]\n",
        "\n",
        "new_pix_UQ_data.keys()\n"
      ]
    },
    {
      "cell_type": "code",
      "execution_count": 10,
      "metadata": {},
      "outputs": [
        {
          "name": "stdout",
          "output_type": "stream",
          "text": [
            "[0.1698927879333496]\n",
            "[28]\n"
          ]
        }
      ],
      "source": [
        "print(new_pix_UQ_data['computing_time_arr'])\n",
        "\n",
        "print(new_pix_UQ_data['n_iters_uq'])"
      ]
    },
    {
      "cell_type": "code",
      "execution_count": 4,
      "metadata": {},
      "outputs": [
        {
          "data": {
            "text/plain": [
              "dict_keys(['x_ground_truth', 'x_map', 'x_init', 'opt_params', 'hpd_results', 'error_p_arr', 'error_m_arr', 'mean_img_arr', 'gt_mean_img_arr', 'computing_time', 'superpix_sizes', 'LCI_params'])"
            ]
          },
          "execution_count": 4,
          "metadata": {},
          "output_type": "execute_result"
        }
      ],
      "source": [
        "map_vars.keys()"
      ]
    },
    {
      "cell_type": "code",
      "execution_count": 22,
      "metadata": {},
      "outputs": [
        {
          "data": {
            "text/plain": [
              "108.20010995864868"
            ]
          },
          "execution_count": 22,
          "metadata": {},
          "output_type": "execute_result"
        }
      ],
      "source": [
        "# Size 8x8 and wall-clock time \n",
        "map_vars['computing_time'][2][1]"
      ]
    },
    {
      "cell_type": "code",
      "execution_count": 23,
      "metadata": {},
      "outputs": [
        {
          "data": {
            "text/plain": [
              "150.83745884895325"
            ]
          },
          "execution_count": 23,
          "metadata": {},
          "output_type": "execute_result"
        }
      ],
      "source": [
        "# Size 8x8 and wall-clock time \n",
        "wav_map_vars['computing_time'][2][1]"
      ]
    },
    {
      "cell_type": "code",
      "execution_count": 5,
      "metadata": {},
      "outputs": [
        {
          "data": {
            "text/plain": [
              "dict_keys(['X_ground_truth', 'X_dirty', 'X_MAP', 'X_MMSE', 'post_meanvar', 'absfouriercoeff', 'logpi_thinning_trace', 'X', 'quantiles', 'st_dev_down', 'means_list', 'params', 'elapsed_time'])"
            ]
          },
          "execution_count": 5,
          "metadata": {},
          "output_type": "execute_result"
        }
      ],
      "source": [
        "samp_vars.keys()"
      ]
    },
    {
      "cell_type": "code",
      "execution_count": 6,
      "metadata": {},
      "outputs": [
        {
          "data": {
            "text/plain": [
              "6435.470473527908"
            ]
          },
          "execution_count": 6,
          "metadata": {},
          "output_type": "execute_result"
        }
      ],
      "source": [
        "samp_vars['elapsed_time']"
      ]
    },
    {
      "cell_type": "code",
      "execution_count": 16,
      "metadata": {},
      "outputs": [
        {
          "data": {
            "text/plain": [
              "35927.18942141533"
            ]
          },
          "execution_count": 16,
          "metadata": {},
          "output_type": "execute_result"
        }
      ],
      "source": [
        "wav_samp_vars['elapsed_time']"
      ]
    },
    {
      "cell_type": "code",
      "execution_count": null,
      "metadata": {},
      "outputs": [],
      "source": [
        "\n",
        "\n",
        "\n"
      ]
    },
    {
      "cell_type": "code",
      "execution_count": null,
      "metadata": {},
      "outputs": [],
      "source": []
    }
  ],
  "metadata": {
    "kernelspec": {
      "display_name": "convex_uq",
      "language": "python",
      "name": "python3"
    },
    "language_info": {
      "codemirror_mode": {
        "name": "ipython",
        "version": 3
      },
      "file_extension": ".py",
      "mimetype": "text/x-python",
      "name": "python",
      "nbconvert_exporter": "python",
      "pygments_lexer": "ipython3",
      "version": "3.9.16"
    },
    "vscode": {
      "interpreter": {
        "hash": "2bb75ebd6ceb1eff2ce987e124c91bc6f99e62fd1930d98a82dc138614104eef"
      }
    }
  },
  "nbformat": 4,
  "nbformat_minor": 0
}
