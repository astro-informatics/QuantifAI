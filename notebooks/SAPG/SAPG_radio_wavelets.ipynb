{
  "cells": [
    {
      "cell_type": "code",
      "execution_count": 1,
      "metadata": {
        "collapsed": false
      },
      "outputs": [
        {
          "name": "stdout",
          "output_type": "stream",
          "text": [
            "Using device: cpu\n"
          ]
        }
      ],
      "source": [
        "import sys\n",
        "import os\n",
        "import time\n",
        "import math\n",
        "from functools import partial\n",
        "import numpy as np\n",
        "from astropy.io import fits\n",
        "import scipy.io as sio\n",
        "\n",
        "import torch\n",
        "M1 = False\n",
        "\n",
        "if M1:\n",
        "    device = torch.device('mps' if torch.backends.mps.is_available() else 'cpu')\n",
        "else:\n",
        "    os.environ[\"CUDA_VISIBLE_DEVICES\"]=\"2\"\n",
        "    device = torch.device('cuda' if torch.cuda.is_available() else 'cpu')\n",
        "    if torch.cuda.is_available():\n",
        "        print(torch.cuda.is_available())\n",
        "        print(torch.cuda.device_count())\n",
        "        print(torch.cuda.current_device())\n",
        "        print(torch.cuda.get_device_name(torch.cuda.current_device()))\n",
        "\n",
        "\n",
        "import large_scale_UQ as luq\n",
        "\n",
        "from tqdm import tqdm\n",
        "\n",
        "from skimage.metrics import peak_signal_noise_ratio as psnr\n",
        "from skimage.metrics import structural_similarity as ssim\n",
        "from large_scale_UQ.utils import to_numpy, to_tensor\n",
        "\n",
        "from matplotlib import pyplot as plt\n",
        "from mpl_toolkits.axes_grid1 import make_axes_locatable\n"
      ]
    },
    {
      "cell_type": "code",
      "execution_count": 2,
      "metadata": {
        "collapsed": false
      },
      "outputs": [],
      "source": [
        "options = {\"tol\": 1e-5, \"iter\": 5000, \"update_iter\": 50, \"record_iters\": False}\n"
      ]
    },
    {
      "cell_type": "code",
      "execution_count": 3,
      "metadata": {},
      "outputs": [
        {
          "name": "stderr",
          "output_type": "stream",
          "text": [
            "WARNING: The following header keyword is invalid or follows an unrecognized non-standard convention:\n",
            "INSTRUME                                                                         [astropy.io.fits.card]\n"
          ]
        }
      ],
      "source": [
        "repo_dir = '/Users/tl/Documents/research/repos/proj-convex-UQ/large-scale-UQ'\n",
        "# repo_dir = '/disk/xray0/tl3/repos/large-scale-UQ'\n",
        "save_dir = repo_dir + '/notebooks/SAPG/output/'\n",
        "savefig_dir = repo_dir + '/notebooks/SAPG/figs/'\n",
        "\n",
        "# optimization settings\n",
        "wavs =  [\"db8\"]# [\"db1\", \"db4\"]                                     # Wavelet dictionaries to combine\n",
        "levels = 4 # 3                                               # Wavelet levels to consider [1-6]\n",
        "reg_param = 50. # 2.e-3\n",
        "img_name = 'M31'\n",
        "\n",
        "# Saving names\n",
        "save_name = '{:s}_256_wavelet_SAPG-{:s}_{:d}_reg_{:.1f}'.format(\n",
        "    img_name, wavs[0], levels, reg_param\n",
        ")\n",
        "\n",
        "\n",
        "# Load img\n",
        "img_path = repo_dir + '/data/imgs/{:s}.fits'.format(img_name)\n",
        "img_data = fits.open(img_path, memmap=False)\n",
        "\n",
        "# Loading the image and cast it to float\n",
        "img = np.copy(img_data[0].data)[0,:,:].astype(np.float64)\n",
        "# Flipping data\n",
        "img = np.flipud(img)\n",
        "\n",
        "# Aliases\n",
        "x = img\n",
        "ground_truth = img\n",
        " \n",
        " \n",
        "# Load op from X Cai\n",
        "op_mask = sio.loadmat(repo_dir + '/data/operators_masks/fourier_mask.mat')['Ma']\n",
        "\n",
        "# Matlab's reshape works with 'F'-like ordering\n",
        "mat_mask = np.reshape(np.sum(op_mask, axis=0), (256,256), order='F').astype(bool)\n",
        "\n",
        "# Define my torch types\n",
        "myType = torch.float64\n",
        "myComplexType = torch.complex128\n",
        "\n",
        "torch_img = torch.tensor(np.copy(img), dtype=myType, device=device).reshape((1,1) + img.shape)\n",
        "dim = img.shape[0]\n",
        "\n",
        "# A mock radio imaging forward model with half of the Fourier coefficients masked\n",
        "# Use X. Cai's Fourier mask\n",
        "phi = luq.operators.MaskedFourier_torch(\n",
        "    dim=dim, \n",
        "    ratio=0.5 ,\n",
        "    mask=mat_mask,\n",
        "    norm='ortho',\n",
        "    device=device\n",
        ")\n",
        "\n",
        "# Define X Cai noise level\n",
        "sigma = 0.0024\n",
        "sigma2 = sigma**2\n",
        "\n",
        "sigma_GT = np.copy(sigma)\n",
        "sigma2_GT = np.copy(sigma2)\n",
        "\n",
        "y = phi.dir_op(torch_img).detach().cpu().squeeze().numpy()\n",
        "\n",
        "# Generate noise\n",
        "rng = np.random.default_rng(seed=0)\n",
        "n = rng.normal(0, sigma, y[y!=0].shape)\n",
        "# Add noise\n",
        "y[y!=0] += n\n",
        "\n",
        "# Observation\n",
        "torch_y = torch.tensor(np.copy(y), device=device, dtype=myComplexType).reshape((1,) + img.shape)\n",
        "x_init = torch.abs(phi.adj_op(torch_y))\n",
        "\n"
      ]
    },
    {
      "cell_type": "code",
      "execution_count": 4,
      "metadata": {},
      "outputs": [
        {
          "data": {
            "text/plain": [
              "5.759999999999999e-06"
            ]
          },
          "execution_count": 4,
          "metadata": {},
          "output_type": "execute_result"
        }
      ],
      "source": [
        "sigma2"
      ]
    },
    {
      "cell_type": "code",
      "execution_count": 5,
      "metadata": {},
      "outputs": [],
      "source": [
        "\n",
        "# Define the likelihood\n",
        "g = luq.operators.L2Norm_torch(\n",
        "    sigma=sigma,\n",
        "    data=torch_y,\n",
        "    Phi=phi,\n",
        ")\n",
        "# g.beta = 1.0 / sigma ** 2\n",
        "\n",
        "# Define real prox\n",
        "f = luq.operators.RealProx_torch()\n",
        "\n",
        "\n",
        "# Define the wavelet dict\n",
        "# Define the l1 norm with dict psi\n",
        "# gamma = torch.max(torch.abs(psi.dir_op(y_torch))) * reg_param\n",
        "psi = luq.operators.DictionaryWv_torch(wavs, levels)\n",
        "\n",
        "h = luq.operators.L1Norm_torch(1., psi, op_to_coeffs=True)\n",
        "gamma = h._get_max_abs_coeffs(h.dir_op(torch.clone(x_init))) # * reg_param\n",
        "h.gamma = gamma\n",
        "h.beta = 1.0\n"
      ]
    },
    {
      "cell_type": "code",
      "execution_count": null,
      "metadata": {},
      "outputs": [],
      "source": []
    },
    {
      "cell_type": "code",
      "execution_count": 6,
      "metadata": {},
      "outputs": [],
      "source": [
        "\n",
        "# Define sigma bounds\n",
        "min_sigma2 = torch.tensor(1e-12, device=device, dtype=myType)\n",
        "max_sigma2 = torch.tensor(1e3, device=device, dtype=myType)\n",
        "sigma2_init = torch.tensor(1e-6, device=device, dtype=myType)\n",
        "\n"
      ]
    },
    {
      "cell_type": "code",
      "execution_count": 7,
      "metadata": {},
      "outputs": [],
      "source": [
        "# Negative log-likelihood -logp(t|x,sigma^2)\n",
        "f = lambda _x, sigma2: g.fun(_x, sigma2=sigma2)\n",
        "\n",
        "# --- Gradient w.r.t. sigma^2\n",
        "dimx = x.size\n",
        "alpha_homogenious = 1\n",
        "# df_wrt_sigma2 = lambda _x, sigma2: torch.real(g.grad_sigma2(_x, sigma2=sigma2)) - dimx / (alpha_homogenious * sigma2)\n",
        "df_wrt_sigma2 = lambda _x, sigma2: torch.real(g.grad_sigma2(_x, sigma2=sigma2))\n",
        "# Note: The second part corresponds to the normalisation constant Z of the posterior\n",
        "\n",
        "# --- Gradient w.r.t. x\n",
        "df_wrt_x = lambda _x, sigma2: torch.real(g.grad(_x, sigma2=sigma2))\n"
      ]
    },
    {
      "cell_type": "code",
      "execution_count": 8,
      "metadata": {},
      "outputs": [],
      "source": [
        "# Define prior\n",
        "fun_prior = lambda _x : h._fun_coeffs(h.dir_op(torch.clone(_x)))\n",
        "sub_op = lambda _x1, _x2 : _x1 - _x2\n",
        "\n",
        "# proximity operator\n",
        "prox_prior_cai = lambda _x, lmbd : torch.clone(_x) + h.adj_op(h._op_to_two_coeffs(\n",
        "    h.prox(h.dir_op(torch.clone(_x)), lmbd),\n",
        "    h.dir_op(torch.clone(_x)), sub_op\n",
        "))\n",
        "prox_prior = lambda _x, lmbd : h.adj_op(h.prox(h.dir_op(torch.clone(_x)), lmbd))\n",
        "\n",
        "# gradient of the prior\n",
        "gradg = lambda x, lam, lambda_prox: torch.real(x - prox_prior_cai(x,lam)) / lambda_prox    \n"
      ]
    },
    {
      "cell_type": "code",
      "execution_count": 9,
      "metadata": {},
      "outputs": [],
      "source": [
        "# Log of posterior distribution\n",
        "logPi = lambda _x, sigma2, theta: (- f(_x, sigma2) - theta * fun_prior(_x))\n"
      ]
    },
    {
      "cell_type": "code",
      "execution_count": 10,
      "metadata": {},
      "outputs": [],
      "source": [
        "\n",
        "## Lipschitz Constants\n",
        "\n",
        "# --- Maximum eigenvalue of operator A. Norm of blurring operator.\n",
        "g._compute_lip_constant()\n",
        "AAt_norm =  g.beta * (g.sigma**2) \n",
        "\n",
        "# Lipshcitz constant of f.\n",
        "Lp_fun = lambda sigma2: AAt_norm**2 / sigma2  \n",
        "# L_f =  min(Lp_fun(min_sigma2), Lp_fun(max_sigma2))\n",
        "L_f= Lp_fun(sigma2_init)\n",
        "\n",
        "# --- regularization parameter of proximity operator (\\lambda).\n",
        "lambdaMax = 2\n",
        "lambda_prox = min((1/L_f), lambdaMax)   \n",
        "# --- end\n",
        "\n",
        "# --- Lipshcitz constant of g.\n",
        "L_g =  1/lambda_prox \n",
        "\n",
        "# --- Lipshcitz constant of g + f\n",
        "L =  L_f + L_g\n",
        "# --- end\n",
        "\n",
        "# --- Stepsize of MCMC algorithm.\n",
        "gamma = 0.98*1/L\n",
        "# --- end\n"
      ]
    },
    {
      "cell_type": "code",
      "execution_count": 11,
      "metadata": {},
      "outputs": [
        {
          "name": "stdout",
          "output_type": "stream",
          "text": [
            "L:  tensor(1999998.0927, dtype=torch.float64)\n",
            "gamma:  tensor(4.9000e-07, dtype=torch.float64)\n",
            "lambda_prox:  tensor(1.0000e-06, dtype=torch.float64)\n"
          ]
        }
      ],
      "source": [
        "print('L: ', L)\n",
        "print('gamma: ', gamma)\n",
        "print('lambda_prox: ', lambda_prox)\n",
        "\n"
      ]
    },
    {
      "cell_type": "code",
      "execution_count": 12,
      "metadata": {},
      "outputs": [],
      "source": [
        "# --- Initialization of parameter theta\n",
        "th_init = 1e3 # 0.01\n",
        "\n",
        "# --- Admisible set for \\theta (min and max values).\n",
        "min_th = 1e-1 # 0.001\n",
        "max_th = 1e6 # 1\n",
        "\n",
        "# --- define stepsize delta \n",
        "d_exp = 0.8\n",
        "delta = lambda _i: (_i**(-d_exp)) / dimx \n",
        "\n",
        "# --- constant to tune the stepsize of each parameter\n",
        "c_theta = 1e2 # 1e1\n",
        "c_sigma2 = 1e1 # 1e5\n"
      ]
    },
    {
      "cell_type": "code",
      "execution_count": 13,
      "metadata": {},
      "outputs": [],
      "source": [
        "# --- Warmup period for the MCMC sampling\n",
        "warmupSteps = 1000\n",
        "\n",
        "# --- total number of iterations for the optimization algorithm on theta\n",
        "total_iter = 5000\n",
        "\n",
        "# --- burn-in period for the optimization algorithm on theta\n",
        "burnIn = int(total_iter * 0.8)"
      ]
    },
    {
      "cell_type": "code",
      "execution_count": 14,
      "metadata": {},
      "outputs": [
        {
          "name": "stdout",
          "output_type": "stream",
          "text": [
            "Running Warm up     \n",
            "\n"
          ]
        },
        {
          "name": "stderr",
          "output_type": "stream",
          "text": [
            "100%|██████████| 999/999 [00:28<00:00, 35.00it/s]\n"
          ]
        }
      ],
      "source": [
        "# --- Initialization of the warm-up chain\n",
        "# X_wu = y.to(device).detach().clone()\n",
        "x_init = torch.abs(phi.adj_op(torch_y))\n",
        "X_wu = torch.clone(x_init)\n",
        "\n",
        "#Run MYULA sampler with fix theta and fix sigma^2 to warm up the markov chain\n",
        "\n",
        "fix_sigma2 = torch.tensor(sigma2_GT, device=device, dtype=myType) #sigma2_init\n",
        "fix_theta = th_init\n",
        "\n",
        "print('Running Warm up     \\n')\n",
        "\n",
        "for k in tqdm(range(1,warmupSteps)):\n",
        "    # --- Gradients\n",
        "    gradf_X_wu = df_wrt_x(X_wu, fix_sigma2)\n",
        "    gradg_X_wu = gradg(X_wu, lambda_prox*fix_theta, lambda_prox)\n",
        "    # --- end (gradients)\n",
        "    \n",
        "    # --- MYULA warm-up\n",
        "    X_wu =  X_wu - gamma*gradg_X_wu - gamma*gradf_X_wu + math.sqrt(2*gamma)*torch.randn_like(X_wu)\n",
        "    # --- end (warm-up)\n"
      ]
    },
    {
      "cell_type": "code",
      "execution_count": 15,
      "metadata": {},
      "outputs": [],
      "source": [
        "np_sigma2_GT = np.copy(sigma2_GT)\n",
        "sigma2_GT = torch.tensor(sigma2_GT, device=device, dtype=myType)"
      ]
    },
    {
      "cell_type": "code",
      "execution_count": 16,
      "metadata": {},
      "outputs": [],
      "source": [
        "# Keeping track of the reg. parameter's trace\n",
        "theta_trace = torch.zeros(total_iter)\n",
        "theta_trace[0] = th_init\n",
        "\n",
        "sigma2_trace= torch.zeros(total_iter)\n",
        "sigma2_trace[0]= sigma2_init\n",
        "\n",
        "# We work on a logarithmic scale, so we define an axiliary variable \n",
        "#eta such that theta=exp{eta}. \n",
        "\n",
        "eta_init = math.log(th_init)\n",
        "min_eta = math.log(min_th)\n",
        "max_eta = math.log(max_th)\n",
        "\n",
        "eta_trace = torch.zeros(total_iter)\n",
        "eta_trace[0] = eta_init\n",
        "\n",
        "# Repeat the log scale on the sigma2\n",
        "mu_init = math.log(sigma2_init)\n",
        "min_mu = math.log(min_sigma2)\n",
        "max_mu = math.log(max_sigma2)\n",
        "\n",
        "mu_trace = torch.zeros(total_iter)\n",
        "mu_trace[0] = mu_init\n",
        "\n",
        "# Stop criteria (relative change tolerance) for the proximal gradient algorithm\n",
        "\n",
        "stopTol=1e-5\n"
      ]
    },
    {
      "cell_type": "code",
      "execution_count": 17,
      "metadata": {},
      "outputs": [
        {
          "name": "stdout",
          "output_type": "stream",
          "text": [
            "\n",
            "Running SAPG algorithm     \n",
            "\n",
            "iter = 100 \t Theta = 22.721778869628906 \t sigma2 = 0.0014334921725094318\n",
            "\n",
            "iter = 200 \t Theta = 49.141719818115234 \t sigma2 = 0.0013936932664364576\n",
            "\n",
            "iter = 300 \t Theta = 38.858882904052734 \t sigma2 = 0.001350165344774723\n",
            "\n",
            "iter = 400 \t Theta = 32.78192138671875 \t sigma2 = 0.0013066865503787994\n",
            "\n",
            "iter = 500 \t Theta = 28.997398376464844 \t sigma2 = 0.0012601924827322364\n",
            "\n",
            "iter = 600 \t Theta = 26.25695037841797 \t sigma2 = 0.0012144965585321188\n",
            "\n",
            "iter = 700 \t Theta = 24.044158935546875 \t sigma2 = 0.001167758833616972\n",
            "\n",
            "iter = 800 \t Theta = 22.497690200805664 \t sigma2 = 0.0011215248377993703\n",
            "\n",
            "iter = 900 \t Theta = 21.0272159576416 \t sigma2 = 0.001075073960237205\n",
            "\n",
            "iter = 1000 \t Theta = 19.702659606933594 \t sigma2 = 0.001028291997499764\n",
            "\n",
            "iter = 1100 \t Theta = 18.62592887878418 \t sigma2 = 0.0009795337682589889\n",
            "\n",
            "iter = 1200 \t Theta = 17.684255599975586 \t sigma2 = 0.0009336851653642952\n",
            "\n",
            "iter = 1300 \t Theta = 16.861724853515625 \t sigma2 = 0.0008864443516358733\n",
            "\n",
            "iter = 1400 \t Theta = 16.047927856445312 \t sigma2 = 0.0008387725683860481\n",
            "\n",
            "iter = 1500 \t Theta = 15.410285949707031 \t sigma2 = 0.0007939529023133218\n",
            "\n",
            "iter = 1600 \t Theta = 14.878767967224121 \t sigma2 = 0.0007480327039957047\n",
            "\n",
            "iter = 1700 \t Theta = 14.420875549316406 \t sigma2 = 0.0007001393241807818\n",
            "\n",
            "iter = 1800 \t Theta = 13.872587203979492 \t sigma2 = 0.0006541896727867424\n",
            "\n",
            "iter = 1900 \t Theta = 13.397047996520996 \t sigma2 = 0.0006079198210500181\n",
            "\n",
            "iter = 2000 \t Theta = 12.937358856201172 \t sigma2 = 0.0005620088195428252\n",
            "\n",
            "iter = 2100 \t Theta = 12.5654296875 \t sigma2 = 0.0005169630167074502\n",
            "\n",
            "iter = 2200 \t Theta = 12.181838035583496 \t sigma2 = 0.00047268872731365263\n",
            "\n",
            "iter = 2300 \t Theta = 11.830767631530762 \t sigma2 = 0.0004278643464203924\n",
            "\n",
            "iter = 2400 \t Theta = 11.4801607131958 \t sigma2 = 0.00038392102578654885\n",
            "\n",
            "iter = 2500 \t Theta = 11.225666999816895 \t sigma2 = 0.00034074182622134686\n",
            "\n",
            "iter = 2600 \t Theta = 10.930171012878418 \t sigma2 = 0.00029920379165560007\n",
            "\n",
            "iter = 2700 \t Theta = 10.637341499328613 \t sigma2 = 0.0002583372115623206\n",
            "\n",
            "iter = 2800 \t Theta = 10.347283363342285 \t sigma2 = 0.00021799761452712119\n",
            "\n",
            "iter = 2900 \t Theta = 10.080389976501465 \t sigma2 = 0.00017815266619436443\n",
            "\n",
            "iter = 3000 \t Theta = 9.856559753417969 \t sigma2 = 0.00014024897245690227\n",
            "\n",
            "iter = 3100 \t Theta = 9.62226390838623 \t sigma2 = 0.00010399593156762421\n",
            "\n",
            "iter = 3200 \t Theta = 9.365008354187012 \t sigma2 = 7.043007644824684e-05\n",
            "\n",
            "iter = 3300 \t Theta = 9.122140884399414 \t sigma2 = 4.088743662578054e-05\n",
            "\n",
            "iter = 3400 \t Theta = 8.829940795898438 \t sigma2 = 1.802178485377226e-05\n",
            "\n",
            "iter = 3500 \t Theta = 8.601533889770508 \t sigma2 = 5.585524831985822e-06\n",
            "\n",
            "iter = 3600 \t Theta = 8.490610122680664 \t sigma2 = 1.5542100300081074e-06\n",
            "\n",
            "iter = 3700 \t Theta = 8.422525405883789 \t sigma2 = 4.479455526507081e-07\n",
            "\n",
            "iter = 3800 \t Theta = 8.352645874023438 \t sigma2 = 2.2984821157479018e-07\n",
            "\n",
            "iter = 3900 \t Theta = 8.264476776123047 \t sigma2 = 2.45438457113778e-07\n",
            "\n",
            "iter = 4000 \t Theta = 8.183931350708008 \t sigma2 = 2.384849722147919e-07\n",
            "\n",
            "iter = 4100 \t Theta = 8.123018264770508 \t sigma2 = 2.4122115860336635e-07\n",
            "\n",
            "iter = 4200 \t Theta = 8.073524475097656 \t sigma2 = 2.468329967086902e-07\n",
            "\n",
            "iter = 4300 \t Theta = 8.029142379760742 \t sigma2 = 2.4639837192808045e-07\n",
            "\n",
            "iter = 4400 \t Theta = 7.980104446411133 \t sigma2 = 2.4618250904495653e-07\n",
            "\n",
            "iter = 4500 \t Theta = 7.936509609222412 \t sigma2 = 2.4380543095503526e-07\n",
            "\n",
            "iter = 4600 \t Theta = 7.901172161102295 \t sigma2 = 2.452833030019974e-07\n",
            "\n",
            "iter = 4700 \t Theta = 7.852854251861572 \t sigma2 = 2.445165705466934e-07\n",
            "\n",
            "iter = 4800 \t Theta = 7.806594371795654 \t sigma2 = 2.4405761678281124e-07\n",
            "\n",
            "iter = 4900 \t Theta = 7.779354572296143 \t sigma2 = 2.430882659609779e-07\n",
            "\n"
          ]
        }
      ],
      "source": [
        "print('\\nRunning SAPG algorithm     \\n')\n",
        "# We want to keep track of two traces: the log-likelihood and the TV function to monitor the behaviour of the algorithm.\n",
        "\n",
        "logPiTraceX = []      # to monitor convergence\n",
        "g_trace = []          # to monitor how the regularisation function evolves\n",
        "\n",
        "mean_theta =[]\n",
        "mean_sigma2 = []\n",
        "Grad_sigma2 = []\n",
        "\n",
        "X = X_wu.clone()       # start MYULA markov chain from last sample after warmup\n",
        "\n",
        "update_iter = 100\n",
        "\n",
        "# for k in tqdm(range(1,total_iter)): \n",
        "for k in range(1,total_iter): \n",
        "\n",
        "    ################################################################################\n",
        "    # MCMC SAMPLER\n",
        "    ################################################################################\n",
        "\n",
        "    # Number of samples\n",
        "\n",
        "    m = 1\n",
        "\n",
        "    # If we run the MCMC sampler for m times to get m samples X_m, therefore we need to average \n",
        "    # gradients w.r.t. \\theta and \\sigma^2 before the update\n",
        "    g_mcmc_trace = torch.zeros(m, device=device) # .to(device) \n",
        "    grad_sigma2_trace = torch.zeros(m, device=device) # .to(device) \n",
        "    \n",
        "    #Sample from posterior with MYULA:\n",
        "    \n",
        "    for ii in range(m):\n",
        "\n",
        "        # Calculate the gradient related to g for the current theta\n",
        "        gradgX = gradg(X,lambda_prox*theta_trace[k-1],lambda_prox)  \n",
        "        \n",
        "        # --- Calculate the gradient related to f for the current theta\n",
        "        gradfX = df_wrt_x(X,sigma2_trace[k-1])\n",
        "        # gradfX = df_wrt_x(X,sigma2_GT)\n",
        "        # --- end\n",
        "        \n",
        "        # --- MYULA update\n",
        "        X =  X - gamma*gradgX - gamma*gradfX + math.sqrt(2*gamma)*torch.randn_like(X)\n",
        "        #X = torch.clamp(X,0,255)\n",
        "        # --- end\n",
        "        \n",
        "        # --- Gardients w.r.t parameters\n",
        "        g_mcmc_trace[ii] = fun_prior(X)\n",
        "        grad_sigma2_trace[ii] = df_wrt_sigma2(X, sigma2_trace[k-1])\n",
        "        # --- end\n",
        "        \n",
        "    # --- Save current state to monitor convergence\n",
        "    logPiTraceX.append(logPi(X, sigma2_trace[k-1],theta_trace[k-1]).cpu().numpy())\n",
        "    # logPiTraceX.append(logPi(X, sigma2_GT, theta_trace[k-1]).cpu().numpy())\n",
        "    g_trace.append(g_mcmc_trace[-1].cpu().numpy())\n",
        "    # --- end (monitoring)\n",
        "    \n",
        "    # ################################################################################\n",
        "    #  PROJECTED GRADIENT ALGORITHM\n",
        "    # ################################################################################\n",
        "\n",
        "    # Update eta and theta. It should be underlined that we work on the logarithmic\n",
        "    # scale for numerical stability\n",
        "\n",
        "    # --- update \\eta and \\theta\n",
        "    etak = eta_trace[k-1] + c_theta * delta(k)  * (dimx / (alpha_homogenious * theta_trace[k-1]) - torch.mean(g_mcmc_trace)) * torch.exp(eta_trace[k-1]) \n",
        "\n",
        "    # project \\eta onto the admissible set of value\n",
        "    eta_trace[k] = min(max(etak,min_eta),max_eta)\n",
        "    \n",
        "    # Save the value of theta\n",
        "    theta_trace[k] = torch.exp(eta_trace[k])\n",
        "    # --- end (update)\n",
        "    \n",
        "    # --- Update sigma^2\n",
        "    # sigma2_k = sigma2_trace[k-1] + c_sigma2 * delta(k) * torch.mean(grad_sigma2_trace)\n",
        "    alpha_homogenious_sigma = -1.\n",
        "    mu_k = mu_trace[k-1] + c_sigma2 * delta(k) * (\n",
        "        dimx / (alpha_homogenious_sigma * sigma2_trace[k-1]) - torch.mean(grad_sigma2_trace)\n",
        "    ) * torch.exp(mu_trace[k-1]) \n",
        "\n",
        "    mu_trace[k] = min(max(mu_k, min_mu), max_mu)\n",
        "    sigma2_trace[k] = torch.exp(mu_trace[k])\n",
        "    # sigma2_trace[k] = sigma2_GT\n",
        "    # --- end (update)\n",
        "    \n",
        "    # -- \n",
        "    Grad_sigma2.append(df_wrt_sigma2(X, sigma2_trace[k-1]).cpu().numpy())\n",
        "    if k % update_iter == 0:\n",
        "        print(f\"iter = {k} \\t Theta = {theta_trace[k]} \\t sigma2 = {sigma2_trace[k]}\\n\")\n",
        "        # print(f\"iter = {k} \\t Theta = {theta_trace[k]}\\n\")\n",
        "   \n",
        "    # --- Check stop criteria. If relative error is smaller than op.stopTol stop\n",
        "    \n",
        "    if k>burnIn+1:\n",
        "        mean_theta.append(torch.mean(theta_trace[burnIn:(k+1)]).cpu().numpy())\n",
        "        mean_sigma2.append(torch.mean(sigma2_trace[burnIn:(k+1)]).cpu().numpy())\n",
        "        \n",
        "        relErrTh1 = torch.abs(torch.mean(theta_trace[burnIn:(k+1)]) - torch.mean(theta_trace[burnIn:k])) / torch.mean(theta_trace[burnIn:k])\n",
        "        \n",
        "        relErrSi1 = torch.abs(torch.mean(sigma2_trace[burnIn:(k+1)]) - torch.mean(sigma2_trace[burnIn:k])) / torch.mean(sigma2_trace[burnIn:k])\n",
        "\n",
        "        if (relErrTh1<stopTol) and (relErrSi1<stopTol) and 1 == 2 :\n",
        "        # if (relErrTh1<stopTol) and 1 == 2 :    \n",
        "            print(\"Toleration reached!\")\n",
        "            break\n",
        "     # --- end (stop criteria)       \n",
        "\n",
        "# --- Collecting data\n",
        "last_samp = k\n",
        "\n",
        "logPiTraceX = logPiTraceX[:last_samp+1]\n",
        "gXTrace = g_trace[:last_samp+1]\n",
        "\n",
        "theta_EB = torch.exp(torch.mean(eta_trace[burnIn:last_samp+1]))\n",
        "last_theta = theta_trace[last_samp]\n",
        "thetas = theta_trace[:last_samp+1]\n",
        "\n",
        "sigma2_EB = torch.exp(torch.mean(mu_trace[burnIn:last_samp+1]))\n",
        "last_sigma2 = sigma2_trace[last_samp]\n",
        "sigmas2 = sigma2_trace[:last_samp+1]\n",
        "\n"
      ]
    },
    {
      "cell_type": "code",
      "execution_count": 18,
      "metadata": {},
      "outputs": [],
      "source": [
        "# Estimated theta:  tensor(5.2098)\n",
        "# Last theta:  tensor(5.0593)\n"
      ]
    },
    {
      "cell_type": "code",
      "execution_count": 19,
      "metadata": {},
      "outputs": [
        {
          "name": "stdout",
          "output_type": "stream",
          "text": [
            "Estimated theta:  tensor(7.9425)\n",
            "Last theta:  tensor(7.7479)\n"
          ]
        }
      ],
      "source": [
        "print(\"Estimated theta: \", theta_EB)\n",
        "print(\"Last theta: \", last_theta)\n",
        "# print(\"Estimated value of sigma2 \",sigma2_EB, sigma**2)"
      ]
    },
    {
      "cell_type": "code",
      "execution_count": 20,
      "metadata": {},
      "outputs": [
        {
          "data": {
            "text/plain": [
              "<matplotlib.legend.Legend at 0x171b40f70>"
            ]
          },
          "execution_count": 20,
          "metadata": {},
          "output_type": "execute_result"
        },
        {
          "data": {
            "image/png": "[encoded data removed]",
            "text/plain": [
              "<Figure size 640x480 with 1 Axes>"
            ]
          },
          "metadata": {},
          "output_type": "display_data"
        },
        {
          "data": {
            "image/png": "[encoded data removed]",
            "text/plain": [
              "<Figure size 640x480 with 1 Axes>"
            ]
          },
          "metadata": {},
          "output_type": "display_data"
        },
        {
          "data": {
            "image/png": "[encoded data removed]",
            "text/plain": [
              "<Figure size 640x480 with 1 Axes>"
            ]
          },
          "metadata": {},
          "output_type": "display_data"
        },
        {
          "data": {
            "image/png": "[encoded data removed]",
            "text/plain": [
              "<Figure size 640x480 with 1 Axes>"
            ]
          },
          "metadata": {},
          "output_type": "display_data"
        }
      ],
      "source": [
        "# Plot the results\n",
        "\n",
        "plot1 = plt.figure()\n",
        "plt.plot(thetas[:].cpu().numpy(),linestyle=\"-\")\n",
        "plt.xlabel(\"$Iterations$\")\n",
        "plt.ylabel(\"$θ$\")\n",
        "\n",
        "plot1 = plt.figure()\n",
        "plt.plot( logPiTraceX,linestyle=\"-\")\n",
        "plt.xlabel(\"$Iterations$\")\n",
        "plt.ylabel(\"$log(p(x|y))$\")\n",
        "\n",
        "plot1 = plt.subplots()\n",
        "plt.plot( gXTrace[:],linestyle=\"-\")\n",
        "plt.plot( 256*256/thetas[:].cpu().numpy(),linestyle=\"-\")\n",
        "plt.xlabel(\"$Iterations$\")\n",
        "plt.ylabel(\"$g(x) versus d/theta$\")\n",
        "\n",
        "fig, ax = plt.subplots()\n",
        "ax.plot(sigmas2.cpu().numpy(),linestyle=\"-\",label=\"$σ_{n}^{2}$\")\n",
        "plt.axhline(y=sigma**2, color='r', linestyle='--',label=\"$σ_{\\dagger}^{2}$\")\n",
        "#plt.ylim(min_sigma2, max_sigma2)\n",
        "ax.set_xlabel(\"$Iterations\\,\\,(n)$\")\n",
        "ax.set_ylabel(\"$sigma^{2}$\")\n",
        "ax.legend()\n"
      ]
    },
    {
      "cell_type": "code",
      "execution_count": 22,
      "metadata": {},
      "outputs": [
        {
          "data": {
            "text/plain": [
              "<matplotlib.legend.Legend at 0x29f7f1b80>"
            ]
          },
          "execution_count": 22,
          "metadata": {},
          "output_type": "execute_result"
        },
        {
          "data": {
            "image/png": "[encoded data removed]",
            "text/plain": [
              "<Figure size 640x480 with 1 Axes>"
            ]
          },
          "metadata": {},
          "output_type": "display_data"
        },
        {
          "data": {
            "image/png": "[encoded data removed]",
            "text/plain": [
              "<Figure size 640x480 with 1 Axes>"
            ]
          },
          "metadata": {},
          "output_type": "display_data"
        }
      ],
      "source": [
        "start_it = 1000\n",
        "\n",
        "plot1 = plt.figure()\n",
        "plt.plot(thetas[start_it:].cpu().numpy(),linestyle=\"-\")\n",
        "plt.xlabel(\"$Iterations$\")\n",
        "plt.ylabel(\"$θ$\")\n",
        "\n",
        "\n",
        "fig, ax = plt.subplots()\n",
        "ax.plot(sigmas2[start_it:].cpu().numpy(),linestyle=\"-\",label=\"$σ_{n}^{2}$\")\n",
        "plt.axhline(y=sigma**2, color='r', linestyle='--',label=\"$σ_{\\dagger}^{2}$\")\n",
        "#plt.ylim(min_sigma2, max_sigma2)\n",
        "ax.set_xlabel(\"$Iterations\\,\\,(n)$\")\n",
        "ax.set_ylabel(\"$sigma^{2}$\")\n",
        "ax.legend()\n"
      ]
    },
    {
      "cell_type": "code",
      "execution_count": null,
      "metadata": {},
      "outputs": [],
      "source": []
    },
    {
      "cell_type": "code",
      "execution_count": null,
      "metadata": {},
      "outputs": [],
      "source": []
    }
  ],
  "metadata": {
    "kernelspec": {
      "display_name": "convex_uq",
      "language": "python",
      "name": "python3"
    },
    "language_info": {
      "codemirror_mode": {
        "name": "ipython",
        "version": 3
      },
      "file_extension": ".py",
      "mimetype": "text/x-python",
      "name": "python",
      "nbconvert_exporter": "python",
      "pygments_lexer": "ipython3",
      "version": "3.9.16"
    },
    "vscode": {
      "interpreter": {
        "hash": "2bb75ebd6ceb1eff2ce987e124c91bc6f99e62fd1930d98a82dc138614104eef"
      }
    }
  },
  "nbformat": 4,
  "nbformat_minor": 0
}
