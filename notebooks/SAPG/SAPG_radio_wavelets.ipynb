{
  "cells": [
    {
      "cell_type": "code",
      "execution_count": 2,
      "metadata": {
        "collapsed": false
      },
      "outputs": [
        {
          "name": "stdout",
          "output_type": "stream",
          "text": [
            "True\n",
            "1\n",
            "0\n",
            "NVIDIA A100-PCIE-40GB\n"
          ]
        }
      ],
      "source": [
        "import sys\n",
        "import os\n",
        "import time\n",
        "from functools import partial\n",
        "import numpy as np\n",
        "from astropy.io import fits\n",
        "import scipy.io as sio\n",
        "\n",
        "import torch\n",
        "M1 = False\n",
        "\n",
        "if M1:\n",
        "    device = torch.device('mps' if torch.backends.mps.is_available() else 'cpu')\n",
        "else:\n",
        "    os.environ[\"CUDA_VISIBLE_DEVICES\"]=\"2\"\n",
        "    device = torch.device('cuda' if torch.cuda.is_available() else 'cpu')\n",
        "    if torch.cuda.is_available():\n",
        "        print(torch.cuda.is_available())\n",
        "        print(torch.cuda.device_count())\n",
        "        print(torch.cuda.current_device())\n",
        "        print(torch.cuda.get_device_name(torch.cuda.current_device()))\n",
        "\n",
        "\n",
        "import large_scale_UQ as luq\n",
        "\n",
        "from tqdm import tqdm\n",
        "\n",
        "from skimage.metrics import peak_signal_noise_ratio as psnr\n",
        "from skimage.metrics import structural_similarity as ssim\n",
        "from large_scale_UQ.utils import to_numpy, to_tensor\n",
        "\n",
        "from matplotlib import pyplot as plt\n",
        "from mpl_toolkits.axes_grid1 import make_axes_locatable\n"
      ]
    },
    {
      "cell_type": "code",
      "execution_count": 3,
      "metadata": {
        "collapsed": false
      },
      "outputs": [],
      "source": [
        "options = {\"tol\": 1e-5, \"iter\": 5000, \"update_iter\": 50, \"record_iters\": False}\n"
      ]
    },
    {
      "cell_type": "code",
      "execution_count": 6,
      "metadata": {},
      "outputs": [
        {
          "name": "stderr",
          "output_type": "stream",
          "text": [
            "WARNING: The following header keyword is invalid or follows an unrecognized non-standard convention:\n",
            "INSTRUME                                                                         [astropy.io.fits.card]\n"
          ]
        }
      ],
      "source": [
        "\n",
        "repo_dir = '/disk/xray0/tl3/repos/large-scale-UQ'\n",
        "save_dir = repo_dir + '/notebooks/SAPG/output/'\n",
        "savefig_dir = repo_dir + '/notebooks/SAPG/figs/'\n",
        "\n",
        "# optimization settings\n",
        "wavs =  [\"db8\"]# [\"db1\", \"db4\"]                                     # Wavelet dictionaries to combine\n",
        "levels = 4 # 3                                               # Wavelet levels to consider [1-6]\n",
        "reg_param = 2.e-3\n",
        "img_name = 'M31'\n",
        "\n",
        "# Saving names\n",
        "save_name = '{:s}_256_wavelet_SAPG-{:s}_{:d}_reg_{:.1f}'.format(\n",
        "    img_name, wavs[0], levels, reg_param\n",
        ")\n",
        "\n",
        "\n",
        "# Load img\n",
        "img_path = repo_dir + '/data/imgs/{:s}.fits'.format(img_name)\n",
        "img_data = fits.open(img_path, memmap=False)\n",
        "\n",
        "# Loading the image and cast it to float\n",
        "img = np.copy(img_data[0].data)[0,:,:].astype(np.float64)\n",
        "# Flipping data\n",
        "img = np.flipud(img)\n",
        "\n",
        "# Aliases\n",
        "x = img\n",
        "ground_truth = img\n",
        " \n",
        " \n",
        "# Load op from X Cai\n",
        "op_mask = sio.loadmat(repo_dir + '/data/operators_masks/fourier_mask.mat')['Ma']\n",
        "\n",
        "# Matlab's reshape works with 'F'-like ordering\n",
        "mat_mask = np.reshape(np.sum(op_mask, axis=0), (256,256), order='F').astype(bool)\n",
        "\n",
        "# Define my torch types\n",
        "myType = torch.float64\n",
        "myComplexType = torch.complex128\n",
        "\n",
        "torch_img = torch.tensor(np.copy(img), dtype=myType, device=device).reshape((1,1) + img.shape)\n",
        "dim = img.shape[0]\n",
        "\n",
        "# A mock radio imaging forward model with half of the Fourier coefficients masked\n",
        "# Use X. Cai's Fourier mask\n",
        "phi = luq.operators.MaskedFourier_torch(\n",
        "    dim=dim, \n",
        "    ratio=0.5 ,\n",
        "    mask=mat_mask,\n",
        "    norm='ortho',\n",
        "    device=device\n",
        ")\n",
        "\n",
        "# Define X Cai noise level\n",
        "sigma = 0.0024\n",
        "sigma2 = sigma**2\n",
        "\n",
        "sigma_GT = np.copy(sigma)\n",
        "sigma2_GT = np.copy(sigma2)\n",
        "\n",
        "y = phi.dir_op(torch_img).detach().cpu().squeeze().numpy()\n",
        "\n",
        "# Generate noise\n",
        "rng = np.random.default_rng(seed=0)\n",
        "n = rng.normal(0, sigma, y[y!=0].shape)\n",
        "# Add noise\n",
        "y[y!=0] += n\n",
        "\n",
        "# Observation\n",
        "torch_y = torch.tensor(np.copy(y), device=device, dtype=myComplexType).reshape((1,) + img.shape)\n",
        "x_init = torch.abs(phi.adj_op(torch_y))\n",
        "\n"
      ]
    },
    {
      "cell_type": "code",
      "execution_count": 10,
      "metadata": {},
      "outputs": [
        {
          "data": {
            "text/plain": [
              "5.759999999999999e-06"
            ]
          },
          "execution_count": 10,
          "metadata": {},
          "output_type": "execute_result"
        }
      ],
      "source": [
        "sigma2"
      ]
    },
    {
      "cell_type": "code",
      "execution_count": 12,
      "metadata": {},
      "outputs": [],
      "source": [
        "\n",
        "# Define the likelihood\n",
        "g = luq.operators.L2Norm_torch(\n",
        "    sigma=sigma,\n",
        "    data=torch_y,\n",
        "    Phi=phi,\n",
        ")\n",
        "# g.beta = 1.0 / sigma ** 2\n",
        "\n",
        "# Define real prox\n",
        "f = luq.operators.RealProx_torch()\n",
        "\n",
        "\n",
        "# Define the wavelet dict\n",
        "# Define the l1 norm with dict psi\n",
        "# gamma = torch.max(torch.abs(psi.dir_op(y_torch))) * reg_param\n",
        "psi = luq.operators.DictionaryWv_torch(wavs, levels)\n",
        "\n",
        "h = luq.operators.L1Norm_torch(1., psi, op_to_coeffs=True)\n",
        "gamma = h._get_max_abs_coeffs(h.dir_op(torch.clone(x_init))) * reg_param\n",
        "h.gamma = gamma\n",
        "h.beta = 1.0\n"
      ]
    },
    {
      "cell_type": "code",
      "execution_count": 13,
      "metadata": {},
      "outputs": [],
      "source": [
        "\n",
        "# Define sigma bounds\n",
        "min_sigma2 = torch.tensor(1e-10, device=device, dtype=myType)\n",
        "max_sigma2 = torch.tensor(1e1, device=device, dtype=myType)\n",
        "sigma2_init = torch.tensor(1e-2, device=device, dtype=myType)\n",
        "\n"
      ]
    },
    {
      "cell_type": "code",
      "execution_count": 14,
      "metadata": {},
      "outputs": [],
      "source": [
        "# Negative log-likelihood -logp(t|x,sigma^2)\n",
        "f = lambda _x, sigma2: g.fun(_x, sigma2=sigma2)\n",
        "\n",
        "# --- Gradient w.r.t. sigma^2\n",
        "dimx = x.size\n",
        "alpha_homogenious = 1\n",
        "df_wrt_sigma = lambda _x, sigma2: g.grad_sigma2(_x, sigma2=sigma2) - dimx / (alpha_homogenious * sigma2)\n",
        "# Note: The second part corresponds to the normalisation constant Z of the posterior\n",
        "\n",
        "# --- Gradient w.r.t. x\n",
        "df_wrt_x = lambda _x, sigma2: g.grad(_x, sigma2=sigma2)\n"
      ]
    },
    {
      "cell_type": "code",
      "execution_count": 15,
      "metadata": {},
      "outputs": [],
      "source": [
        "# Define prior\n",
        "fun_prior = lambda _x : h._fun_coeffs(h.dir_op(torch.clone(_x)))\n",
        "sub_op = lambda _x1, _x2 : _x1 - _x2\n",
        "\n",
        "# proximity operator\n",
        "prox_prior_cai = lambda _x, lmbd : torch.clone(_x) + h.adj_op(h._op_to_two_coeffs(\n",
        "    h.prox(h.dir_op(torch.clone(_x)), lmbd),\n",
        "    h.dir_op(torch.clone(_x)), sub_op\n",
        "))\n",
        "prox_prior = lambda _x, lmbd : h.adj_op(h.prox(h.dir_op(torch.clone(_x)), lmbd))\n",
        "\n",
        "# gradient of the prior\n",
        "gradg = lambda x, lam, lambda_prox: (x - prox_prior_cai(x,lam)) / lambda_prox    \n"
      ]
    },
    {
      "cell_type": "code",
      "execution_count": null,
      "metadata": {},
      "outputs": [],
      "source": [
        "# Log of posterior distribution\n",
        "logPi = lambda _x, sigma2, theta: (- f(_x, sigma2) - theta * fun_prior(_x))\n"
      ]
    },
    {
      "cell_type": "code",
      "execution_count": null,
      "metadata": {},
      "outputs": [],
      "source": [
        "\n",
        "## Lipschitz Constants\n",
        "\n",
        "# --- Maximum eigenvalue of operator A. Norm of blurring operator.\n",
        "AAt_norm = max_eigenval(A, AT, nx, 1e-4, int(1e4), 0) \n",
        "\n",
        "# Lipshcitz constant of f.\n",
        "Lp_fun = lambda sigma2: AAt_norm**2 / sigma2  \n",
        "L_f =  min(Lp_fun(min_sigma2), Lp_fun(max_sigma2))  \n",
        "\n",
        "# --- regularization parameter of proximity operator (\\lambda).\n",
        "lambdaMax = 2\n",
        "lambda_prox = min((5/L_f), lambdaMax)   \n",
        "# --- end\n",
        "\n",
        "# --- Lipshcitz constant of g.\n",
        "L_g =  1/lambda_prox \n",
        "\n",
        "# --- Lipshcitz constant of g + f\n",
        "L =  L_f + L_g\n",
        "# --- end\n",
        "\n",
        "# --- Stepsize of MCMC algorithm.\n",
        "gamma = 0.98*1/L\n",
        "# --- end\n"
      ]
    },
    {
      "cell_type": "code",
      "execution_count": 16,
      "metadata": {},
      "outputs": [],
      "source": [
        "\n",
        "g._compute_lip_constant()\n"
      ]
    },
    {
      "cell_type": "code",
      "execution_count": null,
      "metadata": {},
      "outputs": [],
      "source": []
    },
    {
      "cell_type": "code",
      "execution_count": null,
      "metadata": {},
      "outputs": [],
      "source": []
    },
    {
      "cell_type": "code",
      "execution_count": null,
      "metadata": {},
      "outputs": [],
      "source": []
    }
  ],
  "metadata": {
    "kernelspec": {
      "display_name": "convex_uq",
      "language": "python",
      "name": "python3"
    },
    "language_info": {
      "codemirror_mode": {
        "name": "ipython",
        "version": 3
      },
      "file_extension": ".py",
      "mimetype": "text/x-python",
      "name": "python",
      "nbconvert_exporter": "python",
      "pygments_lexer": "ipython3",
      "version": "3.9.16"
    },
    "vscode": {
      "interpreter": {
        "hash": "2bb75ebd6ceb1eff2ce987e124c91bc6f99e62fd1930d98a82dc138614104eef"
      }
    }
  },
  "nbformat": 4,
  "nbformat_minor": 0
}
