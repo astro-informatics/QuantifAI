{
  "cells": [
    {
      "cell_type": "code",
      "execution_count": 1,
      "metadata": {
        "collapsed": false
      },
      "outputs": [
        {
          "name": "stdout",
          "output_type": "stream",
          "text": [
            "True\n",
            "1\n",
            "0\n",
            "NVIDIA A100-PCIE-40GB\n",
            "Using device: cuda\n"
          ]
        }
      ],
      "source": [
        "import sys\n",
        "import os\n",
        "import time\n",
        "import math\n",
        "from functools import partial\n",
        "import numpy as np\n",
        "from astropy.io import fits\n",
        "import scipy.io as sio\n",
        "\n",
        "import torch\n",
        "M1 = False\n",
        "\n",
        "if M1:\n",
        "    device = torch.device('mps' if torch.backends.mps.is_available() else 'cpu')\n",
        "else:\n",
        "    os.environ[\"CUDA_VISIBLE_DEVICES\"]=\"2\"\n",
        "    device = torch.device('cuda' if torch.cuda.is_available() else 'cpu')\n",
        "    if torch.cuda.is_available():\n",
        "        print(torch.cuda.is_available())\n",
        "        print(torch.cuda.device_count())\n",
        "        print(torch.cuda.current_device())\n",
        "        print(torch.cuda.get_device_name(torch.cuda.current_device()))\n",
        "\n",
        "\n",
        "import large_scale_UQ as luq\n",
        "\n",
        "from tqdm import tqdm\n",
        "\n",
        "from skimage.metrics import peak_signal_noise_ratio as psnr\n",
        "from skimage.metrics import structural_similarity as ssim\n",
        "from large_scale_UQ.utils import to_numpy, to_tensor\n",
        "\n",
        "from matplotlib import pyplot as plt\n",
        "from mpl_toolkits.axes_grid1 import make_axes_locatable\n"
      ]
    },
    {
      "cell_type": "code",
      "execution_count": 2,
      "metadata": {
        "collapsed": false
      },
      "outputs": [],
      "source": [
        "options = {\"tol\": 1e-5, \"iter\": 5000, \"update_iter\": 50, \"record_iters\": False}\n"
      ]
    },
    {
      "cell_type": "code",
      "execution_count": 3,
      "metadata": {},
      "outputs": [
        {
          "name": "stderr",
          "output_type": "stream",
          "text": [
            "WARNING: The following header keyword is invalid or follows an unrecognized non-standard convention:\n",
            "INSTRUME                                                                         [astropy.io.fits.card]\n"
          ]
        }
      ],
      "source": [
        "# repo_dir = '/Users/tl/Documents/research/repos/proj-convex-UQ/large-scale-UQ'\n",
        "repo_dir = '/disk/xray0/tl3/repos/large-scale-UQ'\n",
        "save_dir = repo_dir + '/notebooks/SAPG/output/'\n",
        "savefig_dir = repo_dir + '/notebooks/SAPG/figs/'\n",
        "\n",
        "# optimization settings\n",
        "wavs =  [\"db8\"]# [\"db1\", \"db4\"]                                     # Wavelet dictionaries to combine\n",
        "levels = 4 # 3                                               # Wavelet levels to consider [1-6]\n",
        "reg_param = 50. # 2.e-3\n",
        "img_name = 'M31'\n",
        "\n",
        "# Saving names\n",
        "save_name = '{:s}_256_wavelet_SAPG-{:s}_{:d}_reg_{:.1f}'.format(\n",
        "    img_name, wavs[0], levels, reg_param\n",
        ")\n",
        "\n",
        "\n",
        "# Load img\n",
        "img_path = repo_dir + '/data/imgs/{:s}.fits'.format(img_name)\n",
        "img_data = fits.open(img_path, memmap=False)\n",
        "\n",
        "# Loading the image and cast it to float\n",
        "img = np.copy(img_data[0].data)[0,:,:].astype(np.float64)\n",
        "# Flipping data\n",
        "img = np.flipud(img)\n",
        "\n",
        "# Aliases\n",
        "x = img\n",
        "ground_truth = img\n",
        " \n",
        " \n",
        "# Load op from X Cai\n",
        "op_mask = sio.loadmat(repo_dir + '/data/operators_masks/fourier_mask.mat')['Ma']\n",
        "\n",
        "# Matlab's reshape works with 'F'-like ordering\n",
        "mat_mask = np.reshape(np.sum(op_mask, axis=0), (256,256), order='F').astype(bool)\n",
        "\n",
        "# Define my torch types\n",
        "myType = torch.float64\n",
        "myComplexType = torch.complex128\n",
        "\n",
        "torch_img = torch.tensor(np.copy(img), dtype=myType, device=device).reshape((1,1) + img.shape)\n",
        "dim = img.shape[0]\n",
        "\n",
        "# A mock radio imaging forward model with half of the Fourier coefficients masked\n",
        "# Use X. Cai's Fourier mask\n",
        "phi = luq.operators.MaskedFourier_torch(\n",
        "    dim=dim, \n",
        "    ratio=0.5 ,\n",
        "    mask=mat_mask,\n",
        "    norm='ortho',\n",
        "    device=device\n",
        ")\n",
        "\n",
        "# Define X Cai noise level\n",
        "sigma = 0.0024\n",
        "sigma2 = sigma**2\n",
        "\n",
        "sigma_GT = np.copy(sigma)\n",
        "sigma2_GT = np.copy(sigma2)\n",
        "\n",
        "y = phi.dir_op(torch_img).detach().cpu().squeeze().numpy()\n",
        "\n",
        "# Generate noise\n",
        "rng = np.random.default_rng(seed=0)\n",
        "n = rng.normal(0, sigma, y[y!=0].shape)\n",
        "# Add noise\n",
        "y[y!=0] += n\n",
        "\n",
        "# Observation\n",
        "torch_y = torch.tensor(np.copy(y), device=device, dtype=myComplexType).reshape((1,) + img.shape)\n",
        "x_init = torch.abs(phi.adj_op(torch_y))\n",
        "\n"
      ]
    },
    {
      "cell_type": "code",
      "execution_count": 4,
      "metadata": {},
      "outputs": [
        {
          "data": {
            "text/plain": [
              "5.759999999999999e-06"
            ]
          },
          "execution_count": 4,
          "metadata": {},
          "output_type": "execute_result"
        }
      ],
      "source": [
        "sigma2"
      ]
    },
    {
      "cell_type": "code",
      "execution_count": 5,
      "metadata": {},
      "outputs": [],
      "source": [
        "\n",
        "# Define the likelihood\n",
        "g = luq.operators.L2Norm_torch(\n",
        "    sigma=sigma,\n",
        "    data=torch_y,\n",
        "    Phi=phi,\n",
        ")\n",
        "# g.beta = 1.0 / sigma ** 2\n",
        "\n",
        "# Define real prox\n",
        "f = luq.operators.RealProx_torch()\n",
        "\n",
        "\n",
        "# Define the wavelet dict\n",
        "# Define the l1 norm with dict psi\n",
        "# gamma = torch.max(torch.abs(psi.dir_op(y_torch))) * reg_param\n",
        "psi = luq.operators.DictionaryWv_torch(wavs, levels)\n",
        "\n",
        "h = luq.operators.L1Norm_torch(1., psi, op_to_coeffs=True)\n",
        "gamma = h._get_max_abs_coeffs(h.dir_op(torch.clone(x_init))) # * reg_param\n",
        "h.gamma = gamma\n",
        "h.beta = 1.0\n"
      ]
    },
    {
      "cell_type": "code",
      "execution_count": null,
      "metadata": {},
      "outputs": [],
      "source": []
    },
    {
      "cell_type": "code",
      "execution_count": 6,
      "metadata": {},
      "outputs": [],
      "source": [
        "\n",
        "# Define sigma bounds\n",
        "min_sigma2 = torch.tensor(1e-12, device=device, dtype=myType)\n",
        "max_sigma2 = torch.tensor(1e3, device=device, dtype=myType)\n",
        "sigma2_init = torch.tensor(1e-6, device=device, dtype=myType)\n",
        "\n"
      ]
    },
    {
      "cell_type": "code",
      "execution_count": 7,
      "metadata": {},
      "outputs": [],
      "source": [
        "# Negative log-likelihood -logp(t|x,sigma^2)\n",
        "f = lambda _x, sigma2: g.fun(_x, sigma2=sigma2)\n",
        "\n",
        "# --- Gradient w.r.t. sigma^2\n",
        "dimx = x.size\n",
        "alpha_homogenious = 1\n",
        "# df_wrt_sigma2 = lambda _x, sigma2: torch.real(g.grad_sigma2(_x, sigma2=sigma2)) - dimx / (alpha_homogenious * sigma2)\n",
        "df_wrt_sigma2 = lambda _x, sigma2: torch.real(g.grad_sigma2(_x, sigma2=sigma2))\n",
        "# Note: The second part corresponds to the normalisation constant Z of the posterior\n",
        "\n",
        "# --- Gradient w.r.t. x\n",
        "df_wrt_x = lambda _x, sigma2: torch.real(g.grad(_x, sigma2=sigma2))\n"
      ]
    },
    {
      "cell_type": "code",
      "execution_count": 8,
      "metadata": {},
      "outputs": [],
      "source": [
        "# Define prior\n",
        "fun_prior = lambda _x : h._fun_coeffs(h.dir_op(torch.clone(_x)))\n",
        "sub_op = lambda _x1, _x2 : _x1 - _x2\n",
        "\n",
        "# proximity operator\n",
        "prox_prior_cai = lambda _x, lmbd : torch.clone(_x) + h.adj_op(h._op_to_two_coeffs(\n",
        "    h.prox(h.dir_op(torch.clone(_x)), lmbd),\n",
        "    h.dir_op(torch.clone(_x)), sub_op\n",
        "))\n",
        "prox_prior = lambda _x, lmbd : h.adj_op(h.prox(h.dir_op(torch.clone(_x)), lmbd))\n",
        "\n",
        "# gradient of the prior\n",
        "gradg = lambda x, lam, lambda_prox: torch.real(x - prox_prior_cai(x,lam)) / lambda_prox    \n"
      ]
    },
    {
      "cell_type": "code",
      "execution_count": 9,
      "metadata": {},
      "outputs": [],
      "source": [
        "# Log of posterior distribution\n",
        "logPi = lambda _x, sigma2, theta: (- f(_x, sigma2) - theta * fun_prior(_x))\n"
      ]
    },
    {
      "cell_type": "code",
      "execution_count": 10,
      "metadata": {},
      "outputs": [],
      "source": [
        "\n",
        "## Lipschitz Constants\n",
        "\n",
        "# --- Maximum eigenvalue of operator A. Norm of blurring operator.\n",
        "g._compute_lip_constant()\n",
        "AAt_norm =  g.beta * (g.sigma**2) \n",
        "\n",
        "# Lipshcitz constant of f.\n",
        "Lp_fun = lambda sigma2: AAt_norm**2 / sigma2  \n",
        "# L_f =  min(Lp_fun(min_sigma2), Lp_fun(max_sigma2))\n",
        "# L_f= Lp_fun(sigma2_init)\n",
        "L_f= Lp_fun(sigma2_GT)\n",
        "\n",
        "# --- regularization parameter of proximity operator (\\lambda).\n",
        "lambdaMax = 2\n",
        "lambda_prox = min((1/L_f), lambdaMax)   \n",
        "# --- end\n",
        "\n",
        "# --- Lipshcitz constant of g.\n",
        "L_g =  1/lambda_prox \n",
        "\n",
        "# --- Lipshcitz constant of g + f\n",
        "L =  L_f + L_g\n",
        "# --- end\n",
        "\n",
        "# --- Stepsize of MCMC algorithm.\n",
        "gamma = 0.98*1/L\n",
        "# --- end\n"
      ]
    },
    {
      "cell_type": "code",
      "execution_count": 11,
      "metadata": {},
      "outputs": [
        {
          "name": "stdout",
          "output_type": "stream",
          "text": [
            "L:  347222.0980458901\n",
            "gamma:  2.8224010093691666e-06\n",
            "lambda_prox:  5.760002059937075e-06\n"
          ]
        }
      ],
      "source": [
        "print('L: ', L)\n",
        "print('gamma: ', gamma)\n",
        "print('lambda_prox: ', lambda_prox)\n",
        "\n"
      ]
    },
    {
      "cell_type": "code",
      "execution_count": 12,
      "metadata": {},
      "outputs": [],
      "source": [
        "# --- Initialization of parameter theta\n",
        "th_init = 1e3 # 0.01\n",
        "\n",
        "# --- Admisible set for \\theta (min and max values).\n",
        "min_th = 1e-2 # 0.001\n",
        "max_th = 1e6 # 1\n",
        "\n",
        "# --- define stepsize delta \n",
        "d_exp = 0.8\n",
        "delta = lambda _i: (_i**(-d_exp)) / dimx \n",
        "\n",
        "# --- constant to tune the stepsize of each parameter\n",
        "c_theta = 1e2 # 1e1\n",
        "c_sigma2 = 1e1 # 1e5\n"
      ]
    },
    {
      "cell_type": "code",
      "execution_count": null,
      "metadata": {},
      "outputs": [],
      "source": []
    },
    {
      "cell_type": "code",
      "execution_count": 13,
      "metadata": {},
      "outputs": [],
      "source": [
        "# --- Warmup period for the MCMC sampling\n",
        "warmupSteps = 1000\n",
        "\n",
        "# --- total number of iterations for the optimization algorithm on theta\n",
        "total_iter = 10000\n",
        "\n",
        "# --- burn-in period for the optimization algorithm on theta\n",
        "burnIn = int(total_iter * 0.8)"
      ]
    },
    {
      "cell_type": "code",
      "execution_count": 14,
      "metadata": {},
      "outputs": [
        {
          "name": "stdout",
          "output_type": "stream",
          "text": [
            "Running Warm up     \n",
            "\n"
          ]
        },
        {
          "name": "stderr",
          "output_type": "stream",
          "text": [
            "100%|██████████| 999/999 [00:06<00:00, 158.98it/s]\n"
          ]
        }
      ],
      "source": [
        "# --- Initialization of the warm-up chain\n",
        "# X_wu = y.to(device).detach().clone()\n",
        "x_init = torch.abs(phi.adj_op(torch_y))\n",
        "X_wu = torch.clone(x_init)\n",
        "\n",
        "#Run MYULA sampler with fix theta and fix sigma^2 to warm up the markov chain\n",
        "\n",
        "fix_sigma2 = torch.tensor(sigma2_GT, device=device, dtype=myType) #sigma2_init\n",
        "fix_theta = th_init\n",
        "\n",
        "print('Running Warm up     \\n')\n",
        "\n",
        "for k in tqdm(range(1,warmupSteps)):\n",
        "    # --- Gradients\n",
        "    gradf_X_wu = df_wrt_x(X_wu, fix_sigma2)\n",
        "    gradg_X_wu = gradg(X_wu, lambda_prox*fix_theta, lambda_prox)\n",
        "    # --- end (gradients)\n",
        "    \n",
        "    # --- MYULA warm-up\n",
        "    X_wu =  X_wu - gamma*gradg_X_wu - gamma*gradf_X_wu + math.sqrt(2*gamma)*torch.randn_like(X_wu)\n",
        "    # --- end (warm-up)\n"
      ]
    },
    {
      "cell_type": "code",
      "execution_count": 15,
      "metadata": {},
      "outputs": [],
      "source": [
        "np_sigma2_GT = np.copy(sigma2_GT)\n",
        "sigma2_GT = torch.tensor(sigma2_GT, device=device, dtype=myType)"
      ]
    },
    {
      "cell_type": "code",
      "execution_count": 16,
      "metadata": {},
      "outputs": [],
      "source": [
        "# Keeping track of the reg. parameter's trace\n",
        "theta_trace = torch.zeros(total_iter)\n",
        "theta_trace[0] = th_init\n",
        "\n",
        "sigma2_trace= torch.zeros(total_iter)\n",
        "sigma2_trace[0]= sigma2_init\n",
        "\n",
        "# We work on a logarithmic scale, so we define an axiliary variable \n",
        "#eta such that theta=exp{eta}. \n",
        "\n",
        "eta_init = math.log(th_init)\n",
        "min_eta = math.log(min_th)\n",
        "max_eta = math.log(max_th)\n",
        "\n",
        "eta_trace = torch.zeros(total_iter)\n",
        "eta_trace[0] = eta_init\n",
        "\n",
        "# Repeat the log scale on the sigma2\n",
        "mu_init = math.log(sigma2_init)\n",
        "min_mu = math.log(min_sigma2)\n",
        "max_mu = math.log(max_sigma2)\n",
        "\n",
        "mu_trace = torch.zeros(total_iter)\n",
        "mu_trace[0] = mu_init\n",
        "\n",
        "# Stop criteria (relative change tolerance) for the proximal gradient algorithm\n",
        "\n",
        "stopTol=1e-5\n"
      ]
    },
    {
      "cell_type": "code",
      "execution_count": 17,
      "metadata": {},
      "outputs": [
        {
          "name": "stdout",
          "output_type": "stream",
          "text": [
            "\n",
            "Running SAPG algorithm     \n",
            "\n",
            "iter = 100 \t Theta = 6.880860328674316 \t sigma2 = 0.0010093796299770474\n",
            "\n",
            "iter = 200 \t Theta = 10.363428115844727 \t sigma2 = 0.00026718847220763564\n",
            "\n",
            "iter = 300 \t Theta = 7.88746452331543 \t sigma2 = 4.326932412368478e-06\n",
            "\n",
            "iter = 400 \t Theta = 7.299098014831543 \t sigma2 = 2.3991906346054748e-06\n",
            "\n",
            "iter = 500 \t Theta = 6.86074686050415 \t sigma2 = 1.8752787127596093e-06\n",
            "\n",
            "iter = 600 \t Theta = 6.562488079071045 \t sigma2 = 1.9168883227393962e-06\n",
            "\n",
            "iter = 700 \t Theta = 6.365034103393555 \t sigma2 = 1.5641173831681954e-06\n",
            "\n",
            "iter = 800 \t Theta = 6.203616142272949 \t sigma2 = 1.939583853527438e-06\n",
            "\n",
            "iter = 900 \t Theta = 6.068112850189209 \t sigma2 = 1.60018043970922e-06\n",
            "\n",
            "iter = 1000 \t Theta = 5.956759929656982 \t sigma2 = 1.3425601537164766e-06\n",
            "\n",
            "iter = 1100 \t Theta = 5.847630500793457 \t sigma2 = 1.6006994201234193e-06\n",
            "\n",
            "iter = 1200 \t Theta = 5.773809909820557 \t sigma2 = 1.8082151882481412e-06\n",
            "\n",
            "iter = 1300 \t Theta = 5.738875865936279 \t sigma2 = 1.277416231459938e-06\n",
            "\n",
            "iter = 1400 \t Theta = 5.608071804046631 \t sigma2 = 1.827984647206904e-06\n",
            "\n",
            "iter = 1500 \t Theta = 5.545863151550293 \t sigma2 = 1.5777686712681316e-06\n",
            "\n",
            "iter = 1600 \t Theta = 5.473203182220459 \t sigma2 = 1.2299539093874046e-06\n",
            "\n",
            "iter = 1700 \t Theta = 5.435756206512451 \t sigma2 = 1.440393930352002e-06\n",
            "\n",
            "iter = 1800 \t Theta = 5.354486465454102 \t sigma2 = 1.6135508076331462e-06\n",
            "\n",
            "iter = 1900 \t Theta = 5.321146488189697 \t sigma2 = 1.4222069921743241e-06\n",
            "\n",
            "iter = 2000 \t Theta = 5.2739081382751465 \t sigma2 = 1.6744737649787567e-06\n",
            "\n",
            "iter = 2100 \t Theta = 5.24268913269043 \t sigma2 = 1.2650830285565462e-06\n",
            "\n",
            "iter = 2200 \t Theta = 5.165596961975098 \t sigma2 = 1.6843926005094545e-06\n",
            "\n",
            "iter = 2300 \t Theta = 5.11965799331665 \t sigma2 = 1.4911524885974359e-06\n",
            "\n",
            "iter = 2400 \t Theta = 5.06648063659668 \t sigma2 = 1.5667120578655158e-06\n",
            "\n",
            "iter = 2500 \t Theta = 5.012303352355957 \t sigma2 = 1.2385784202706418e-06\n",
            "\n",
            "iter = 2600 \t Theta = 4.999837398529053 \t sigma2 = 1.597224240867945e-06\n",
            "\n",
            "iter = 2700 \t Theta = 4.943504810333252 \t sigma2 = 1.2971107707926421e-06\n",
            "\n",
            "iter = 2800 \t Theta = 4.8774003982543945 \t sigma2 = 1.3617790273201535e-06\n",
            "\n",
            "iter = 2900 \t Theta = 4.832207202911377 \t sigma2 = 1.4686672784591792e-06\n",
            "\n",
            "iter = 3000 \t Theta = 4.787527084350586 \t sigma2 = 1.6390278005928849e-06\n",
            "\n",
            "iter = 3100 \t Theta = 4.785337924957275 \t sigma2 = 1.2757276408592588e-06\n",
            "\n",
            "iter = 3200 \t Theta = 4.743422508239746 \t sigma2 = 1.4852016647637356e-06\n",
            "\n",
            "iter = 3300 \t Theta = 4.71336555480957 \t sigma2 = 1.4115107660472859e-06\n",
            "\n",
            "iter = 3400 \t Theta = 4.665849685668945 \t sigma2 = 1.2927698662679177e-06\n",
            "\n",
            "iter = 3500 \t Theta = 4.6137847900390625 \t sigma2 = 1.6703810388207785e-06\n",
            "\n",
            "iter = 3600 \t Theta = 4.5947113037109375 \t sigma2 = 1.4415344367080252e-06\n",
            "\n",
            "iter = 3700 \t Theta = 4.563356876373291 \t sigma2 = 1.2698757245743764e-06\n",
            "\n",
            "iter = 3800 \t Theta = 4.535964488983154 \t sigma2 = 1.6339134845111403e-06\n",
            "\n",
            "iter = 3900 \t Theta = 4.553066253662109 \t sigma2 = 1.5092981584530207e-06\n",
            "\n",
            "iter = 4000 \t Theta = 4.525210857391357 \t sigma2 = 1.5157979760260787e-06\n",
            "\n",
            "iter = 4100 \t Theta = 4.502618789672852 \t sigma2 = 1.39798021336901e-06\n",
            "\n",
            "iter = 4200 \t Theta = 4.487208843231201 \t sigma2 = 1.353766378997534e-06\n",
            "\n",
            "iter = 4300 \t Theta = 4.428900718688965 \t sigma2 = 1.3665496680914657e-06\n",
            "\n",
            "iter = 4400 \t Theta = 4.408575534820557 \t sigma2 = 1.549667786093778e-06\n",
            "\n",
            "iter = 4500 \t Theta = 4.404433250427246 \t sigma2 = 1.4894526429998223e-06\n",
            "\n",
            "iter = 4600 \t Theta = 4.386739730834961 \t sigma2 = 1.49297954976646e-06\n",
            "\n",
            "iter = 4700 \t Theta = 4.376626968383789 \t sigma2 = 1.5982298009475926e-06\n",
            "\n",
            "iter = 4800 \t Theta = 4.369601249694824 \t sigma2 = 1.3154456155461958e-06\n",
            "\n",
            "iter = 4900 \t Theta = 4.346622943878174 \t sigma2 = 1.2720890936179785e-06\n",
            "\n",
            "iter = 5000 \t Theta = 4.328805923461914 \t sigma2 = 1.430763859389117e-06\n",
            "\n",
            "iter = 5100 \t Theta = 4.3271870613098145 \t sigma2 = 1.5551247543044155e-06\n",
            "\n",
            "iter = 5200 \t Theta = 4.313876628875732 \t sigma2 = 1.59434637225786e-06\n",
            "\n",
            "iter = 5300 \t Theta = 4.2985029220581055 \t sigma2 = 1.5628976370862802e-06\n",
            "\n",
            "iter = 5400 \t Theta = 4.269754886627197 \t sigma2 = 1.6478234101668932e-06\n",
            "\n",
            "iter = 5500 \t Theta = 4.272892951965332 \t sigma2 = 1.3183253031456843e-06\n",
            "\n",
            "iter = 5600 \t Theta = 4.228123664855957 \t sigma2 = 1.3352080259210197e-06\n",
            "\n",
            "iter = 5700 \t Theta = 4.227477073669434 \t sigma2 = 1.4029673138793441e-06\n",
            "\n",
            "iter = 5800 \t Theta = 4.209103584289551 \t sigma2 = 1.5138043636397924e-06\n",
            "\n",
            "iter = 5900 \t Theta = 4.200080871582031 \t sigma2 = 1.5802231700945413e-06\n",
            "\n",
            "iter = 6000 \t Theta = 4.2176690101623535 \t sigma2 = 1.2940267879457679e-06\n",
            "\n",
            "iter = 6100 \t Theta = 4.176494598388672 \t sigma2 = 1.5086218354554148e-06\n",
            "\n",
            "iter = 6200 \t Theta = 4.16917610168457 \t sigma2 = 1.569960659253411e-06\n",
            "\n",
            "iter = 6300 \t Theta = 4.142507076263428 \t sigma2 = 1.326922642874706e-06\n",
            "\n",
            "iter = 6400 \t Theta = 4.10488748550415 \t sigma2 = 1.4789768556511262e-06\n",
            "\n",
            "iter = 6500 \t Theta = 4.07897424697876 \t sigma2 = 1.5526766219409183e-06\n",
            "\n",
            "iter = 6600 \t Theta = 4.069326877593994 \t sigma2 = 1.3602124226963497e-06\n",
            "\n",
            "iter = 6700 \t Theta = 4.074991226196289 \t sigma2 = 1.3093952020426514e-06\n",
            "\n",
            "iter = 6800 \t Theta = 4.068486213684082 \t sigma2 = 1.4920458397682523e-06\n",
            "\n",
            "iter = 6900 \t Theta = 4.051550388336182 \t sigma2 = 1.3664036941918312e-06\n",
            "\n",
            "iter = 7000 \t Theta = 4.049232006072998 \t sigma2 = 1.4899442248861305e-06\n",
            "\n",
            "iter = 7100 \t Theta = 4.045504093170166 \t sigma2 = 1.5034898979138234e-06\n",
            "\n",
            "iter = 7200 \t Theta = 4.052506923675537 \t sigma2 = 1.3268239626995637e-06\n",
            "\n",
            "iter = 7300 \t Theta = 4.0347065925598145 \t sigma2 = 1.385007180942921e-06\n",
            "\n",
            "iter = 7400 \t Theta = 4.01259183883667 \t sigma2 = 1.5532201587120653e-06\n",
            "\n",
            "iter = 7500 \t Theta = 4.001821041107178 \t sigma2 = 1.3627650332637131e-06\n",
            "\n",
            "iter = 7600 \t Theta = 3.985318899154663 \t sigma2 = 1.478283138567349e-06\n",
            "\n",
            "iter = 7700 \t Theta = 3.9847023487091064 \t sigma2 = 1.3149000324119697e-06\n",
            "\n",
            "iter = 7800 \t Theta = 3.9751641750335693 \t sigma2 = 1.4771824226045283e-06\n",
            "\n",
            "iter = 7900 \t Theta = 3.961946487426758 \t sigma2 = 1.315391614298278e-06\n",
            "\n",
            "iter = 8000 \t Theta = 3.9326260089874268 \t sigma2 = 1.514048335593543e-06\n",
            "\n",
            "iter = 8100 \t Theta = 3.92645525932312 \t sigma2 = 1.3124293900546036e-06\n",
            "\n",
            "iter = 8200 \t Theta = 3.9217581748962402 \t sigma2 = 1.4324567700896296e-06\n",
            "\n",
            "iter = 8300 \t Theta = 3.9224865436553955 \t sigma2 = 1.5796370007592486e-06\n",
            "\n",
            "iter = 8400 \t Theta = 3.909944772720337 \t sigma2 = 1.386345843457093e-06\n",
            "\n",
            "iter = 8500 \t Theta = 3.885220527648926 \t sigma2 = 1.476010879741807e-06\n",
            "\n",
            "iter = 8600 \t Theta = 3.8750085830688477 \t sigma2 = 1.3104008758091368e-06\n",
            "\n",
            "iter = 8700 \t Theta = 3.8453457355499268 \t sigma2 = 1.5601516452079522e-06\n",
            "\n",
            "iter = 8800 \t Theta = 3.840085506439209 \t sigma2 = 1.511372261120414e-06\n",
            "\n",
            "iter = 8900 \t Theta = 3.837123394012451 \t sigma2 = 1.4287539897850365e-06\n",
            "\n",
            "iter = 9000 \t Theta = 3.8347702026367188 \t sigma2 = 1.3212138583185151e-06\n",
            "\n",
            "iter = 9100 \t Theta = 3.8338701725006104 \t sigma2 = 1.45209810398228e-06\n",
            "\n",
            "iter = 9200 \t Theta = 3.830397605895996 \t sigma2 = 1.3623842960441834e-06\n",
            "\n",
            "iter = 9300 \t Theta = 3.815295934677124 \t sigma2 = 1.330612803940312e-06\n",
            "\n",
            "iter = 9400 \t Theta = 3.7980234622955322 \t sigma2 = 1.4691281648993026e-06\n",
            "\n",
            "iter = 9500 \t Theta = 3.800964832305908 \t sigma2 = 1.3490313222064287e-06\n",
            "\n",
            "iter = 9600 \t Theta = 3.802517890930176 \t sigma2 = 1.4391292779691867e-06\n",
            "\n",
            "iter = 9700 \t Theta = 3.8093791007995605 \t sigma2 = 1.3385049442149466e-06\n",
            "\n",
            "iter = 9800 \t Theta = 3.815363645553589 \t sigma2 = 1.5315332575482898e-06\n",
            "\n",
            "iter = 9900 \t Theta = 3.812938928604126 \t sigma2 = 1.4934323644411052e-06\n",
            "\n"
          ]
        }
      ],
      "source": [
        "print('\\nRunning SAPG algorithm     \\n')\n",
        "# We want to keep track of two traces: the log-likelihood and the TV function to monitor the behaviour of the algorithm.\n",
        "\n",
        "logPiTraceX = []      # to monitor convergence\n",
        "g_trace = []          # to monitor how the regularisation function evolves\n",
        "\n",
        "mean_theta =[]\n",
        "mean_sigma2 = []\n",
        "Grad_sigma2 = []\n",
        "\n",
        "X = X_wu.clone()       # start MYULA markov chain from last sample after warmup\n",
        "\n",
        "update_iter = 100\n",
        "\n",
        "# for k in tqdm(range(1,total_iter)): \n",
        "for k in range(1,total_iter): \n",
        "\n",
        "    ################################################################################\n",
        "    # MCMC SAMPLER\n",
        "    ################################################################################\n",
        "\n",
        "    # Number of samples\n",
        "\n",
        "    m = 3\n",
        "\n",
        "    # If we run the MCMC sampler for m times to get m samples X_m, therefore we need to average \n",
        "    # gradients w.r.t. \\theta and \\sigma^2 before the update\n",
        "    g_mcmc_trace = torch.zeros(m, device=device) # .to(device) \n",
        "    grad_sigma2_trace = torch.zeros(m, device=device) # .to(device) \n",
        "    \n",
        "    #Sample from posterior with MYULA:\n",
        "    \n",
        "    for ii in range(m):\n",
        "\n",
        "        # Calculate the gradient related to g for the current theta\n",
        "        gradgX = gradg(X,lambda_prox*theta_trace[k-1],lambda_prox)  \n",
        "        \n",
        "        # --- Calculate the gradient related to f for the current theta\n",
        "        gradfX = df_wrt_x(X,sigma2_trace[k-1])\n",
        "        # gradfX = df_wrt_x(X,sigma2_GT)\n",
        "        # --- end\n",
        "        \n",
        "        # --- MYULA update\n",
        "        X =  X - gamma*gradgX - gamma*gradfX + math.sqrt(2*gamma)*torch.randn_like(X)\n",
        "        #X = torch.clamp(X,0,255)\n",
        "        # --- end\n",
        "        \n",
        "        # --- Gardients w.r.t parameters\n",
        "        g_mcmc_trace[ii] = fun_prior(X)\n",
        "        grad_sigma2_trace[ii] = df_wrt_sigma2(X, sigma2_trace[k-1])\n",
        "        # --- end\n",
        "        \n",
        "    # --- Save current state to monitor convergence\n",
        "    logPiTraceX.append(logPi(X, sigma2_trace[k-1],theta_trace[k-1]).cpu().numpy())\n",
        "    # logPiTraceX.append(logPi(X, sigma2_GT, theta_trace[k-1]).cpu().numpy())\n",
        "    g_trace.append(g_mcmc_trace[-1].cpu().numpy())\n",
        "    # --- end (monitoring)\n",
        "    \n",
        "    # ################################################################################\n",
        "    #  PROJECTED GRADIENT ALGORITHM\n",
        "    # ################################################################################\n",
        "\n",
        "    # Update eta and theta. It should be underlined that we work on the logarithmic\n",
        "    # scale for numerical stability\n",
        "\n",
        "    # --- update \\eta and \\theta\n",
        "    etak = eta_trace[k-1] + c_theta * delta(k)  * (dimx / (alpha_homogenious * theta_trace[k-1]) - torch.mean(g_mcmc_trace)) * torch.exp(eta_trace[k-1]) \n",
        "\n",
        "    # project \\eta onto the admissible set of value\n",
        "    eta_trace[k] = min(max(etak,min_eta),max_eta)\n",
        "    \n",
        "    # Save the value of theta\n",
        "    theta_trace[k] = torch.exp(eta_trace[k])\n",
        "    # --- end (update)\n",
        "    \n",
        "    # --- Update sigma^2\n",
        "    # sigma2_k = sigma2_trace[k-1] + c_sigma2 * delta(k) * torch.mean(grad_sigma2_trace)\n",
        "    alpha_homogenious_sigma = -1.\n",
        "    mu_k = mu_trace[k-1] + c_sigma2 * delta(k) * (\n",
        "        dimx / (alpha_homogenious_sigma * sigma2_trace[k-1]) - torch.mean(grad_sigma2_trace)\n",
        "    ) * torch.exp(mu_trace[k-1]) \n",
        "\n",
        "    mu_trace[k] = min(max(mu_k, min_mu), max_mu)\n",
        "    sigma2_trace[k] = torch.exp(mu_trace[k])\n",
        "    # sigma2_trace[k] = sigma2_GT\n",
        "    # --- end (update)\n",
        "    \n",
        "    # -- \n",
        "    Grad_sigma2.append(df_wrt_sigma2(X, sigma2_trace[k-1]).cpu().numpy())\n",
        "    if k % update_iter == 0:\n",
        "        print(f\"iter = {k} \\t Theta = {theta_trace[k]} \\t sigma2 = {sigma2_trace[k]}\\n\")\n",
        "        # print(f\"iter = {k} \\t Theta = {theta_trace[k]}\\n\")\n",
        "   \n",
        "    # --- Check stop criteria. If relative error is smaller than op.stopTol stop\n",
        "    \n",
        "    if k>burnIn+1:\n",
        "        mean_theta.append(torch.mean(theta_trace[burnIn:(k+1)]).cpu().numpy())\n",
        "        mean_sigma2.append(torch.mean(sigma2_trace[burnIn:(k+1)]).cpu().numpy())\n",
        "        \n",
        "        relErrTh1 = torch.abs(torch.mean(theta_trace[burnIn:(k+1)]) - torch.mean(theta_trace[burnIn:k])) / torch.mean(theta_trace[burnIn:k])\n",
        "        \n",
        "        relErrSi1 = torch.abs(torch.mean(sigma2_trace[burnIn:(k+1)]) - torch.mean(sigma2_trace[burnIn:k])) / torch.mean(sigma2_trace[burnIn:k])\n",
        "\n",
        "        if (relErrTh1<stopTol) and (relErrSi1<stopTol) and 1 == 2 :\n",
        "        # if (relErrTh1<stopTol) and 1 == 2 :    \n",
        "            print(\"Toleration reached!\")\n",
        "            break\n",
        "     # --- end (stop criteria)       \n",
        "\n",
        "# --- Collecting data\n",
        "last_samp = k\n",
        "\n",
        "logPiTraceX = logPiTraceX[:last_samp+1]\n",
        "gXTrace = g_trace[:last_samp+1]\n",
        "\n",
        "theta_EB = torch.exp(torch.mean(eta_trace[burnIn:last_samp+1]))\n",
        "last_theta = theta_trace[last_samp]\n",
        "thetas = theta_trace[:last_samp+1]\n",
        "\n",
        "sigma2_EB = torch.exp(torch.mean(mu_trace[burnIn:last_samp+1]))\n",
        "last_sigma2 = sigma2_trace[last_samp]\n",
        "sigmas2 = sigma2_trace[:last_samp+1]\n",
        "\n"
      ]
    },
    {
      "cell_type": "code",
      "execution_count": 18,
      "metadata": {},
      "outputs": [],
      "source": [
        "# Estimated theta:  tensor(5.2098)\n",
        "# Last theta:  tensor(5.0593)\n"
      ]
    },
    {
      "cell_type": "code",
      "execution_count": 19,
      "metadata": {},
      "outputs": [
        {
          "data": {
            "text/plain": [
              "tensor(5.7600e-06, device='cuda:0', dtype=torch.float64)"
            ]
          },
          "execution_count": 19,
          "metadata": {},
          "output_type": "execute_result"
        }
      ],
      "source": [
        "sigma2_GT"
      ]
    },
    {
      "cell_type": "code",
      "execution_count": 20,
      "metadata": {},
      "outputs": [
        {
          "name": "stdout",
          "output_type": "stream",
          "text": [
            "Estimated theta:  tensor(3.8489)\n",
            "Last theta:  tensor(3.7979)\n"
          ]
        }
      ],
      "source": [
        "print(\"Estimated theta: \", theta_EB)\n",
        "print(\"Last theta: \", last_theta)\n",
        "# print(\"Estimated value of sigma2 \",sigma2_EB, sigma**2)\n",
        "\n",
        "# m=1\n",
        "# Estimated theta:  tensor(6.7554)\n",
        "# Last theta:  tensor(6.5733)\n",
        "# m=10\n",
        "# Estimated theta:  tensor(5.0369)\n",
        "# Last theta:  tensor(4.9299)"
      ]
    },
    {
      "cell_type": "code",
      "execution_count": 21,
      "metadata": {},
      "outputs": [
        {
          "name": "stdout",
          "output_type": "stream",
          "text": [
            "Estimated sigma2_EB:  tensor(1.4221e-06)\n",
            "Last sigma2:  tensor(1.4095e-06)\n",
            "GT sigma2:  5.759999999999999e-06\n",
            "Estimated sigma_EB:  0.001192498376550267\n",
            "GT sigma:  0.0024\n"
          ]
        }
      ],
      "source": [
        "print(\"Estimated sigma2_EB: \", sigma2_EB)\n",
        "print(\"Last sigma2: \", last_sigma2)\n",
        "print('GT sigma2: ', sigma2_GT.item())\n",
        "\n",
        "print('Estimated sigma_EB: ', np.sqrt(sigma2_EB.item()))\n",
        "print('GT sigma: ', np.sqrt(sigma2_GT.item()))\n",
        "\n",
        "# print(\"Estimated value of sigma2 \",sigma2_EB, sigma**2)"
      ]
    },
    {
      "cell_type": "code",
      "execution_count": 22,
      "metadata": {},
      "outputs": [],
      "source": [
        "# Estimated sigma2_EB:  tensor(2.4661e-07)\n",
        "# Last sigma2:  tensor(2.2290e-07)\n",
        "# GT sigma2:  5.759999999999999e-06\n",
        "# Estimated sigma_EB:  0.0004966016915510602\n",
        "# GT sigma:  0.0024"
      ]
    },
    {
      "cell_type": "code",
      "execution_count": 23,
      "metadata": {},
      "outputs": [
        {
          "data": {
            "text/plain": [
              "<matplotlib.legend.Legend at 0x7fc0a46fec40>"
            ]
          },
          "execution_count": 23,
          "metadata": {},
          "output_type": "execute_result"
        },
        {
          "data": {
            "image/png": "[encoded data removed]",
            "text/plain": [
              "<Figure size 640x480 with 1 Axes>"
            ]
          },
          "metadata": {},
          "output_type": "display_data"
        },
        {
          "data": {
            "image/png": "[encoded data removed]",
            "text/plain": [
              "<Figure size 640x480 with 1 Axes>"
            ]
          },
          "metadata": {},
          "output_type": "display_data"
        },
        {
          "data": {
            "image/png": "[encoded data removed]",
            "text/plain": [
              "<Figure size 640x480 with 1 Axes>"
            ]
          },
          "metadata": {},
          "output_type": "display_data"
        },
        {
          "data": {
            "image/png": "[encoded data removed]",
            "text/plain": [
              "<Figure size 640x480 with 1 Axes>"
            ]
          },
          "metadata": {},
          "output_type": "display_data"
        }
      ],
      "source": [
        "# Plot the results\n",
        "\n",
        "plot1 = plt.figure()\n",
        "plt.plot(thetas[:].cpu().numpy(),linestyle=\"-\")\n",
        "plt.xlabel(\"$Iterations$\")\n",
        "plt.ylabel(\"$θ$\")\n",
        "\n",
        "plot1 = plt.figure()\n",
        "plt.plot( logPiTraceX,linestyle=\"-\")\n",
        "plt.xlabel(\"$Iterations$\")\n",
        "plt.ylabel(\"$log(p(x|y))$\")\n",
        "\n",
        "plot1 = plt.subplots()\n",
        "plt.plot( gXTrace[:],linestyle=\"-\")\n",
        "plt.plot( 256*256/thetas[:].cpu().numpy(),linestyle=\"-\")\n",
        "plt.xlabel(\"$Iterations$\")\n",
        "plt.ylabel(\"$g(x) versus d/theta$\")\n",
        "\n",
        "fig, ax = plt.subplots()\n",
        "ax.plot(sigmas2.cpu().numpy(),linestyle=\"-\",label=\"$σ_{n}^{2}$\")\n",
        "plt.axhline(y=sigma**2, color='r', linestyle='--',label=\"$σ_{\\dagger}^{2}$\")\n",
        "#plt.ylim(min_sigma2, max_sigma2)\n",
        "ax.set_xlabel(\"$Iterations\\,\\,(n)$\")\n",
        "ax.set_ylabel(\"$sigma^{2}$\")\n",
        "ax.legend()\n"
      ]
    },
    {
      "cell_type": "code",
      "execution_count": 24,
      "metadata": {},
      "outputs": [
        {
          "data": {
            "text/plain": [
              "<matplotlib.legend.Legend at 0x7fc0a45403a0>"
            ]
          },
          "execution_count": 24,
          "metadata": {},
          "output_type": "execute_result"
        },
        {
          "data": {
            "image/png": "[encoded data removed]",
            "text/plain": [
              "<Figure size 640x480 with 1 Axes>"
            ]
          },
          "metadata": {},
          "output_type": "display_data"
        },
        {
          "data": {
            "image/png": "[encoded data removed]",
            "text/plain": [
              "<Figure size 640x480 with 1 Axes>"
            ]
          },
          "metadata": {},
          "output_type": "display_data"
        },
        {
          "data": {
            "image/png": "[encoded data removed]",
            "text/plain": [
              "<Figure size 640x480 with 1 Axes>"
            ]
          },
          "metadata": {},
          "output_type": "display_data"
        }
      ],
      "source": [
        "start_it = 1000\n",
        "\n",
        "plot1 = plt.figure()\n",
        "plt.plot(thetas[start_it:].cpu().numpy(),linestyle=\"-\")\n",
        "plt.xlabel(\"$Iterations$\")\n",
        "plt.ylabel(\"$θ$\")\n",
        "\n",
        "\n",
        "fig, ax = plt.subplots()\n",
        "ax.plot(sigmas2[start_it:].cpu().numpy(),linestyle=\"-\",label=\"$σ_{n}^{2}$\")\n",
        "plt.axhline(y=sigma**2, color='r', linestyle='--',label=\"$σ_{\\dagger}^{2}$\")\n",
        "#plt.ylim(min_sigma2, max_sigma2)\n",
        "ax.set_xlabel(\"$Iterations\\,\\,(n)$\")\n",
        "ax.set_ylabel(\"$sigma^{2}$\")\n",
        "ax.legend()\n",
        "\n",
        "\n",
        "fig, ax = plt.subplots()\n",
        "plt.title('Last iterations')\n",
        "ax.plot(sigmas2[len(sigmas2)-start_it:].cpu().numpy(),linestyle=\"-\",label=\"$σ_{n}^{2}$\")\n",
        "plt.axhline(y=sigma**2, color='r', linestyle='--',label=\"$σ_{\\dagger}^{2}$\")\n",
        "#plt.ylim(min_sigma2, max_sigma2)\n",
        "ax.set_xlabel(\"$Iterations\\,\\,(n)$\")\n",
        "ax.set_ylabel(\"$sigma^{2}$\")\n",
        "ax.legend()"
      ]
    },
    {
      "cell_type": "code",
      "execution_count": 25,
      "metadata": {},
      "outputs": [
        {
          "data": {
            "image/png": "[encoded data removed]",
            "text/plain": [
              "<Figure size 640x480 with 1 Axes>"
            ]
          },
          "metadata": {},
          "output_type": "display_data"
        }
      ],
      "source": [
        "\n",
        "iters = np.linspace(1, total_iter, total_iter)\n",
        "\n",
        "plt.figure()\n",
        "plt.plot(iters[100:], delta(iters[100:]))\n",
        "plt.show()\n",
        "\n"
      ]
    },
    {
      "cell_type": "code",
      "execution_count": null,
      "metadata": {},
      "outputs": [],
      "source": []
    },
    {
      "cell_type": "code",
      "execution_count": null,
      "metadata": {},
      "outputs": [],
      "source": []
    }
  ],
  "metadata": {
    "kernelspec": {
      "display_name": "convex_uq",
      "language": "python",
      "name": "python3"
    },
    "language_info": {
      "codemirror_mode": {
        "name": "ipython",
        "version": 3
      },
      "file_extension": ".py",
      "mimetype": "text/x-python",
      "name": "python",
      "nbconvert_exporter": "python",
      "pygments_lexer": "ipython3",
      "version": "3.9.16"
    },
    "vscode": {
      "interpreter": {
        "hash": "2bb75ebd6ceb1eff2ce987e124c91bc6f99e62fd1930d98a82dc138614104eef"
      }
    }
  },
  "nbformat": 4,
  "nbformat_minor": 0
}
