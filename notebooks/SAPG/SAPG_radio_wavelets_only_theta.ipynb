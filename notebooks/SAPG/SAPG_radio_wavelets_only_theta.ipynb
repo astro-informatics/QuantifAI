{
  "cells": [
    {
      "cell_type": "code",
      "execution_count": 227,
      "metadata": {
        "collapsed": false
      },
      "outputs": [
        {
          "name": "stdout",
          "output_type": "stream",
          "text": [
            "True\n",
            "1\n",
            "0\n",
            "NVIDIA A100-PCIE-40GB\n"
          ]
        }
      ],
      "source": [
        "import sys\n",
        "import os\n",
        "import time\n",
        "import math\n",
        "from functools import partial\n",
        "import numpy as np\n",
        "from astropy.io import fits\n",
        "import scipy.io as sio\n",
        "\n",
        "import torch\n",
        "M1 = False\n",
        "\n",
        "if M1:\n",
        "    device = torch.device('mps' if torch.backends.mps.is_available() else 'cpu')\n",
        "else:\n",
        "    os.environ[\"CUDA_VISIBLE_DEVICES\"]=\"1\"\n",
        "    device = torch.device('cuda' if torch.cuda.is_available() else 'cpu')\n",
        "    if torch.cuda.is_available():\n",
        "        print(torch.cuda.is_available())\n",
        "        print(torch.cuda.device_count())\n",
        "        print(torch.cuda.current_device())\n",
        "        print(torch.cuda.get_device_name(torch.cuda.current_device()))\n",
        "\n",
        "\n",
        "import large_scale_UQ as luq\n",
        "\n",
        "from tqdm import tqdm\n",
        "\n",
        "from skimage.metrics import peak_signal_noise_ratio as psnr\n",
        "from skimage.metrics import structural_similarity as ssim\n",
        "from large_scale_UQ.utils import to_numpy, to_tensor\n",
        "\n",
        "from matplotlib import pyplot as plt\n",
        "from mpl_toolkits.axes_grid1 import make_axes_locatable\n"
      ]
    },
    {
      "cell_type": "code",
      "execution_count": 228,
      "metadata": {
        "collapsed": false
      },
      "outputs": [],
      "source": [
        "options = {\"tol\": 1e-5, \"iter\": 5000, \"update_iter\": 50, \"record_iters\": False}\n"
      ]
    },
    {
      "cell_type": "code",
      "execution_count": 229,
      "metadata": {},
      "outputs": [
        {
          "name": "stderr",
          "output_type": "stream",
          "text": [
            "WARNING: The following header keyword is invalid or follows an unrecognized non-standard convention:\n",
            "INSTRUME                                                                         [astropy.io.fits.card]\n"
          ]
        }
      ],
      "source": [
        "# repo_dir = '/Users/tl/Documents/research/repos/proj-convex-UQ/large-scale-UQ'\n",
        "repo_dir = '/disk/xray0/tl3/repos/large-scale-UQ'\n",
        "save_dir = repo_dir + '/notebooks/SAPG/output/'\n",
        "savefig_dir = repo_dir + '/notebooks/SAPG/figs/'\n",
        "\n",
        "# optimization settings\n",
        "wavs =  [\"db8\"]# [\"db1\", \"db4\"]                                     # Wavelet dictionaries to combine\n",
        "levels = 4 # 3                                               # Wavelet levels to consider [1-6]\n",
        "reg_param = 50. # 2.e-3\n",
        "img_name = 'M31'\n",
        "\n",
        "# Saving names\n",
        "save_name = '{:s}_256_wavelet_SAPG-{:s}_{:d}_reg_{:.1f}'.format(\n",
        "    img_name, wavs[0], levels, reg_param\n",
        ")\n",
        "\n",
        "\n",
        "# Load img\n",
        "img_path = repo_dir + '/data/imgs/{:s}.fits'.format(img_name)\n",
        "img_data = fits.open(img_path, memmap=False)\n",
        "\n",
        "# Loading the image and cast it to float\n",
        "img = np.copy(img_data[0].data)[0,:,:].astype(np.float64)\n",
        "# Flipping data\n",
        "img = np.flipud(img)\n",
        "\n",
        "# Aliases\n",
        "x = img\n",
        "ground_truth = img\n",
        " \n",
        " \n",
        "# Load op from X Cai\n",
        "op_mask = sio.loadmat(repo_dir + '/data/operators_masks/fourier_mask.mat')['Ma']\n",
        "\n",
        "# Matlab's reshape works with 'F'-like ordering\n",
        "mat_mask = np.reshape(np.sum(op_mask, axis=0), (256,256), order='F').astype(bool)\n",
        "\n",
        "# Define my torch types\n",
        "myType = torch.float64\n",
        "myComplexType = torch.complex128\n",
        "\n",
        "torch_img = torch.tensor(np.copy(img), dtype=myType, device=device).reshape((1,1) + img.shape)\n",
        "dim = img.shape[0]\n",
        "\n",
        "# A mock radio imaging forward model with half of the Fourier coefficients masked\n",
        "# Use X. Cai's Fourier mask\n",
        "phi = luq.operators.MaskedFourier_torch(\n",
        "    dim=dim, \n",
        "    ratio=0.5 ,\n",
        "    mask=mat_mask,\n",
        "    norm='ortho',\n",
        "    device=device\n",
        ")\n",
        "\n",
        "# Define X Cai noise level\n",
        "sigma = 0.0024\n",
        "sigma2 = sigma**2\n",
        "\n",
        "sigma_GT = np.copy(sigma)\n",
        "sigma2_GT = np.copy(sigma2)\n",
        "\n",
        "y = phi.dir_op(torch_img).detach().cpu().squeeze().numpy()\n",
        "\n",
        "# Generate noise\n",
        "rng = np.random.default_rng(seed=0)\n",
        "n = rng.normal(0, sigma, y[y!=0].shape)\n",
        "# Add noise\n",
        "y[y!=0] += n\n",
        "\n",
        "# Observation\n",
        "torch_y = torch.tensor(np.copy(y), device=device, dtype=myComplexType).reshape((1,) + img.shape)\n",
        "x_init = torch.abs(phi.adj_op(torch_y))\n",
        "\n"
      ]
    },
    {
      "cell_type": "code",
      "execution_count": 230,
      "metadata": {},
      "outputs": [
        {
          "data": {
            "text/plain": [
              "5.759999999999999e-06"
            ]
          },
          "execution_count": 230,
          "metadata": {},
          "output_type": "execute_result"
        }
      ],
      "source": [
        "sigma2"
      ]
    },
    {
      "cell_type": "code",
      "execution_count": 231,
      "metadata": {},
      "outputs": [],
      "source": [
        "\n",
        "# Define the likelihood\n",
        "g = luq.operators.L2Norm_torch(\n",
        "    sigma=sigma,\n",
        "    data=torch_y,\n",
        "    Phi=phi,\n",
        ")\n",
        "# g.beta = 1.0 / sigma ** 2\n",
        "\n",
        "# Define real prox\n",
        "f = luq.operators.RealProx_torch()\n",
        "\n",
        "\n",
        "# Define the wavelet dict\n",
        "# Define the l1 norm with dict psi\n",
        "# gamma = torch.max(torch.abs(psi.dir_op(y_torch))) * reg_param\n",
        "psi = luq.operators.DictionaryWv_torch(wavs, levels)\n",
        "\n",
        "h = luq.operators.L1Norm_torch(1., psi, op_to_coeffs=True)\n",
        "gamma = h._get_max_abs_coeffs(h.dir_op(torch.clone(x_init))) # * reg_param\n",
        "h.gamma = gamma\n",
        "h.beta = 1.0\n"
      ]
    },
    {
      "cell_type": "code",
      "execution_count": null,
      "metadata": {},
      "outputs": [],
      "source": []
    },
    {
      "cell_type": "code",
      "execution_count": 232,
      "metadata": {},
      "outputs": [],
      "source": [
        "\n",
        "# Define sigma bounds\n",
        "min_sigma2 = torch.tensor(1e-12, device=device, dtype=myType)\n",
        "max_sigma2 = torch.tensor(1e3, device=device, dtype=myType)\n",
        "sigma2_init = torch.tensor(1e-6, device=device, dtype=myType)\n",
        "\n"
      ]
    },
    {
      "cell_type": "code",
      "execution_count": 233,
      "metadata": {},
      "outputs": [],
      "source": [
        "# Negative log-likelihood -logp(t|x,sigma^2)\n",
        "f = lambda _x, sigma2: g.fun(_x, sigma2=sigma2)\n",
        "\n",
        "# --- Gradient w.r.t. sigma^2\n",
        "dimx = x.size\n",
        "alpha_homogenious = 1\n",
        "# df_wrt_sigma2 = lambda _x, sigma2: torch.real(g.grad_sigma2(_x, sigma2=sigma2)) - dimx / (alpha_homogenious * sigma2)\n",
        "df_wrt_sigma2 = lambda _x, sigma2: torch.real(g.grad_sigma2(_x, sigma2=sigma2))\n",
        "# Note: The second part corresponds to the normalisation constant Z of the posterior\n",
        "\n",
        "# --- Gradient w.r.t. x\n",
        "df_wrt_x = lambda _x, sigma2: torch.real(g.grad(_x, sigma2=sigma2))\n"
      ]
    },
    {
      "cell_type": "code",
      "execution_count": 234,
      "metadata": {},
      "outputs": [],
      "source": [
        "# Define prior\n",
        "fun_prior = lambda _x : h._fun_coeffs(h.dir_op(torch.clone(_x)))\n",
        "sub_op = lambda _x1, _x2 : _x1 - _x2\n",
        "\n",
        "# proximity operator\n",
        "prox_prior_cai = lambda _x, lmbd : torch.clone(_x) + h.adj_op(h._op_to_two_coeffs(\n",
        "    h.prox(h.dir_op(torch.clone(_x)), lmbd),\n",
        "    h.dir_op(torch.clone(_x)), sub_op\n",
        "))\n",
        "prox_prior = lambda _x, lmbd : h.adj_op(h.prox(h.dir_op(torch.clone(_x)), lmbd))\n",
        "\n",
        "# gradient of the prior\n",
        "gradg = lambda x, lam, lambda_prox: torch.real(x - prox_prior_cai(x,lam)) / lambda_prox    \n"
      ]
    },
    {
      "cell_type": "code",
      "execution_count": 235,
      "metadata": {},
      "outputs": [],
      "source": [
        "# Log of posterior distribution\n",
        "logPi = lambda _x, sigma2, theta: (- f(_x, sigma2) - theta * fun_prior(_x))\n"
      ]
    },
    {
      "cell_type": "code",
      "execution_count": 236,
      "metadata": {},
      "outputs": [],
      "source": [
        "\n",
        "## Lipschitz Constants\n",
        "\n",
        "# --- Maximum eigenvalue of operator A. Norm of blurring operator.\n",
        "g._compute_lip_constant()\n",
        "AAt_norm =  g.beta * (g.sigma**2) \n",
        "\n",
        "# Lipshcitz constant of f.\n",
        "Lp_fun = lambda sigma2: AAt_norm**2 / sigma2  \n",
        "# L_f =  min(Lp_fun(min_sigma2), Lp_fun(max_sigma2))\n",
        "# L_f= Lp_fun(sigma2_init)\n",
        "L_f= Lp_fun(sigma2_GT)\n",
        "\n",
        "# --- regularization parameter of proximity operator (\\lambda).\n",
        "lambdaMax = 2\n",
        "lambda_prox = min((1/L_f), lambdaMax)   \n",
        "# --- end\n",
        "\n",
        "# --- Lipshcitz constant of g.\n",
        "L_g =  1/lambda_prox \n",
        "\n",
        "# --- Lipshcitz constant of g + f\n",
        "L =  L_f + L_g\n",
        "# --- end\n",
        "\n",
        "# --- Stepsize of MCMC algorithm.\n",
        "gamma = 0.98*1/L\n",
        "# --- end\n"
      ]
    },
    {
      "cell_type": "code",
      "execution_count": 254,
      "metadata": {},
      "outputs": [
        {
          "data": {
            "text/plain": [
              "5.760002746583013e-06"
            ]
          },
          "execution_count": 254,
          "metadata": {},
          "output_type": "execute_result"
        }
      ],
      "source": [
        "lambda_prox"
      ]
    },
    {
      "cell_type": "code",
      "execution_count": 238,
      "metadata": {},
      "outputs": [
        {
          "data": {
            "text/plain": [
              "173611.02832689215"
            ]
          },
          "execution_count": 238,
          "metadata": {},
          "output_type": "execute_result"
        }
      ],
      "source": [
        "L_g"
      ]
    },
    {
      "cell_type": "code",
      "execution_count": 239,
      "metadata": {},
      "outputs": [
        {
          "name": "stdout",
          "output_type": "stream",
          "text": [
            "L:  347222.0566537843\n",
            "gamma:  2.8224013458256763e-06\n",
            "lambda_prox:  5.760002746583013e-06\n"
          ]
        }
      ],
      "source": [
        "print('L: ', L)\n",
        "print('gamma: ', gamma)\n",
        "print('lambda_prox: ', lambda_prox)\n",
        "\n"
      ]
    },
    {
      "cell_type": "code",
      "execution_count": 240,
      "metadata": {},
      "outputs": [],
      "source": [
        "# --- Initialization of parameter theta\n",
        "th_init = 1e3 # 0.01\n",
        "\n",
        "# --- Admisible set for \\theta (min and max values).\n",
        "min_th = 1e-2 # 0.001\n",
        "max_th = 1e6 # 1\n",
        "\n",
        "# --- define stepsize delta \n",
        "d_exp = 0.8\n",
        "delta = lambda _i: (_i**(-d_exp)) / dimx \n",
        "\n",
        "# --- constant to tune the stepsize of each parameter\n",
        "c_theta = 2e2 # 1e1\n",
        "c_sigma2 = 1e1 # 1e5\n"
      ]
    },
    {
      "cell_type": "code",
      "execution_count": null,
      "metadata": {},
      "outputs": [],
      "source": []
    },
    {
      "cell_type": "code",
      "execution_count": 241,
      "metadata": {},
      "outputs": [],
      "source": [
        "# --- Warmup period for the MCMC sampling\n",
        "warmupSteps = 1000\n",
        "\n",
        "# --- total number of iterations for the optimization algorithm on theta\n",
        "total_iter = np.int64(2e4)\n",
        "\n",
        "# --- burn-in period for the optimization algorithm on theta\n",
        "burnIn = int(total_iter * 0.8)"
      ]
    },
    {
      "cell_type": "code",
      "execution_count": 242,
      "metadata": {},
      "outputs": [
        {
          "name": "stdout",
          "output_type": "stream",
          "text": [
            "Running Warm up     \n",
            "\n"
          ]
        },
        {
          "name": "stderr",
          "output_type": "stream",
          "text": [
            "100%|██████████| 999/999 [00:06<00:00, 158.09it/s]\n"
          ]
        }
      ],
      "source": [
        "# --- Initialization of the warm-up chain\n",
        "# X_wu = y.to(device).detach().clone()\n",
        "x_init = torch.abs(phi.adj_op(torch_y))\n",
        "X_wu = torch.clone(x_init)\n",
        "\n",
        "#Run MYULA sampler with fix theta and fix sigma^2 to warm up the markov chain\n",
        "\n",
        "fix_sigma2 = torch.tensor(sigma2_GT, device=device, dtype=myType) #sigma2_init\n",
        "fix_theta = th_init\n",
        "\n",
        "print('Running Warm up     \\n')\n",
        "\n",
        "for k in tqdm(range(1,warmupSteps)):\n",
        "    # --- Gradients\n",
        "    gradf_X_wu = df_wrt_x(X_wu, fix_sigma2)\n",
        "    gradg_X_wu = gradg(X_wu, lambda_prox*fix_theta, lambda_prox)\n",
        "    # --- end (gradients)\n",
        "    \n",
        "    # --- MYULA warm-up\n",
        "    X_wu =  X_wu - gamma*gradg_X_wu - gamma*gradf_X_wu + math.sqrt(2*gamma)*torch.randn_like(X_wu)\n",
        "    # --- end (warm-up)\n"
      ]
    },
    {
      "cell_type": "code",
      "execution_count": 243,
      "metadata": {},
      "outputs": [],
      "source": [
        "np_sigma2_GT = np.copy(sigma2_GT)\n",
        "sigma2_GT = torch.tensor(sigma2_GT, device=device, dtype=myType)"
      ]
    },
    {
      "cell_type": "code",
      "execution_count": 244,
      "metadata": {},
      "outputs": [],
      "source": [
        "# Keeping track of the reg. parameter's trace\n",
        "theta_trace = torch.zeros(total_iter)\n",
        "theta_trace[0] = th_init\n",
        "\n",
        "sigma2_trace= torch.zeros(total_iter)\n",
        "sigma2_trace[0]= sigma2_init\n",
        "\n",
        "# We work on a logarithmic scale, so we define an axiliary variable \n",
        "#eta such that theta=exp{eta}. \n",
        "\n",
        "eta_init = math.log(th_init)\n",
        "min_eta = math.log(min_th)\n",
        "max_eta = math.log(max_th)\n",
        "\n",
        "eta_trace = torch.zeros(total_iter)\n",
        "eta_trace[0] = eta_init\n",
        "\n",
        "# Repeat the log scale on the sigma2\n",
        "mu_init = math.log(sigma2_init)\n",
        "min_mu = math.log(min_sigma2)\n",
        "max_mu = math.log(max_sigma2)\n",
        "\n",
        "mu_trace = torch.zeros(total_iter)\n",
        "mu_trace[0] = mu_init\n",
        "\n",
        "# Stop criteria (relative change tolerance) for the proximal gradient algorithm\n",
        "\n",
        "stopTol=1e-5\n"
      ]
    },
    {
      "cell_type": "code",
      "execution_count": 245,
      "metadata": {},
      "outputs": [
        {
          "name": "stdout",
          "output_type": "stream",
          "text": [
            "\n",
            "Running SAPG algorithm     \n",
            "\n",
            "iter = 100 \t Theta = 0.009999999776482582\n",
            "\n",
            "iter = 200 \t Theta = 12.827452659606934\n",
            "\n",
            "iter = 300 \t Theta = 8.16954231262207\n",
            "\n",
            "iter = 400 \t Theta = 11.773517608642578\n",
            "\n",
            "iter = 500 \t Theta = 10.974431037902832\n",
            "\n",
            "iter = 600 \t Theta = 10.363719940185547\n",
            "\n",
            "iter = 700 \t Theta = 9.910140991210938\n",
            "\n",
            "iter = 800 \t Theta = 9.534810066223145\n",
            "\n",
            "iter = 900 \t Theta = 9.188178062438965\n",
            "\n",
            "iter = 1000 \t Theta = 8.91563606262207\n",
            "\n",
            "iter = 1100 \t Theta = 8.704121589660645\n",
            "\n",
            "iter = 1200 \t Theta = 8.48897647857666\n",
            "\n",
            "iter = 1300 \t Theta = 8.348801612854004\n",
            "\n",
            "iter = 1400 \t Theta = 8.169548034667969\n",
            "\n",
            "iter = 1500 \t Theta = 8.03079605102539\n",
            "\n",
            "iter = 1600 \t Theta = 7.893386363983154\n",
            "\n",
            "iter = 1700 \t Theta = 7.728298664093018\n",
            "\n",
            "iter = 1800 \t Theta = 7.607733249664307\n",
            "\n",
            "iter = 1900 \t Theta = 7.519878387451172\n",
            "\n",
            "iter = 2000 \t Theta = 7.449260711669922\n",
            "\n",
            "iter = 2100 \t Theta = 7.303879737854004\n",
            "\n",
            "iter = 2200 \t Theta = 7.236743927001953\n",
            "\n",
            "iter = 2300 \t Theta = 7.160439968109131\n",
            "\n",
            "iter = 2400 \t Theta = 7.084336280822754\n",
            "\n",
            "iter = 2500 \t Theta = 7.030895233154297\n",
            "\n",
            "iter = 2600 \t Theta = 6.939375877380371\n",
            "\n",
            "iter = 2700 \t Theta = 6.870867729187012\n",
            "\n",
            "iter = 2800 \t Theta = 6.836353302001953\n",
            "\n",
            "iter = 2900 \t Theta = 6.727605819702148\n",
            "\n",
            "iter = 3000 \t Theta = 6.6285529136657715\n",
            "\n",
            "iter = 3100 \t Theta = 6.588677406311035\n",
            "\n",
            "iter = 3200 \t Theta = 6.515812397003174\n",
            "\n",
            "iter = 3300 \t Theta = 6.49035120010376\n",
            "\n",
            "iter = 3400 \t Theta = 6.436311721801758\n",
            "\n",
            "iter = 3500 \t Theta = 6.37990140914917\n",
            "\n",
            "iter = 3600 \t Theta = 6.340076446533203\n",
            "\n",
            "iter = 3700 \t Theta = 6.278724670410156\n",
            "\n",
            "iter = 3800 \t Theta = 6.220851898193359\n",
            "\n",
            "iter = 3900 \t Theta = 6.172721862792969\n",
            "\n",
            "iter = 4000 \t Theta = 6.138101577758789\n",
            "\n",
            "iter = 4100 \t Theta = 6.1033220291137695\n",
            "\n",
            "iter = 4200 \t Theta = 6.067779541015625\n",
            "\n",
            "iter = 4300 \t Theta = 6.050044536590576\n",
            "\n",
            "iter = 4400 \t Theta = 5.995394229888916\n",
            "\n",
            "iter = 4500 \t Theta = 5.959571838378906\n",
            "\n",
            "iter = 4600 \t Theta = 5.884884834289551\n",
            "\n",
            "iter = 4700 \t Theta = 5.8410773277282715\n",
            "\n",
            "iter = 4800 \t Theta = 5.834881782531738\n",
            "\n",
            "iter = 4900 \t Theta = 5.820559024810791\n",
            "\n",
            "iter = 5000 \t Theta = 5.777026176452637\n",
            "\n",
            "iter = 5100 \t Theta = 5.7356953620910645\n",
            "\n",
            "iter = 5200 \t Theta = 5.736359119415283\n",
            "\n",
            "iter = 5300 \t Theta = 5.721932411193848\n",
            "\n",
            "iter = 5400 \t Theta = 5.671606063842773\n",
            "\n",
            "iter = 5500 \t Theta = 5.638604640960693\n",
            "\n",
            "iter = 5600 \t Theta = 5.582285404205322\n",
            "\n",
            "iter = 5700 \t Theta = 5.55558967590332\n",
            "\n",
            "iter = 5800 \t Theta = 5.526740074157715\n",
            "\n",
            "iter = 5900 \t Theta = 5.505401611328125\n",
            "\n",
            "iter = 6000 \t Theta = 5.489894390106201\n",
            "\n",
            "iter = 6100 \t Theta = 5.46228551864624\n",
            "\n",
            "iter = 6200 \t Theta = 5.4454827308654785\n",
            "\n",
            "iter = 6300 \t Theta = 5.410282611846924\n",
            "\n",
            "iter = 6400 \t Theta = 5.391897201538086\n",
            "\n",
            "iter = 6500 \t Theta = 5.391117572784424\n",
            "\n",
            "iter = 6600 \t Theta = 5.357142448425293\n",
            "\n",
            "iter = 6700 \t Theta = 5.317215919494629\n",
            "\n",
            "iter = 6800 \t Theta = 5.290407657623291\n",
            "\n",
            "iter = 6900 \t Theta = 5.256821155548096\n",
            "\n",
            "iter = 7000 \t Theta = 5.261301040649414\n",
            "\n",
            "iter = 7100 \t Theta = 5.240236282348633\n",
            "\n",
            "iter = 7200 \t Theta = 5.214898109436035\n",
            "\n",
            "iter = 7300 \t Theta = 5.197846412658691\n",
            "\n",
            "iter = 7400 \t Theta = 5.1780524253845215\n",
            "\n",
            "iter = 7500 \t Theta = 5.187164783477783\n",
            "\n",
            "iter = 7600 \t Theta = 5.163058280944824\n",
            "\n",
            "iter = 7700 \t Theta = 5.142899513244629\n",
            "\n",
            "iter = 7800 \t Theta = 5.1214680671691895\n",
            "\n",
            "iter = 7900 \t Theta = 5.097970485687256\n",
            "\n",
            "iter = 8000 \t Theta = 5.098982810974121\n",
            "\n",
            "iter = 8100 \t Theta = 5.080502510070801\n",
            "\n",
            "iter = 8200 \t Theta = 5.063007354736328\n",
            "\n",
            "iter = 8300 \t Theta = 5.042669296264648\n",
            "\n",
            "iter = 8400 \t Theta = 5.011012077331543\n",
            "\n",
            "iter = 8500 \t Theta = 4.986642837524414\n",
            "\n",
            "iter = 8600 \t Theta = 4.974330902099609\n",
            "\n",
            "iter = 8700 \t Theta = 4.963364124298096\n",
            "\n",
            "iter = 8800 \t Theta = 4.940591335296631\n",
            "\n",
            "iter = 8900 \t Theta = 4.9372711181640625\n",
            "\n",
            "iter = 9000 \t Theta = 4.929701805114746\n",
            "\n",
            "iter = 9100 \t Theta = 4.927294731140137\n",
            "\n",
            "iter = 9200 \t Theta = 4.904200553894043\n",
            "\n",
            "iter = 9300 \t Theta = 4.886098384857178\n",
            "\n",
            "iter = 9400 \t Theta = 4.881229877471924\n",
            "\n",
            "iter = 9500 \t Theta = 4.86704683303833\n",
            "\n",
            "iter = 9600 \t Theta = 4.85404634475708\n",
            "\n",
            "iter = 9700 \t Theta = 4.855677604675293\n",
            "\n",
            "iter = 9800 \t Theta = 4.841518402099609\n",
            "\n",
            "iter = 9900 \t Theta = 4.840328693389893\n",
            "\n",
            "iter = 10000 \t Theta = 4.843090057373047\n",
            "\n",
            "iter = 10100 \t Theta = 4.84904146194458\n",
            "\n",
            "iter = 10200 \t Theta = 4.824679374694824\n",
            "\n",
            "iter = 10300 \t Theta = 4.79596471786499\n",
            "\n",
            "iter = 10400 \t Theta = 4.778294086456299\n",
            "\n",
            "iter = 10500 \t Theta = 4.763150215148926\n",
            "\n",
            "iter = 10600 \t Theta = 4.760677337646484\n",
            "\n",
            "iter = 10700 \t Theta = 4.753741264343262\n",
            "\n",
            "iter = 10800 \t Theta = 4.7451252937316895\n",
            "\n",
            "iter = 10900 \t Theta = 4.743059158325195\n",
            "\n",
            "iter = 11000 \t Theta = 4.745143890380859\n",
            "\n",
            "iter = 11100 \t Theta = 4.739470481872559\n",
            "\n",
            "iter = 11200 \t Theta = 4.749242782592773\n",
            "\n",
            "iter = 11300 \t Theta = 4.743229389190674\n",
            "\n",
            "iter = 11400 \t Theta = 4.746910572052002\n",
            "\n",
            "iter = 11500 \t Theta = 4.7367658615112305\n",
            "\n",
            "iter = 11600 \t Theta = 4.747164249420166\n",
            "\n",
            "iter = 11700 \t Theta = 4.734091758728027\n",
            "\n",
            "iter = 11800 \t Theta = 4.720149993896484\n",
            "\n",
            "iter = 11900 \t Theta = 4.7189459800720215\n",
            "\n",
            "iter = 12000 \t Theta = 4.72492790222168\n",
            "\n",
            "iter = 12100 \t Theta = 4.7205634117126465\n",
            "\n",
            "iter = 12200 \t Theta = 4.709432125091553\n",
            "\n",
            "iter = 12300 \t Theta = 4.695375442504883\n",
            "\n",
            "iter = 12400 \t Theta = 4.691304683685303\n",
            "\n",
            "iter = 12500 \t Theta = 4.682470321655273\n",
            "\n",
            "iter = 12600 \t Theta = 4.665212154388428\n",
            "\n",
            "iter = 12700 \t Theta = 4.6590166091918945\n",
            "\n",
            "iter = 12800 \t Theta = 4.6456074714660645\n",
            "\n",
            "iter = 12900 \t Theta = 4.635235786437988\n",
            "\n",
            "iter = 13000 \t Theta = 4.62528133392334\n",
            "\n",
            "iter = 13100 \t Theta = 4.619541168212891\n",
            "\n",
            "iter = 13200 \t Theta = 4.62364387512207\n",
            "\n",
            "iter = 13300 \t Theta = 4.613622188568115\n",
            "\n",
            "iter = 13400 \t Theta = 4.607218265533447\n",
            "\n",
            "iter = 13500 \t Theta = 4.605993270874023\n",
            "\n",
            "iter = 13600 \t Theta = 4.6077728271484375\n",
            "\n",
            "iter = 13700 \t Theta = 4.59374475479126\n",
            "\n",
            "iter = 13800 \t Theta = 4.585437297821045\n",
            "\n",
            "iter = 13900 \t Theta = 4.565498352050781\n",
            "\n",
            "iter = 14000 \t Theta = 4.5632829666137695\n",
            "\n",
            "iter = 14100 \t Theta = 4.559088230133057\n",
            "\n",
            "iter = 14200 \t Theta = 4.559601783752441\n",
            "\n",
            "iter = 14300 \t Theta = 4.556776523590088\n",
            "\n",
            "iter = 14400 \t Theta = 4.5399580001831055\n",
            "\n",
            "iter = 14500 \t Theta = 4.523609638214111\n",
            "\n",
            "iter = 14600 \t Theta = 4.525760173797607\n",
            "\n",
            "iter = 14700 \t Theta = 4.517862319946289\n",
            "\n",
            "iter = 14800 \t Theta = 4.511643886566162\n",
            "\n",
            "iter = 14900 \t Theta = 4.495827674865723\n",
            "\n",
            "iter = 15000 \t Theta = 4.4795403480529785\n",
            "\n",
            "iter = 15100 \t Theta = 4.466589450836182\n",
            "\n",
            "iter = 15200 \t Theta = 4.456165313720703\n",
            "\n",
            "iter = 15300 \t Theta = 4.453751564025879\n",
            "\n",
            "iter = 15400 \t Theta = 4.46091365814209\n",
            "\n",
            "iter = 15500 \t Theta = 4.459238529205322\n",
            "\n",
            "iter = 15600 \t Theta = 4.451536178588867\n",
            "\n",
            "iter = 15700 \t Theta = 4.4428629875183105\n",
            "\n",
            "iter = 15800 \t Theta = 4.442976951599121\n",
            "\n",
            "iter = 15900 \t Theta = 4.432375907897949\n",
            "\n",
            "iter = 16000 \t Theta = 4.424137592315674\n",
            "\n",
            "iter = 16100 \t Theta = 4.407429218292236\n",
            "\n",
            "iter = 16200 \t Theta = 4.398649215698242\n",
            "\n",
            "iter = 16300 \t Theta = 4.388448238372803\n",
            "\n",
            "iter = 16400 \t Theta = 4.382088661193848\n",
            "\n",
            "iter = 16500 \t Theta = 4.371054172515869\n",
            "\n",
            "iter = 16600 \t Theta = 4.367629051208496\n",
            "\n",
            "iter = 16700 \t Theta = 4.365243911743164\n",
            "\n",
            "iter = 16800 \t Theta = 4.357553958892822\n",
            "\n",
            "iter = 16900 \t Theta = 4.3596882820129395\n",
            "\n",
            "iter = 17000 \t Theta = 4.354567050933838\n",
            "\n",
            "iter = 17100 \t Theta = 4.352197170257568\n",
            "\n",
            "iter = 17200 \t Theta = 4.358755588531494\n",
            "\n",
            "iter = 17300 \t Theta = 4.346102714538574\n",
            "\n",
            "iter = 17400 \t Theta = 4.355486869812012\n",
            "\n",
            "iter = 17500 \t Theta = 4.360897064208984\n",
            "\n",
            "iter = 17600 \t Theta = 4.3624587059021\n",
            "\n",
            "iter = 17700 \t Theta = 4.353384017944336\n",
            "\n",
            "iter = 17800 \t Theta = 4.337891101837158\n",
            "\n",
            "iter = 17900 \t Theta = 4.323480129241943\n",
            "\n",
            "iter = 18000 \t Theta = 4.312527656555176\n",
            "\n",
            "iter = 18100 \t Theta = 4.308927536010742\n",
            "\n",
            "iter = 18200 \t Theta = 4.301477432250977\n",
            "\n",
            "iter = 18300 \t Theta = 4.290407657623291\n",
            "\n",
            "iter = 18400 \t Theta = 4.286538600921631\n",
            "\n",
            "iter = 18500 \t Theta = 4.285366535186768\n",
            "\n",
            "iter = 18600 \t Theta = 4.269658088684082\n",
            "\n",
            "iter = 18700 \t Theta = 4.257835388183594\n",
            "\n",
            "iter = 18800 \t Theta = 4.256970405578613\n",
            "\n",
            "iter = 18900 \t Theta = 4.242753982543945\n",
            "\n",
            "iter = 19000 \t Theta = 4.2415008544921875\n",
            "\n",
            "iter = 19100 \t Theta = 4.239592552185059\n",
            "\n",
            "iter = 19200 \t Theta = 4.231616020202637\n",
            "\n",
            "iter = 19300 \t Theta = 4.224157810211182\n",
            "\n",
            "iter = 19400 \t Theta = 4.2208170890808105\n",
            "\n",
            "iter = 19500 \t Theta = 4.210320472717285\n",
            "\n",
            "iter = 19600 \t Theta = 4.198263645172119\n",
            "\n",
            "iter = 19700 \t Theta = 4.207195281982422\n",
            "\n",
            "iter = 19800 \t Theta = 4.204702854156494\n",
            "\n",
            "iter = 19900 \t Theta = 4.188563823699951\n",
            "\n"
          ]
        }
      ],
      "source": [
        "print('\\nRunning SAPG algorithm     \\n')\n",
        "# We want to keep track of two traces: the log-likelihood and the TV function to monitor the behaviour of the algorithm.\n",
        "\n",
        "logPiTraceX = []      # to monitor convergence\n",
        "g_trace = []          # to monitor how the regularisation function evolves\n",
        "\n",
        "mean_theta =[]\n",
        "mean_sigma2 = []\n",
        "Grad_sigma2 = []\n",
        "\n",
        "X = X_wu.clone()       # start MYULA markov chain from last sample after warmup\n",
        "\n",
        "update_iter = 100\n",
        "\n",
        "# for k in tqdm(range(1,total_iter)): \n",
        "for k in range(1,total_iter): \n",
        "\n",
        "    ################################################################################\n",
        "    # MCMC SAMPLER\n",
        "    ################################################################################\n",
        "\n",
        "    # Number of samples\n",
        "\n",
        "    m = 1\n",
        "\n",
        "    # If we run the MCMC sampler for m times to get m samples X_m, therefore we need to average \n",
        "    # gradients w.r.t. \\theta and \\sigma^2 before the update\n",
        "    g_mcmc_trace = torch.zeros(m, device=device) # .to(device) \n",
        "    grad_sigma2_trace = torch.zeros(m, device=device) # .to(device) \n",
        "    \n",
        "    #Sample from posterior with MYULA:\n",
        "    \n",
        "    for ii in range(m):\n",
        "\n",
        "        # Calculate the gradient related to g for the current theta\n",
        "        gradgX = gradg(X,lambda_prox*theta_trace[k-1],lambda_prox)  \n",
        "        \n",
        "        # --- Calculate the gradient related to f for the current theta\n",
        "        # gradfX = df_wrt_x(X,sigma2_trace[k-1])\n",
        "        gradfX = df_wrt_x(X,sigma2_GT)\n",
        "        # --- end\n",
        "        \n",
        "        # --- MYULA update\n",
        "        X =  X - gamma*gradgX - gamma*gradfX + math.sqrt(2*gamma)*torch.randn_like(X)\n",
        "        #X = torch.clamp(X,0,255)\n",
        "        # --- end\n",
        "        \n",
        "        # --- Gardients w.r.t parameters\n",
        "        g_mcmc_trace[ii] = fun_prior(X)\n",
        "        # grad_sigma2_trace[ii] = df_wrt_sigma2(X, sigma2_trace[k-1])\n",
        "        # --- end\n",
        "        \n",
        "    # --- Save current state to monitor convergence\n",
        "    # logPiTraceX.append(logPi(X, sigma2_trace[k-1],theta_trace[k-1]).cpu().numpy())\n",
        "    logPiTraceX.append(logPi(X, sigma2_GT, theta_trace[k-1]).cpu().numpy())\n",
        "    g_trace.append(g_mcmc_trace[-1].cpu().numpy())\n",
        "    # --- end (monitoring)\n",
        "    \n",
        "    # ################################################################################\n",
        "    #  PROJECTED GRADIENT ALGORITHM\n",
        "    # ################################################################################\n",
        "\n",
        "    # Update eta and theta. It should be underlined that we work on the logarithmic\n",
        "    # scale for numerical stability\n",
        "\n",
        "    # --- update \\eta and \\theta\n",
        "    etak = eta_trace[k-1] + c_theta * delta(k)  * (dimx / (alpha_homogenious * theta_trace[k-1]) - torch.mean(g_mcmc_trace)) * torch.exp(eta_trace[k-1]) \n",
        "\n",
        "    # project \\eta onto the admissible set of value\n",
        "    eta_trace[k] = min(max(etak,min_eta),max_eta)\n",
        "    \n",
        "    # Save the value of theta\n",
        "    theta_trace[k] = torch.exp(eta_trace[k])\n",
        "    # --- end (update)\n",
        "    \n",
        "    # --- Update sigma^2\n",
        "    # sigma2_k = sigma2_trace[k-1] + c_sigma2 * delta(k) * torch.mean(grad_sigma2_trace)\n",
        "    alpha_homogenious_sigma = -1.\n",
        "    # mu_k = mu_trace[k-1] + c_sigma2 * delta(k) * (\n",
        "    #     dimx / (alpha_homogenious_sigma * sigma2_trace[k-1]) - torch.mean(grad_sigma2_trace)\n",
        "    # ) * torch.exp(mu_trace[k-1]) \n",
        "\n",
        "    # mu_trace[k] = min(max(mu_k, min_mu), max_mu)\n",
        "    # sigma2_trace[k] = torch.exp(mu_trace[k])\n",
        "    sigma2_trace[k] = sigma2_GT\n",
        "    # --- end (update)\n",
        "    \n",
        "    # -- \n",
        "    Grad_sigma2.append(df_wrt_sigma2(X, sigma2_trace[k-1]).cpu().numpy())\n",
        "    if k % update_iter == 0:\n",
        "        # print(f\"iter = {k} \\t Theta = {theta_trace[k]} \\t sigma2 = {sigma2_trace[k]}\\n\")\n",
        "        print(f\"iter = {k} \\t Theta = {theta_trace[k]}\\n\")\n",
        "   \n",
        "    # --- Check stop criteria. If relative error is smaller than op.stopTol stop\n",
        "    \n",
        "    if k>burnIn+1:\n",
        "        mean_theta.append(torch.mean(theta_trace[burnIn:(k+1)]).cpu().numpy())\n",
        "        mean_sigma2.append(torch.mean(sigma2_trace[burnIn:(k+1)]).cpu().numpy())\n",
        "        \n",
        "        relErrTh1 = torch.abs(torch.mean(theta_trace[burnIn:(k+1)]) - torch.mean(theta_trace[burnIn:k])) / torch.mean(theta_trace[burnIn:k])\n",
        "        \n",
        "        relErrSi1 = torch.abs(torch.mean(sigma2_trace[burnIn:(k+1)]) - torch.mean(sigma2_trace[burnIn:k])) / torch.mean(sigma2_trace[burnIn:k])\n",
        "\n",
        "        if (relErrTh1<stopTol) and (relErrSi1<stopTol) and 1 == 2 :\n",
        "        # if (relErrTh1<stopTol) and 1 == 2 :    \n",
        "            print(\"Toleration reached!\")\n",
        "            break\n",
        "     # --- end (stop criteria)       \n",
        "\n",
        "# --- Collecting data\n",
        "last_samp = k\n",
        "\n",
        "logPiTraceX = logPiTraceX[:last_samp+1]\n",
        "gXTrace = g_trace[:last_samp+1]\n",
        "\n",
        "theta_EB = torch.exp(torch.mean(eta_trace[burnIn:last_samp+1]))\n",
        "last_theta = theta_trace[last_samp]\n",
        "thetas = theta_trace[:last_samp+1]\n",
        "\n",
        "sigma2_EB = torch.exp(torch.mean(mu_trace[burnIn:last_samp+1]))\n",
        "last_sigma2 = sigma2_trace[last_samp]\n",
        "sigmas2 = sigma2_trace[:last_samp+1]\n",
        "\n"
      ]
    },
    {
      "cell_type": "code",
      "execution_count": 246,
      "metadata": {},
      "outputs": [],
      "source": [
        "# Estimated theta:  tensor(5.2098)\n",
        "# Last theta:  tensor(5.0593)\n"
      ]
    },
    {
      "cell_type": "code",
      "execution_count": 247,
      "metadata": {},
      "outputs": [
        {
          "data": {
            "text/plain": [
              "tensor(5.7600e-06, device='cuda:0', dtype=torch.float64)"
            ]
          },
          "execution_count": 247,
          "metadata": {},
          "output_type": "execute_result"
        }
      ],
      "source": [
        "sigma2_GT"
      ]
    },
    {
      "cell_type": "code",
      "execution_count": 248,
      "metadata": {},
      "outputs": [
        {
          "name": "stdout",
          "output_type": "stream",
          "text": [
            "Estimated theta:  tensor(4.3038)\n",
            "Last theta:  tensor(4.1841)\n"
          ]
        }
      ],
      "source": [
        "print(\"Estimated theta: \", theta_EB)\n",
        "print(\"Last theta: \", last_theta)\n",
        "# print(\"Estimated value of sigma2 \",sigma2_EB, sigma**2)\n",
        "\n",
        "# m=1\n",
        "# Estimated theta:  tensor(6.7554)\n",
        "# Last theta:  tensor(6.5733)\n",
        "\n",
        "# m=3 c=1e2 tot = 1e4\n",
        "# Estimated theta:  tensor(5.9636)\n",
        "# Last theta:  tensor(5.8023)\n",
        "\n",
        "# m=1 c=1e2 tot = 2e4\n",
        "# Estimated theta:  tensor(6.1058)\n",
        "# Last theta:  tensor(5.9929)\n",
        "\n",
        "# m=3 c=2e2 tot = 2e4\n",
        "# Estimated theta:  tensor(4.9888)\n",
        "# Last theta:  tensor(4.8550)"
      ]
    },
    {
      "cell_type": "code",
      "execution_count": 249,
      "metadata": {},
      "outputs": [
        {
          "name": "stdout",
          "output_type": "stream",
          "text": [
            "Estimated sigma2_EB:  tensor(1.)\n",
            "Last sigma2:  tensor(5.7600e-06)\n",
            "GT sigma2:  5.759999999999999e-06\n",
            "Estimated sigma_EB:  1.0\n",
            "GT sigma:  0.0024\n"
          ]
        }
      ],
      "source": [
        "print(\"Estimated sigma2_EB: \", sigma2_EB)\n",
        "print(\"Last sigma2: \", last_sigma2)\n",
        "print('GT sigma2: ', sigma2_GT.item())\n",
        "\n",
        "print('Estimated sigma_EB: ', np.sqrt(sigma2_EB.item()))\n",
        "print('GT sigma: ', np.sqrt(sigma2_GT.item()))\n",
        "\n",
        "# print(\"Estimated value of sigma2 \",sigma2_EB, sigma**2)"
      ]
    },
    {
      "cell_type": "code",
      "execution_count": 250,
      "metadata": {},
      "outputs": [],
      "source": [
        "# Estimated sigma2_EB:  tensor(2.4661e-07)\n",
        "# Last sigma2:  tensor(2.2290e-07)\n",
        "# GT sigma2:  5.759999999999999e-06\n",
        "# Estimated sigma_EB:  0.0004966016915510602\n",
        "# GT sigma:  0.0024"
      ]
    },
    {
      "cell_type": "code",
      "execution_count": 251,
      "metadata": {},
      "outputs": [
        {
          "data": {
            "text/plain": [
              "<matplotlib.legend.Legend at 0x7fc623ff0190>"
            ]
          },
          "execution_count": 251,
          "metadata": {},
          "output_type": "execute_result"
        },
        {
          "data": {
            "image/png": "[encoded data removed]",
            "text/plain": [
              "<Figure size 640x480 with 1 Axes>"
            ]
          },
          "metadata": {},
          "output_type": "display_data"
        },
        {
          "data": {
            "image/png": "[encoded data removed]",
            "text/plain": [
              "<Figure size 640x480 with 1 Axes>"
            ]
          },
          "metadata": {},
          "output_type": "display_data"
        },
        {
          "data": {
            "image/png": "[encoded data removed]",
            "text/plain": [
              "<Figure size 640x480 with 1 Axes>"
            ]
          },
          "metadata": {},
          "output_type": "display_data"
        },
        {
          "data": {
            "image/png": "[encoded data removed]",
            "text/plain": [
              "<Figure size 640x480 with 1 Axes>"
            ]
          },
          "metadata": {},
          "output_type": "display_data"
        }
      ],
      "source": [
        "# Plot the results\n",
        "\n",
        "plot1 = plt.figure()\n",
        "plt.plot(thetas[:].cpu().numpy(),linestyle=\"-\")\n",
        "plt.xlabel(\"$Iterations$\")\n",
        "plt.ylabel(\"$θ$\")\n",
        "\n",
        "plot1 = plt.figure()\n",
        "plt.plot( logPiTraceX,linestyle=\"-\")\n",
        "plt.xlabel(\"$Iterations$\")\n",
        "plt.ylabel(\"$log(p(x|y))$\")\n",
        "\n",
        "plot1 = plt.subplots()\n",
        "plt.plot( gXTrace[:],linestyle=\"-\")\n",
        "plt.plot( 256*256/thetas[:].cpu().numpy(),linestyle=\"-\")\n",
        "plt.xlabel(\"$Iterations$\")\n",
        "plt.ylabel(\"$g(x) versus d/theta$\")\n",
        "\n",
        "fig, ax = plt.subplots()\n",
        "ax.plot(sigmas2.cpu().numpy(),linestyle=\"-\",label=\"$σ_{n}^{2}$\")\n",
        "plt.axhline(y=sigma**2, color='r', linestyle='--',label=\"$σ_{\\dagger}^{2}$\")\n",
        "#plt.ylim(min_sigma2, max_sigma2)\n",
        "ax.set_xlabel(\"$Iterations\\,\\,(n)$\")\n",
        "ax.set_ylabel(\"$sigma^{2}$\")\n",
        "ax.legend()\n"
      ]
    },
    {
      "cell_type": "code",
      "execution_count": 252,
      "metadata": {},
      "outputs": [
        {
          "data": {
            "text/plain": [
              "Text(0, 0.5, '$θ$')"
            ]
          },
          "execution_count": 252,
          "metadata": {},
          "output_type": "execute_result"
        },
        {
          "data": {
            "image/png": "[encoded data removed]",
            "text/plain": [
              "<Figure size 640x480 with 1 Axes>"
            ]
          },
          "metadata": {},
          "output_type": "display_data"
        }
      ],
      "source": [
        "start_it = 1000\n",
        "\n",
        "plot1 = plt.figure()\n",
        "plt.plot(thetas[start_it:].cpu().numpy(),linestyle=\"-\")\n",
        "plt.xlabel(\"$Iterations$\")\n",
        "plt.ylabel(\"$θ$\")\n",
        "\n"
      ]
    },
    {
      "cell_type": "code",
      "execution_count": 253,
      "metadata": {},
      "outputs": [
        {
          "data": {
            "image/png": "[encoded data removed]",
            "text/plain": [
              "<Figure size 640x480 with 1 Axes>"
            ]
          },
          "metadata": {},
          "output_type": "display_data"
        }
      ],
      "source": [
        "\n",
        "iters = np.linspace(1, total_iter, total_iter)\n",
        "\n",
        "plt.figure()\n",
        "plt.plot(iters[100:], delta(iters[100:]))\n",
        "plt.show()\n",
        "\n"
      ]
    },
    {
      "cell_type": "code",
      "execution_count": null,
      "metadata": {},
      "outputs": [],
      "source": []
    },
    {
      "cell_type": "code",
      "execution_count": null,
      "metadata": {},
      "outputs": [],
      "source": []
    }
  ],
  "metadata": {
    "kernelspec": {
      "display_name": "convex_uq",
      "language": "python",
      "name": "python3"
    },
    "language_info": {
      "codemirror_mode": {
        "name": "ipython",
        "version": 3
      },
      "file_extension": ".py",
      "mimetype": "text/x-python",
      "name": "python",
      "nbconvert_exporter": "python",
      "pygments_lexer": "ipython3",
      "version": "3.9.16"
    },
    "vscode": {
      "interpreter": {
        "hash": "2bb75ebd6ceb1eff2ce987e124c91bc6f99e62fd1930d98a82dc138614104eef"
      }
    }
  },
  "nbformat": 4,
  "nbformat_minor": 0
}
