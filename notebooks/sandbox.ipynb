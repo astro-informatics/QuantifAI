{
  "cells": [
    {
      "cell_type": "code",
      "execution_count": 5,
      "metadata": {
        "collapsed": false
      },
      "outputs": [],
      "source": [
        "import numpy as np\n",
        "import matplotlib.pyplot as plt\n",
        "from astropy.io import fits\n",
        "import scipy.io as sio\n",
        "import sys\n",
        "from functools import partial\n",
        "\n",
        "sys.path.append('./../')\n",
        "\n",
        "import large_scale_UQ as luq\n",
        "\n",
        "import optimusprimal as optpr\n",
        "\n",
        "from skimage.metrics import peak_signal_noise_ratio as psnr\n",
        "from skimage.metrics import structural_similarity as ssim\n",
        "\n",
        "from matplotlib import pyplot as plt\n",
        "from mpl_toolkits.axes_grid1 import make_axes_locatable\n",
        "plt.style.use('dark_background')\n",
        "plt.rcParams[\"font.family\"] = \"serif\"\n",
        "\n"
      ]
    },
    {
      "cell_type": "code",
      "execution_count": 6,
      "metadata": {},
      "outputs": [
        {
          "name": "stdout",
          "output_type": "stream",
          "text": [
            "/Users/tliaudat/Documents/postdoc/github/large-scale-UQ/notebooks\n"
          ]
        }
      ],
      "source": [
        "!pwd"
      ]
    },
    {
      "cell_type": "markdown",
      "metadata": {},
      "source": [
        "First, we need to define some heuristics for the solver, these include:\n",
        "\n",
        "      - tol: convergence criteria for the iterations\n",
        "      - iter: maximum number of iterations\n",
        "      - update_iter: iterations between logging iteration diagnostics\n",
        "      - record_iters: whether to record the full diagnostic information\n",
        "\n"
      ]
    },
    {
      "cell_type": "code",
      "execution_count": 7,
      "metadata": {
        "collapsed": false
      },
      "outputs": [],
      "source": [
        "options = {\"tol\": 1e-5, \"iter\": 5000, \"update_iter\": 50, \"record_iters\": False}"
      ]
    },
    {
      "cell_type": "code",
      "execution_count": 12,
      "metadata": {},
      "outputs": [
        {
          "name": "stdout",
          "output_type": "stream",
          "text": [
            "0.00971288706369457\n"
          ]
        }
      ],
      "source": [
        "\n",
        "img_path = '/Users/tliaudat/Documents/postdoc/github/large-scale-UQ/data/imgs/M31.fits'\n",
        "img_data = fits.open(img_path, memmap=False)\n",
        "\n",
        "# Loading the image and cast it to float\n",
        "img = np.copy(img_data[0].data)[0,:,:].astype(np.float64)\n",
        "# Flipping data\n",
        "img = np.flipud(img)\n",
        "\n",
        "# Aliases\n",
        "x = img\n",
        "ground_truth = img\n",
        " \n",
        "# Load op from X Cai\n",
        "op_mask = sio.loadmat('/Users/tliaudat/Documents/postdoc/github/large-scale-UQ/data/operators_masks/fourier_mask.mat')['Ma']\n",
        "\n",
        "# Matlab's reshape works with 'F'-like ordering\n",
        "mat_mask = np.reshape(np.sum(op_mask, axis=0), (256,256), order='F').astype(bool)\n",
        "\n",
        "\n",
        "\n",
        "\n",
        "dim = img.shape[0]\n",
        "\n",
        "# A mock radio imaging forward model with half of the Fourier coefficients masked\n",
        "phi = luq.operators.MaskedFourier(dim, 0.5 , norm='ortho')\n",
        "# Use X. Cai's Fourier mask\n",
        "phi.mask = mat_mask\n",
        "\n",
        "# Simulate mock noisy observations y\n",
        "y = phi.dir_op(img)\n",
        "ISNR = 25\n",
        "sigma = np.sqrt(np.mean(np.abs(y)**2)) * 10**(-ISNR/20)\n",
        "\n",
        "print(sigma)\n"
      ]
    },
    {
      "cell_type": "code",
      "execution_count": 10,
      "metadata": {},
      "outputs": [],
      "source": [
        "# Using the same noise as in X Cai\n",
        "sigma = 0.0024\n",
        "\n",
        "# Add noise\n",
        "rng = np.random.default_rng(seed=0)\n",
        "n = rng.normal(0, sigma, y.shape)\n",
        "\n",
        "# Simulate mock noisy observations\n",
        "y += n\n",
        "# Define init img\n",
        "x_init = np.abs(phi.adj_op(y))"
      ]
    },
    {
      "cell_type": "code",
      "execution_count": null,
      "metadata": {},
      "outputs": [],
      "source": []
    }
  ],
  "metadata": {
    "kernelspec": {
      "display_name": "convex_uq",
      "language": "python",
      "name": "python3"
    },
    "language_info": {
      "codemirror_mode": {
        "name": "ipython",
        "version": 3
      },
      "file_extension": ".py",
      "mimetype": "text/x-python",
      "name": "python",
      "nbconvert_exporter": "python",
      "pygments_lexer": "ipython3",
      "version": "3.9.15"
    },
    "vscode": {
      "interpreter": {
        "hash": "2bb75ebd6ceb1eff2ce987e124c91bc6f99e62fd1930d98a82dc138614104eef"
      }
    }
  },
  "nbformat": 4,
  "nbformat_minor": 0
}
