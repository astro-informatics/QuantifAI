{
  "cells": [
    {
      "cell_type": "code",
      "execution_count": 1,
      "metadata": {
        "collapsed": false
      },
      "outputs": [
        {
          "name": "stdout",
          "output_type": "stream",
          "text": [
            "True\n",
            "1\n",
            "0\n",
            "NVIDIA A100-PCIE-40GB\n",
            "Using device: cuda\n"
          ]
        }
      ],
      "source": [
        "import os\n",
        "import numpy as np\n",
        "\n",
        "import torch\n",
        "M1 = False\n",
        "\n",
        "if M1:\n",
        "    device = torch.device('mps' if torch.backends.mps.is_available() else 'cpu')\n",
        "else:\n",
        "    os.environ[\"CUDA_VISIBLE_DEVICES\"]=\"1\"\n",
        "    device = torch.device('cuda' if torch.cuda.is_available() else 'cpu')\n",
        "    print(torch.cuda.is_available())\n",
        "    print(torch.cuda.device_count())\n",
        "    print(torch.cuda.current_device())\n",
        "    print(torch.cuda.get_device_name(torch.cuda.current_device()))\n",
        "\n",
        "from functools import partial\n",
        "import math\n",
        "from tqdm import tqdm\n",
        "import time as time\n",
        "\n",
        "from skimage.metrics import peak_signal_noise_ratio as psnr\n",
        "from skimage.metrics import structural_similarity as ssim\n",
        "from torchmetrics.functional import structural_similarity_index_measure \n",
        "from torchmetrics.functional import peak_signal_noise_ratio \n",
        "\n",
        "import matplotlib.pyplot as plt\n",
        "from mpl_toolkits.axes_grid1 import make_axes_locatable\n",
        "\n",
        "import scipy.io as sio\n",
        "from astropy.io import fits\n",
        "\n",
        "import large_scale_UQ as luq\n",
        "from large_scale_UQ.utils import to_numpy, to_tensor\n",
        "from convex_reg import utils as utils_cvx_reg\n",
        "\n"
      ]
    },
    {
      "cell_type": "code",
      "execution_count": 14,
      "metadata": {},
      "outputs": [],
      "source": [
        "# Optimisation options for the MAP estimation\n",
        "options = {\"tol\": 1e-5, \"iter\": 5000, \"update_iter\": 50, \"record_iters\": False}\n"
      ]
    },
    {
      "cell_type": "code",
      "execution_count": 2,
      "metadata": {
        "collapsed": false
      },
      "outputs": [],
      "source": [
        "# Optimisation options for the MAP estimation\n",
        "options = {\"tol\": 1e-5, \"iter\": 5000, \"update_iter\": 50, \"record_iters\": False}\n",
        "# Save param\n",
        "repo_dir = '/disk/xray0/tl3/repos/large-scale-UQ'\n",
        "# repo_dir = '/Users/tl/Documents/research/repos/proj-convex-UQ/large-scale-UQ'\n",
        "save_dir = repo_dir + '/debug/sampling-outputs/'\n"
      ]
    },
    {
      "cell_type": "code",
      "execution_count": 3,
      "metadata": {},
      "outputs": [
        {
          "name": "stderr",
          "output_type": "stream",
          "text": [
            "WARNING: The following header keyword is invalid or follows an unrecognized non-standard convention:\n",
            "INSTRUME                                                                         [astropy.io.fits.card]\n"
          ]
        }
      ],
      "source": [
        "img_name = 'M31'\n",
        "\n",
        "# Load img\n",
        "img_path = repo_dir + '/data/imgs/{:s}.fits'.format(img_name)\n",
        "img_data = fits.open(img_path, memmap=False)\n",
        "\n",
        "# Loading the image and cast it to float\n",
        "img = np.copy(img_data[0].data)[0,:,:].astype(np.float64)\n",
        "# Flipping data\n",
        "img = np.flipud(img)\n",
        "\n",
        "# Aliases\n",
        "x = img\n",
        "ground_truth = img\n"
      ]
    },
    {
      "cell_type": "code",
      "execution_count": 10,
      "metadata": {},
      "outputs": [],
      "source": [
        "# %%\n",
        "# Load op from X Cai\n",
        "mask_path = repo_dir + '/data/operators_masks/fourier_mask.mat'\n",
        "op_mask = sio.loadmat(mask_path)['Ma']\n",
        "\n",
        "# Matlab's reshape works with 'F'-like ordering\n",
        "mat_mask = np.reshape(np.sum(op_mask, axis=0), (256,256), order='F').astype(bool)\n",
        "\n",
        "# %%\n",
        "\n",
        "torch_img = torch.tensor(np.copy(img), dtype=torch.float, device=device).reshape((1,1) + img.shape)\n",
        "\n",
        "# %%\n",
        "dim = 256\n",
        "phi = luq.operators.MaskedFourier_torch(\n",
        "    dim=dim, \n",
        "    ratio=0.5 ,\n",
        "    mask=mat_mask,\n",
        "    norm='ortho',\n",
        "    device=device\n",
        ")\n",
        "\n"
      ]
    },
    {
      "cell_type": "code",
      "execution_count": 11,
      "metadata": {},
      "outputs": [],
      "source": [
        "# Define X Cai noise level\n",
        "sigma = 0.0024\n",
        "\n",
        "y = phi.dir_op(torch_img).detach().cpu().squeeze().numpy()\n",
        "\n",
        "# Generate noise\n",
        "rng = np.random.default_rng(seed=0)\n",
        "n = rng.normal(0, sigma, y[y!=0].shape)\n",
        "# Add noise\n",
        "y[y!=0] += n\n",
        "\n",
        "# Observation\n",
        "torch_y = torch.tensor(np.copy(y), device=device).reshape((1,) + img.shape)\n",
        "x_init = torch.abs(phi.adj_op(torch_y))\n"
      ]
    },
    {
      "cell_type": "code",
      "execution_count": 12,
      "metadata": {},
      "outputs": [
        {
          "data": {
            "text/plain": [
              "torch.Size([1, 256, 256])"
            ]
          },
          "execution_count": 12,
          "metadata": {},
          "output_type": "execute_result"
        }
      ],
      "source": [
        "x_init.shape"
      ]
    },
    {
      "cell_type": "code",
      "execution_count": 13,
      "metadata": {},
      "outputs": [],
      "source": [
        "# Define the likelihood\n",
        "g = luq.operators.L2Norm_torch(\n",
        "    sigma=sigma,\n",
        "    data=torch_y,\n",
        "    Phi=phi,\n",
        ")\n",
        "g.beta = 1.0 / sigma ** 2\n",
        "\n",
        "\n",
        "# Define the wavelet dict\n",
        "wavs_list = ['db8'] # [\"db1\", \"db4\"] \n",
        "levels = 4\n",
        "reg_param = 2.e-3\n",
        "# Define the l1 norm with dict psi\n",
        "# gamma = torch.max(torch.abs(psi.dir_op(y_torch))) * reg_param\n",
        "psi = luq.operators.DictionaryWv_torch(wavs_list, levels)\n",
        "\n",
        "h = luq.operators.L1Norm_torch(1., psi, op_to_coeffs=True)\n",
        "gamma = h._get_max_abs_coeffs(h.dir_op(torch.clone(torch_y))) * reg_param\n",
        "h.gamma = gamma\n",
        "h.beta = 1.0\n"
      ]
    },
    {
      "cell_type": "code",
      "execution_count": null,
      "metadata": {},
      "outputs": [],
      "source": [
        "alpha = 1. / (1. + g.beta)\n",
        "\n",
        "x_hat, diagnostics = luq.optim.FB_torch(\n",
        "    x_init,\n",
        "    options=options,\n",
        "    g=g,\n",
        "    f=None,\n",
        "    h=h,\n",
        "    alpha=alpha,\n",
        "    tau=1.,\n",
        "    viewer=None\n",
        ")\n"
      ]
    },
    {
      "cell_type": "code",
      "execution_count": null,
      "metadata": {},
      "outputs": [],
      "source": []
    }
  ],
  "metadata": {
    "kernelspec": {
      "display_name": "convex_uq",
      "language": "python",
      "name": "python3"
    },
    "language_info": {
      "codemirror_mode": {
        "name": "ipython",
        "version": 3
      },
      "file_extension": ".py",
      "mimetype": "text/x-python",
      "name": "python",
      "nbconvert_exporter": "python",
      "pygments_lexer": "ipython3",
      "version": "3.9.16"
    },
    "vscode": {
      "interpreter": {
        "hash": "2bb75ebd6ceb1eff2ce987e124c91bc6f99e62fd1930d98a82dc138614104eef"
      }
    }
  },
  "nbformat": 4,
  "nbformat_minor": 0
}
