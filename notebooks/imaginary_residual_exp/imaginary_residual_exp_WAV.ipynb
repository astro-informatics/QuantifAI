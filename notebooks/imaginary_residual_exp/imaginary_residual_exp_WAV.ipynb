{
  "cells": [
    {
      "cell_type": "code",
      "execution_count": 4,
      "metadata": {
        "collapsed": false
      },
      "outputs": [
        {
          "name": "stdout",
          "output_type": "stream",
          "text": [
            "True\n",
            "1\n",
            "0\n",
            "NVIDIA A100-PCIE-40GB\n"
          ]
        },
        {
          "name": "stdout",
          "output_type": "stream",
          "text": [
            "Using device: cuda\n"
          ]
        }
      ],
      "source": [
        "import os\n",
        "import numpy as np\n",
        "from functools import partial\n",
        "import math\n",
        "from tqdm import tqdm\n",
        "import time as time\n",
        "\n",
        "import torch\n",
        "M1 = False\n",
        "\n",
        "if M1:\n",
        "    device = torch.device('mps' if torch.backends.mps.is_available() else 'cpu')\n",
        "else:\n",
        "    os.environ[\"CUDA_VISIBLE_DEVICES\"]=\"1\"\n",
        "    device = torch.device('cuda' if torch.cuda.is_available() else 'cpu')\n",
        "    if torch.cuda.is_available():\n",
        "        print(torch.cuda.is_available())\n",
        "        print(torch.cuda.device_count())\n",
        "        print(torch.cuda.current_device())\n",
        "        print(torch.cuda.get_device_name(torch.cuda.current_device()))\n",
        "\n",
        "from skimage.metrics import peak_signal_noise_ratio as psnr\n",
        "from skimage.metrics import structural_similarity as ssim\n",
        "from torchmetrics.functional import structural_similarity_index_measure \n",
        "from torchmetrics.functional import peak_signal_noise_ratio \n",
        "\n",
        "import matplotlib.pyplot as plt\n",
        "from mpl_toolkits.axes_grid1 import make_axes_locatable\n",
        "\n",
        "import scipy.io as sio\n",
        "from astropy.io import fits\n",
        "import skimage as ski\n",
        "\n",
        "import large_scale_UQ as luq\n",
        "from large_scale_UQ.utils import to_numpy, to_tensor\n",
        "from convex_reg import utils as utils_cvx_reg\n"
      ]
    },
    {
      "cell_type": "code",
      "execution_count": 5,
      "metadata": {},
      "outputs": [],
      "source": [
        "# Optimisation options for the MAP estimation\n",
        "options = {\"tol\": 1e-5, \"iter\": 15000, \"update_iter\": 4999, \"record_iters\": False}\n",
        "\n",
        "# Define my torch types (CRR requires torch.float32, wavelets require torch.float64)\n",
        "myType = torch.float64\n",
        "myComplexType = torch.complex128\n",
        "\n",
        "# Wavelet parameters\n",
        "reg_params = [5e2] # [5e2, 5e1, 1e3, 5e3, 1e4, 5e4]\n",
        "wavs_list = ['db8']\n",
        "levels = 4\n",
        "\n",
        "repo_dir = '/disk/xray0/tl3/repos/large-scale-UQ'\n",
        "base_savedir = '/disk/xray0/tl3/repos/large-scale-UQ/notebooks/imaginary_residual_exp'\n",
        "savefig_dir = base_savedir + '/figs/'\n",
        "\n",
        "\n",
        "img_name = 'M31'"
      ]
    },
    {
      "cell_type": "code",
      "execution_count": 6,
      "metadata": {},
      "outputs": [
        {
          "name": "stderr",
          "output_type": "stream",
          "text": [
            "WARNING: The following header keyword is invalid or follows an unrecognized non-standard convention:\n",
            "INSTRUME                                                                         [astropy.io.fits.card]\n"
          ]
        }
      ],
      "source": [
        "\n",
        "# Load image and mask\n",
        "img, mat_mask = luq.helpers.load_imgs(img_name, repo_dir)\n",
        "\n",
        "# Aliases\n",
        "x = img\n",
        "ground_truth = img\n",
        "\n",
        "torch_img = torch.tensor(\n",
        "    np.copy(img), dtype=myType, device=device).reshape((1,1) + img.shape\n",
        ")\n",
        "\n",
        "phi = luq.operators.MaskedFourier_torch(\n",
        "    shape=img.shape, \n",
        "    ratio=0.5 ,\n",
        "    mask=mat_mask,\n",
        "    norm='ortho',\n",
        "    device=device\n",
        ")\n",
        "\n",
        "\n",
        "# Define X Cai noise level\n",
        "sigma = 0.0024\n",
        "\n",
        "y = phi.dir_op(torch_img).detach().cpu().squeeze().numpy()\n",
        "\n",
        "# Generate noise\n",
        "rng = np.random.default_rng(seed=0)\n",
        "n = rng.normal(0, sigma, y[y!=0].shape)\n",
        "# Add noise\n",
        "y[y!=0] += n\n",
        "\n",
        "# Observation\n",
        "torch_y = torch.tensor(np.copy(y), device=device, dtype=myComplexType).reshape((1,) + img.shape)\n",
        "x_init = torch.abs(phi.adj_op(torch_y))\n",
        "\n",
        "\n",
        "# %%\n",
        "# Define the likelihood\n",
        "g = luq.operators.L2Norm_torch(\n",
        "    sigma=sigma,\n",
        "    data=torch_y,\n",
        "    Phi=phi,\n",
        ")\n",
        "# Lipschitz constant computed automatically by g, stored in g.beta\n",
        "\n",
        "# Define real prox\n",
        "f = luq.operators.RealProx_torch()\n",
        "\n",
        "\n"
      ]
    },
    {
      "cell_type": "code",
      "execution_count": 7,
      "metadata": {},
      "outputs": [
        {
          "name": "stdout",
          "output_type": "stream",
          "text": [
            "Threshold:  0.0028224005046845377\n",
            "Running Base Forward Backward\n",
            "[Forward Backward] 0 out of 15000 iterations, tol = 4.01e-01\n",
            "[Forward Backward] converged in 225 iterations\n"
          ]
        }
      ],
      "source": [
        "\n",
        "# Prior parameters\n",
        "reg_param = reg_params[0]\n",
        "\n",
        "# Define the wavelet dict\n",
        "# Define the l1 norm with dict psi\n",
        "psi = luq.operators.DictionaryWv_torch(wavs_list, levels)\n",
        "h = luq.operators.L1Norm_torch(1., psi, op_to_coeffs=True)\n",
        "h.gamma = reg_param\n",
        "\n",
        "# Compute stepsize\n",
        "alpha = 0.98 / g.beta\n",
        "\n",
        "# Effective threshold\n",
        "print('Threshold: ', h.gamma * alpha)\n",
        "\n",
        "# Run the optimisation\n",
        "x_hat, diagnostics = luq.optim.FB_torch(\n",
        "    x_init,\n",
        "    options=options,\n",
        "    g=g,\n",
        "    f=f,\n",
        "    h=h,\n",
        "    alpha=alpha,\n",
        "    tau=alpha,\n",
        "    viewer=None\n",
        ")\n",
        "\n",
        "# %%\n",
        "np_x_init = to_numpy(x_init)\n",
        "np_x = np.copy(x)\n",
        "np_x_hat = to_numpy(x_hat)\n",
        "\n"
      ]
    },
    {
      "cell_type": "code",
      "execution_count": null,
      "metadata": {},
      "outputs": [],
      "source": []
    },
    {
      "cell_type": "code",
      "execution_count": null,
      "metadata": {},
      "outputs": [],
      "source": []
    }
  ],
  "metadata": {
    "kernelspec": {
      "display_name": "convex_uq",
      "language": "python",
      "name": "python3"
    },
    "language_info": {
      "codemirror_mode": {
        "name": "ipython",
        "version": 3
      },
      "file_extension": ".py",
      "mimetype": "text/x-python",
      "name": "python",
      "nbconvert_exporter": "python",
      "pygments_lexer": "ipython3",
      "version": "3.9.16"
    },
    "vscode": {
      "interpreter": {
        "hash": "2bb75ebd6ceb1eff2ce987e124c91bc6f99e62fd1930d98a82dc138614104eef"
      }
    }
  },
  "nbformat": 4,
  "nbformat_minor": 0
}
