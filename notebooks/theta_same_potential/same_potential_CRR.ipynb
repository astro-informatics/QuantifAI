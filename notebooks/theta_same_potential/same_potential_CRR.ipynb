{
  "cells": [
    {
      "cell_type": "code",
      "execution_count": 7,
      "metadata": {
        "collapsed": false
      },
      "outputs": [
        {
          "name": "stdout",
          "output_type": "stream",
          "text": [
            "True\n",
            "1\n",
            "0\n",
            "NVIDIA A100-PCIE-40GB\n"
          ]
        }
      ],
      "source": [
        "import os\n",
        "import numpy as np\n",
        "from functools import partial\n",
        "import math\n",
        "from tqdm import tqdm\n",
        "import time as time\n",
        "\n",
        "import torch\n",
        "M1 = False\n",
        "\n",
        "if M1:\n",
        "    device = torch.device('mps' if torch.backends.mps.is_available() else 'cpu')\n",
        "else:\n",
        "    os.environ[\"CUDA_VISIBLE_DEVICES\"]=\"1\"\n",
        "    device = torch.device('cuda' if torch.cuda.is_available() else 'cpu')\n",
        "    if torch.cuda.is_available():\n",
        "        print(torch.cuda.is_available())\n",
        "        print(torch.cuda.device_count())\n",
        "        print(torch.cuda.current_device())\n",
        "        print(torch.cuda.get_device_name(torch.cuda.current_device()))\n",
        "\n",
        "\n",
        "from skimage.metrics import peak_signal_noise_ratio as psnr\n",
        "from skimage.metrics import structural_similarity as ssim\n",
        "from torchmetrics.functional import structural_similarity_index_measure \n",
        "from torchmetrics.functional import peak_signal_noise_ratio \n",
        "\n",
        "import matplotlib.pyplot as plt\n",
        "from mpl_toolkits.axes_grid1 import make_axes_locatable\n",
        "\n",
        "import scipy.io as sio\n",
        "from astropy.io import fits\n",
        "\n",
        "import large_scale_UQ as luq\n",
        "from large_scale_UQ.utils import to_numpy, to_tensor\n",
        "from convex_reg import utils as utils_cvx_reg\n"
      ]
    },
    {
      "cell_type": "code",
      "execution_count": 8,
      "metadata": {
        "collapsed": false
      },
      "outputs": [
        {
          "name": "stderr",
          "output_type": "stream",
          "text": [
            "WARNING: The following header keyword is invalid or follows an unrecognized non-standard convention:\n",
            "INSTRUME                                                                         [astropy.io.fits.card]\n"
          ]
        }
      ],
      "source": [
        "# Optimisation options for the MAP estimation\n",
        "options = {\"tol\": 1e-5, \"iter\": 15000, \"update_iter\": 4999, \"record_iters\": False}\n",
        "# Save param\n",
        "repo_dir = '/disk/xray0/tl3/repos/large-scale-UQ'\n",
        "base_savedir = '/disk/xray0/tl3/outputs/large-scale-UQ/sampling/CRR'\n",
        "save_dir = base_savedir + '/vars/'\n",
        "savefig_dir = base_savedir + '/figs/'\n",
        "\n",
        "img_name = 'M31'\n",
        "\n",
        "# Load img\n",
        "img_path = '/disk/xray0/tl3/repos/large-scale-UQ/data/imgs/{:s}.fits'.format(img_name)\n",
        "img_data = fits.open(img_path, memmap=False)\n",
        "\n",
        "# Load img\n",
        "img_path = repo_dir + '/data/imgs/{:s}.fits'.format(img_name)\n",
        "img_data = fits.open(img_path, memmap=False)\n",
        "\n",
        "# Loading the image and cast it to float\n",
        "img = np.copy(img_data[0].data)[0,:,:].astype(np.float64)\n",
        "# Flipping data\n",
        "img = np.flipud(img)\n",
        "\n",
        "# Aliases\n",
        "x = img\n",
        "ground_truth = img\n"
      ]
    },
    {
      "cell_type": "code",
      "execution_count": 9,
      "metadata": {},
      "outputs": [
        {
          "name": "stdout",
          "output_type": "stream",
          "text": [
            "--- loading checkpoint from epoch 10 ---\n",
            "---------------------\n",
            "Building a CRR-NN model with \n",
            " - [1, 8, 32] channels \n",
            " - linear_spline activation functions\n",
            "  (LinearSpline(mode=conv, num_activations=32, init=zero, size=21, grid=0.010, monotonic_constraint=True.))\n",
            "---------------------\n",
            "Numbers of parameters before prunning: 13610\n",
            "---------------------\n",
            " PRUNNING \n",
            " Found 22 filters with non-vanishing potential functions\n",
            "---------------------\n",
            "Numbers of parameters after prunning: 4183\n",
            "Lipschitz bound 0.770\n"
          ]
        }
      ],
      "source": [
        "# Load op from X Cai\n",
        "op_mask = sio.loadmat(\n",
        "    repo_dir + '/data/operators_masks/fourier_mask.mat'\n",
        ")['Ma']\n",
        "\n",
        "# Matlab's reshape works with 'F'-like ordering\n",
        "mat_mask = np.reshape(np.sum(op_mask, axis=0), (256,256), order='F').astype(bool)\n",
        "\n",
        "# Define my torch types\n",
        "myType = torch.float32\n",
        "myComplexType = torch.complex64\n",
        "\n",
        "torch_img = torch.tensor(np.copy(img), dtype=myType, device=device).reshape((1,1) + img.shape)\n",
        "\n",
        "\n",
        "dim = 256\n",
        "phi = luq.operators.MaskedFourier_torch(\n",
        "    dim=dim, \n",
        "    ratio=0.5 ,\n",
        "    mask=mat_mask,\n",
        "    norm='ortho',\n",
        "    device=device\n",
        ")\n",
        "\n",
        "\n",
        "# Define X Cai noise level\n",
        "sigma = 0.0024\n",
        "\n",
        "y = phi.dir_op(torch_img).detach().cpu().squeeze().numpy()\n",
        "\n",
        "# Generate noise\n",
        "rng = np.random.default_rng(seed=0)\n",
        "n = rng.normal(0, sigma, y[y!=0].shape)\n",
        "# Add noise\n",
        "y[y!=0] += n\n",
        "\n",
        "# Observation\n",
        "torch_y = torch.tensor(np.copy(y), device=device, dtype=myComplexType).reshape((1,) + img.shape)\n",
        "x_init = torch.abs(phi.adj_op(torch_y))\n",
        "\n",
        "\n",
        "# %%\n",
        "# Define the likelihood\n",
        "g = luq.operators.L2Norm_torch(\n",
        "    sigma=sigma,\n",
        "    data=torch_y,\n",
        "    Phi=phi,\n",
        ")\n",
        "# Lipschitz constant computed automatically by g, stored in g.beta\n",
        "\n",
        "# Define real prox\n",
        "f = luq.operators.RealProx_torch()\n",
        "\n",
        "\n",
        "# %%\n",
        "# Load CRR model\n",
        "torch.set_grad_enabled(False)\n",
        "torch.set_num_threads(4)\n",
        "\n",
        "sigma_training = 5\n",
        "t_model = 5\n",
        "dir_name = '/disk/xray0/tl3/repos/convex_ridge_regularizers/trained_models/'\n",
        "exp_name = f'Sigma_{sigma_training}_t_{t_model}/'\n",
        "model = utils_cvx_reg.load_model(dir_name+exp_name, 'cuda:0', device_type='gpu')\n",
        "\n",
        "print(f'Numbers of parameters before prunning: {model.num_params}')\n",
        "model.prune()\n",
        "print(f'Numbers of parameters after prunning: {model.num_params}')\n",
        "\n",
        "# L_CRR = model.L.detach().cpu().squeeze().numpy()\n",
        "# print(f\"Lipschitz bound {L_CRR:.3f}\")\n",
        "\n",
        "# [not required] intialize the eigen vector of dimension (size, size) associated to the largest eigen value\n",
        "model.initializeEigen(size=100)\n",
        "# compute bound via a power iteration which couples the activations and the convolutions\n",
        "model.precise_lipschitz_bound(n_iter=100)\n",
        "# the bound is stored in the model\n",
        "L_CRR = model.L.data.item()\n",
        "print(f\"Lipschitz bound {L_CRR:.3f}\")\n"
      ]
    },
    {
      "cell_type": "code",
      "execution_count": 15,
      "metadata": {},
      "outputs": [
        {
          "name": "stdout",
          "output_type": "stream",
          "text": [
            "56.767005920410156\n",
            "4761508.0\n"
          ]
        }
      ],
      "source": [
        "# CRR parameters\n",
        "# reg_params = [5e5, 1e6] # [250., 1e3, 5e3, 1e4, 5e4, 1e5]\n",
        "theta_init = 1e2\n",
        "mu = 20\n",
        "\n",
        "\n",
        "print(((theta_init/mu) * model.cost(mu * torch.clone(x_init).reshape((1,1) + img.shape))).item())\n",
        "print(g.fun(torch.clone(x_init)).item())"
      ]
    },
    {
      "cell_type": "code",
      "execution_count": 16,
      "metadata": {},
      "outputs": [],
      "source": [
        "\n",
        "def solve_x(x_init, g, f, model, lmbd, mu, L_CRR, options): \n",
        "    # Prior parameters\n",
        "\n",
        "    # Compute stepsize\n",
        "    alpha = 0.98 / (g.beta + mu * lmbd * L_CRR)\n",
        "\n",
        "    # initialization\n",
        "    x_hat = torch.clone(x_init)\n",
        "    z = torch.clone(x_init)\n",
        "    t = 1\n",
        "\n",
        "    for it_2 in range(options['iter']):\n",
        "        x_hat_old = torch.clone(x_hat)\n",
        "        # grad = g.grad(z.squeeze()) +  lmbd * model(mu * z)\n",
        "        x_hat = z - alpha *(\n",
        "            g.grad(z) + lmbd * model(mu * z)\n",
        "        )\n",
        "        # Positivity constraint\n",
        "        x_hat = f.prox(x_hat)\n",
        "        # Positivity constraint\n",
        "        # x = torch.clamp(x, 0, None)\n",
        "        \n",
        "        t_old = t \n",
        "        t = 0.5 * (1 + math.sqrt(1 + 4*t**2))\n",
        "        z = x_hat + (t_old - 1)/t * (x_hat - x_hat_old)\n",
        "\n",
        "        # relative change of norm for terminating\n",
        "        res = (torch.norm(x_hat_old - x_hat)/torch.norm(x_hat_old)).item()\n",
        "\n",
        "        if res < options['tol']:\n",
        "            print(\"[GD] converged in %d iterations\"%(it_2))\n",
        "            break\n",
        "\n",
        "        if it_2 % options['update_iter'] == 0:\n",
        "            print(\n",
        "                \"[GD] %d out of %d iterations, tol = %f\" %(            \n",
        "                    it_2,\n",
        "                    options['iter'],\n",
        "                    res,\n",
        "                )\n",
        "            )\n",
        "\n",
        "    return x_hat\n",
        "\n"
      ]
    },
    {
      "cell_type": "code",
      "execution_count": 12,
      "metadata": {},
      "outputs": [
        {
          "name": "stdout",
          "output_type": "stream",
          "text": [
            "[GD] 0 out of 15000 iterations, tol = 0.399494\n",
            "[GD] 4999 out of 15000 iterations, tol = 0.000019\n",
            "[GD] converged in 7958 iterations\n"
          ]
        }
      ],
      "source": [
        "\n",
        "\n",
        "# x_hat = solve_x(\n",
        "#     x_init,\n",
        "#     g,\n",
        "#     f,\n",
        "#     model,\n",
        "#     lmbd=theta_init,\n",
        "#     mu=mu,\n",
        "#     L_CRR=L_CRR,\n",
        "#     options=options\n",
        "# )\n"
      ]
    },
    {
      "cell_type": "code",
      "execution_count": 13,
      "metadata": {},
      "outputs": [
        {
          "name": "stdout",
          "output_type": "stream",
          "text": [
            "torch.Size([1, 256, 256])\n",
            "torch.Size([1, 1, 256, 256])\n"
          ]
        }
      ],
      "source": [
        "# grad_theta = (-1/mu) * model.cost(x_hat/mu) \n",
        "# print(x_init.shape)\n",
        "# print(x_hat.shape)"
      ]
    },
    {
      "cell_type": "code",
      "execution_count": 17,
      "metadata": {},
      "outputs": [],
      "source": [
        "# ((1/mu) * model.cost(mu * x_init)).shape\n",
        "# print(g.fun(x_init).item())"
      ]
    },
    {
      "cell_type": "code",
      "execution_count": 18,
      "metadata": {},
      "outputs": [],
      "source": [
        "\n",
        "def _fun(_x, model, mu, lmbd):\n",
        "    return (lmbd / mu) * model.cost(mu * _x) + g.fun(_x)\n",
        "\n",
        "def _fun_np(_x, model, mu, lmbd):\n",
        "    return ((lmbd / mu) * model.cost(mu * _x) + g.fun(_x)).item()"
      ]
    },
    {
      "cell_type": "code",
      "execution_count": null,
      "metadata": {},
      "outputs": [],
      "source": []
    },
    {
      "cell_type": "code",
      "execution_count": 93,
      "metadata": {},
      "outputs": [
        {
          "data": {
            "text/plain": [
              "torch.Size([1, 256, 256])"
            ]
          },
          "execution_count": 93,
          "metadata": {},
          "output_type": "execute_result"
        }
      ],
      "source": [
        "x_init.shape"
      ]
    },
    {
      "cell_type": "code",
      "execution_count": 82,
      "metadata": {},
      "outputs": [
        {
          "name": "stdout",
          "output_type": "stream",
          "text": [
            "[GD] 0 out of 15000 iterations, tol = 0.370204\n",
            "[GD] converged in 3706 iterations\n",
            "Potential:  745.9313354492188 , PSNR:  54.49591490036422\n",
            "Potential like:  3.7417924404144287 , Potential prior:  0.7421895265579224\n",
            "theta:  5.041559206268872 , it:  0\n",
            "[GD] 0 out of 15000 iterations, tol = 0.402857\n",
            "[GD] converged in 21 iterations\n",
            "Potential:  5.892630100250244 , PSNR:  35.06846646846958\n",
            "Potential like:  0.0006101489416323602 , Potential prior:  1.1686899662017822\n",
            "theta:  0.0005220793874147234 , it:  1\n",
            "[GD] 0 out of 15000 iterations, tol = 0.403037\n",
            "[GD] converged in 21 iterations\n",
            "Potential:  0.0012093927944079041 , PSNR:  35.067955397080716\n",
            "Potential like:  0.0005990730132907629 , Potential prior:  1.1690171957015991\n",
            "theta:  0.0005124586836648047 , it:  2\n",
            "[GD] 0 out of 15000 iterations, tol = 0.403037\n",
            "[GD] converged in 21 iterations\n",
            "Potential:  0.0011946687009185553 , PSNR:  35.06795561423822\n",
            "Potential like:  0.0005955958040431142 , Potential prior:  1.1690170764923096\n",
            "theta:  0.0005094842633353374 , it:  3\n",
            "[GD] 0 out of 15000 iterations, tol = 0.403037\n",
            "[GD] converged in 21 iterations\n",
            "Potential:  0.0011938598472625017 , PSNR:  35.067955498645766\n",
            "Potential like:  0.0005982639268040657 , Potential prior:  1.1690171957015991\n",
            "theta:  0.0005117665753795954 , it:  4\n",
            "[GD] 0 out of 15000 iterations, tol = 0.403037\n",
            "[GD] converged in 21 iterations\n",
            "Potential:  0.0011933017522096634 , PSNR:  35.06795566508071\n",
            "Potential like:  0.0005950380582362413 , Potential prior:  1.169016718864441\n",
            "theta:  0.0005090073124140168 , it:  5\n",
            "[GD] 0 out of 15000 iterations, tol = 0.403037\n",
            "[GD] converged in 21 iterations\n",
            "Potential:  0.0011911961482837796 , PSNR:  35.067955676819736\n",
            "Potential like:  0.0005961578572168946 , Potential prior:  1.1690171957015991\n",
            "theta:  0.0005099650025756067 , it:  6\n",
            "[GD] 0 out of 15000 iterations, tol = 0.403037\n",
            "[GD] converged in 21 iterations\n",
            "Potential:  0.0011928228195756674 , PSNR:  35.06795566271683\n",
            "Potential like:  0.00059666478773579 , Potential prior:  1.1690176725387573\n",
            "theta:  0.0005103984325917094 , it:  7\n",
            "[GD] 0 out of 15000 iterations, tol = 0.403037\n",
            "[GD] converged in 21 iterations\n",
            "Potential:  0.0011932668276131153 , PSNR:  35.06795577987181\n",
            "Potential like:  0.0005966018652543426 , Potential prior:  1.169018030166626\n",
            "theta:  0.0005103444513762598 , it:  8\n",
            "[GD] 0 out of 15000 iterations, tol = 0.403037\n",
            "[GD] converged in 21 iterations\n",
            "Potential:  0.0011971264611929655 , PSNR:  35.067955685745474\n",
            "Potential like:  0.0006005248869769275 , Potential prior:  1.1690176725387573\n",
            "theta:  0.0005137004350608034 , it:  9\n"
          ]
        }
      ],
      "source": [
        "\n",
        "np_x = np.copy(x)\n",
        "\n",
        "out_iters = 10\n",
        "theta = 1e3 # theta_init\n",
        "potential = []\n",
        "potential_prior = []\n",
        "potential_likelihood = []\n",
        "psnr_list = []\n",
        "\n",
        "for it in range(out_iters):\n",
        "\n",
        "    x_hat = solve_x(\n",
        "        x_init,\n",
        "        g,\n",
        "        f,\n",
        "        model,\n",
        "        lmbd=theta,\n",
        "        mu=mu,\n",
        "        L_CRR=L_CRR,\n",
        "        options=options\n",
        "    )\n",
        "    potential.append(_fun_np(x_hat, model, mu, theta))\n",
        "    potential_prior.append(((theta/mu) * model.cost(mu * x_hat)).item())\n",
        "    potential_likelihood.append(g.fun(x_hat).item())\n",
        "    psnr_list.append(\n",
        "        psnr(np_x, to_numpy(x_hat), data_range=np_x.max()-np_x.min())\n",
        "    )\n",
        "    print('Potential: ', potential[it], ', PSNR: ', psnr_list[it])\n",
        "    print('Potential like: ', potential_likelihood[it], ', Potential prior: ', potential_prior[it])\n",
        "\n",
        "    new_theta = (potential_likelihood[it] / potential_prior[it])\n",
        "\n",
        "    # grad_theta = (-1/mu) * luq.utils.to_numpy(model.cost(x_hat/mu))\n",
        "    # alpha_theta = 1e2/(L_CRR)\n",
        "    # new_theta = theta - alpha_theta * grad_theta\n",
        "\n",
        "    theta = new_theta\n",
        "    print('theta: ', theta, ', it: ', it)\n",
        "    "
      ]
    },
    {
      "cell_type": "code",
      "execution_count": 81,
      "metadata": {},
      "outputs": [
        {
          "data": {
            "image/png": "[encoded data removed]",
            "text/plain": [
              "<Figure size 640x480 with 1 Axes>"
            ]
          },
          "metadata": {},
          "output_type": "display_data"
        },
        {
          "data": {
            "image/png": "[encoded data removed]",
            "text/plain": [
              "<Figure size 640x480 with 1 Axes>"
            ]
          },
          "metadata": {},
          "output_type": "display_data"
        }
      ],
      "source": [
        "plt.figure()\n",
        "plt.plot(potential, label='potential')\n",
        "plt.plot(potential_prior, label='potential_prior')\n",
        "plt.plot(potential_likelihood, label='potential_likelihood')\n",
        "plt.legend()\n",
        "plt.show()\n",
        "\n",
        "plt.figure()\n",
        "plt.plot(psnr_list, label='PSNR')\n",
        "# plt.plot(potential_prior, label='potential_prior')\n",
        "# plt.plot(potential_likelihood, label='potential_likelihood')\n",
        "plt.legend()\n",
        "plt.show()"
      ]
    },
    {
      "cell_type": "code",
      "execution_count": null,
      "metadata": {},
      "outputs": [],
      "source": [
        "\n",
        "\n"
      ]
    },
    {
      "cell_type": "code",
      "execution_count": null,
      "metadata": {},
      "outputs": [],
      "source": []
    },
    {
      "cell_type": "code",
      "execution_count": null,
      "metadata": {},
      "outputs": [],
      "source": []
    }
  ],
  "metadata": {
    "kernelspec": {
      "display_name": "convex_uq",
      "language": "python",
      "name": "python3"
    },
    "language_info": {
      "codemirror_mode": {
        "name": "ipython",
        "version": 3
      },
      "file_extension": ".py",
      "mimetype": "text/x-python",
      "name": "python",
      "nbconvert_exporter": "python",
      "pygments_lexer": "ipython3",
      "version": "3.9.16"
    },
    "vscode": {
      "interpreter": {
        "hash": "2bb75ebd6ceb1eff2ce987e124c91bc6f99e62fd1930d98a82dc138614104eef"
      }
    }
  },
  "nbformat": 4,
  "nbformat_minor": 0
}
